{
 "cells": [
  {
   "cell_type": "code",
   "execution_count": 2,
   "id": "f797dde9-c3bb-4b5f-a37d-20da94bb8a01",
   "metadata": {},
   "outputs": [],
   "source": [
    "import torch\n",
    "import os\n",
    "import tiktoken\n",
    "from tqdm import tqdm\n",
    "import torch.nn as nn\n",
    "import torch.nn.functional as F\n",
    "import json\n",
    "import os\n",
    "from tqdm import tqdm\n",
    "import tiktoken\n",
    "import h5py\n",
    "import numpy as np\n",
    "\n",
    "device = 'mps'\n",
    "enc = tiktoken.get_encoding('r50k_base')"
   ]
  },
  {
   "cell_type": "code",
   "execution_count": 49,
   "id": "9aec1725-0ea8-4939-be6e-bdab7779108d",
   "metadata": {},
   "outputs": [
    {
     "name": "stdout",
     "output_type": "stream",
     "text": [
      "/Volumes/External/EleutherAI_ThePile_v1/pile/val.jsonl.zst\n"
     ]
    },
    {
     "name": "stderr",
     "output_type": "stream",
     "text": [
      "  3%|▉                             | 214670/7021450 [02:04<1:05:32, 1730.87it/s]\n"
     ]
    }
   ],
   "source": [
    "import zstandard as zstd\n",
    "import json\n",
    "\n",
    "in_dir = \"/Volumes/External/EleutherAI_ThePile_v1/pile/\"\n",
    "out_file = \"/Users/jake/personal/monosemantic/data/pile_val.h5\"\n",
    "\n",
    "with h5py.File(out_file, 'w') as out_f:\n",
    "    dataset = out_f.create_dataset('tokens', (0,), maxshape=(None,), dtype='i')\n",
    "    start_index = 0\n",
    "    # for filename in sorted(os.listdir(in_dir)):\n",
    "    # for filename in \"00.jsonl.zst 01.jsonl.zst 02.jsonl.zst\".split():\n",
    "    for filename in [\"val.jsonl.zst\"]:\n",
    "        if filename in ['.DS_Store']:\n",
    "            continue\n",
    "        in_file = os.path.join(in_dir, filename)\n",
    "        print(in_file)\n",
    "        with zstd.open(in_file, 'r') as in_f:\n",
    "            for line in tqdm(in_f, total=7021450):\n",
    "                data = json.loads(line)\n",
    "                text = data['text'] + \"<|endoftext|>\"\n",
    "                encoded = enc.encode(text, allowed_special={'<|endoftext|>'})\n",
    "                encoded_len = len(encoded)\n",
    "                end_index = start_index + encoded_len\n",
    "                dataset.resize(dataset.shape[0] + encoded_len, axis=0)\n",
    "                dataset[start_index:end_index] = encoded\n",
    "                start_index = end_index\n",
    "\n"
   ]
  },
  {
   "cell_type": "code",
   "execution_count": null,
   "id": "787f8cd6-aa2f-4162-b0aa-4bfde2f00074",
   "metadata": {},
   "outputs": [],
   "source": [
    "for fname, text_split in zip(['data/pile_train.h5', 'data/pile_dev.h5'], [train_text, dev_text]):\n",
    "    with h5py.File(fname, 'w') as f:\n",
    "        dataset = f.create_dataset('indices', (0,), maxshape=(None,), dtype='i')\n",
    "        # Fill the dataset in chunks\n",
    "        start_index = 0\n",
    "        for i in tqdm(range((len(text_split) // chunk_size) + 1)):\n",
    "            encoded_chunk = enc.encode(text[i*chunk_size:(i+1)*chunk_size])\n",
    "            chunk_len = len(encoded_chunk)\n",
    "            end_index = start_index + chunk_len\n",
    "            dataset.resize(dataset.shape[0] + chunk_len, axis=0)\n",
    "            dataset[start_index:end_index] = encoded_chunk\n",
    "            start_index = end_index"
   ]
  },
  {
   "cell_type": "code",
   "execution_count": 42,
   "id": "e76e46d0-ca16-4d17-b751-95096f3f55f2",
   "metadata": {},
   "outputs": [
    {
     "name": "stdout",
     "output_type": "stream",
     "text": [
      "/Volumes/External/EleutherAI_ThePile_v1/pile/train/00.jsonl.zst\n"
     ]
    },
    {
     "name": "stderr",
     "output_type": "stream",
     "text": [
      "100001it [00:01, 71382.10it/s]                                                  \n"
     ]
    },
    {
     "name": "stdout",
     "output_type": "stream",
     "text": [
      "Pile-CC: 25.0095%\n",
      "OpenWebText2: 15.4657%\n",
      "StackExchange: 14.0007%\n",
      "PubMed Abstracts: 13.8337%\n",
      "Github: 8.6098%\n",
      "Wikipedia (en): 7.9398%\n",
      "USPTO Backgrounds: 5.3149%\n",
      "PubMed Central: 2.6399%\n",
      "FreeLaw: 2.4210%\n",
      "ArXiv: 1.0920%\n",
      "DM Mathematics: 0.8680%\n",
      "NIH ExPorter: 0.8620%\n",
      "HackerNews: 0.7290%\n",
      "Enron Emails: 0.4590%\n",
      "OpenSubtitles: 0.3140%\n",
      "YoutubeSubtitles: 0.1560%\n",
      "Books3: 0.1370%\n",
      "EuroParl: 0.0530%\n",
      "PhilPapers: 0.0340%\n",
      "Gutenberg (PG-19): 0.0330%\n",
      "BookCorpus2: 0.0170%\n",
      "Ubuntu IRC: 0.0110%\n",
      "/Volumes/External/EleutherAI_ThePile_v1/pile/train/01.jsonl.zst\n"
     ]
    },
    {
     "name": "stderr",
     "output_type": "stream",
     "text": [
      "100001it [00:01, 71815.82it/s]                                                  \n"
     ]
    },
    {
     "name": "stdout",
     "output_type": "stream",
     "text": [
      "Pile-CC: 24.8615%\n",
      "OpenWebText2: 15.3167%\n",
      "StackExchange: 14.1677%\n",
      "PubMed Abstracts: 13.9197%\n",
      "Github: 8.5998%\n",
      "Wikipedia (en): 8.0498%\n",
      "USPTO Backgrounds: 5.2689%\n",
      "PubMed Central: 2.6749%\n",
      "FreeLaw: 2.3280%\n",
      "ArXiv: 1.1610%\n",
      "DM Mathematics: 0.8990%\n",
      "NIH ExPorter: 0.8440%\n",
      "HackerNews: 0.7260%\n",
      "Enron Emails: 0.4580%\n",
      "OpenSubtitles: 0.2840%\n",
      "YoutubeSubtitles: 0.1650%\n",
      "Books3: 0.1400%\n",
      "EuroParl: 0.0470%\n",
      "PhilPapers: 0.0370%\n",
      "Gutenberg (PG-19): 0.0280%\n",
      "BookCorpus2: 0.0150%\n",
      "Ubuntu IRC: 0.0090%\n",
      "/Volumes/External/EleutherAI_ThePile_v1/pile/train/02.jsonl.zst\n"
     ]
    },
    {
     "name": "stderr",
     "output_type": "stream",
     "text": [
      "100001it [00:01, 71885.39it/s]                                                  \n"
     ]
    },
    {
     "name": "stdout",
     "output_type": "stream",
     "text": [
      "Pile-CC: 24.9845%\n",
      "OpenWebText2: 15.4577%\n",
      "StackExchange: 13.9797%\n",
      "PubMed Abstracts: 13.8597%\n",
      "Github: 8.4928%\n",
      "Wikipedia (en): 8.0188%\n",
      "USPTO Backgrounds: 5.3139%\n",
      "PubMed Central: 2.6839%\n",
      "FreeLaw: 2.4350%\n",
      "ArXiv: 1.1510%\n",
      "DM Mathematics: 0.8870%\n",
      "NIH ExPorter: 0.8480%\n",
      "HackerNews: 0.7450%\n",
      "Enron Emails: 0.4380%\n",
      "OpenSubtitles: 0.2850%\n",
      "YoutubeSubtitles: 0.1570%\n",
      "Books3: 0.1290%\n",
      "EuroParl: 0.0660%\n",
      "PhilPapers: 0.0250%\n",
      "Gutenberg (PG-19): 0.0250%\n",
      "Ubuntu IRC: 0.0110%\n",
      "BookCorpus2: 0.0070%\n",
      "/Volumes/External/EleutherAI_ThePile_v1/pile/train/03.jsonl.zst\n"
     ]
    },
    {
     "name": "stderr",
     "output_type": "stream",
     "text": [
      "100001it [00:04, 20394.38it/s]                                                  \n"
     ]
    },
    {
     "name": "stdout",
     "output_type": "stream",
     "text": [
      "Pile-CC: 24.8615%\n",
      "OpenWebText2: 15.1887%\n",
      "PubMed Abstracts: 14.0647%\n",
      "StackExchange: 13.9597%\n",
      "Github: 8.6838%\n",
      "Wikipedia (en): 8.0008%\n",
      "USPTO Backgrounds: 5.2339%\n",
      "PubMed Central: 2.7389%\n",
      "FreeLaw: 2.3950%\n",
      "ArXiv: 1.1370%\n",
      "DM Mathematics: 0.9070%\n",
      "NIH ExPorter: 0.8930%\n",
      "HackerNews: 0.7540%\n",
      "Enron Emails: 0.4330%\n",
      "OpenSubtitles: 0.3200%\n",
      "YoutubeSubtitles: 0.1510%\n",
      "Books3: 0.1320%\n",
      "EuroParl: 0.0700%\n",
      "PhilPapers: 0.0310%\n",
      "Gutenberg (PG-19): 0.0250%\n",
      "BookCorpus2: 0.0120%\n",
      "Ubuntu IRC: 0.0080%\n",
      "/Volumes/External/EleutherAI_ThePile_v1/pile/train/04.jsonl.zst\n"
     ]
    },
    {
     "name": "stderr",
     "output_type": "stream",
     "text": [
      "100001it [00:05, 17732.18it/s]                                                  \n"
     ]
    },
    {
     "name": "stdout",
     "output_type": "stream",
     "text": [
      "Pile-CC: 24.6345%\n",
      "OpenWebText2: 15.4837%\n",
      "StackExchange: 14.2317%\n",
      "PubMed Abstracts: 13.8967%\n",
      "Github: 8.6108%\n",
      "Wikipedia (en): 8.0878%\n",
      "USPTO Backgrounds: 5.3059%\n",
      "PubMed Central: 2.6679%\n",
      "FreeLaw: 2.4130%\n",
      "ArXiv: 1.1230%\n",
      "DM Mathematics: 0.8290%\n",
      "NIH ExPorter: 0.8140%\n",
      "HackerNews: 0.7390%\n",
      "Enron Emails: 0.4440%\n",
      "OpenSubtitles: 0.2780%\n",
      "YoutubeSubtitles: 0.1530%\n",
      "Books3: 0.1450%\n",
      "EuroParl: 0.0550%\n",
      "Gutenberg (PG-19): 0.0370%\n",
      "PhilPapers: 0.0250%\n",
      "BookCorpus2: 0.0160%\n",
      "Ubuntu IRC: 0.0100%\n",
      "/Volumes/External/EleutherAI_ThePile_v1/pile/train/05.jsonl.zst\n"
     ]
    },
    {
     "name": "stderr",
     "output_type": "stream",
     "text": [
      "100001it [00:05, 17220.74it/s]                                                  \n"
     ]
    },
    {
     "name": "stdout",
     "output_type": "stream",
     "text": [
      "Pile-CC: 24.9685%\n",
      "OpenWebText2: 15.4247%\n",
      "StackExchange: 14.0857%\n",
      "PubMed Abstracts: 13.8277%\n",
      "Github: 8.4878%\n",
      "Wikipedia (en): 8.1338%\n",
      "USPTO Backgrounds: 5.2139%\n",
      "PubMed Central: 2.6769%\n",
      "FreeLaw: 2.3920%\n",
      "ArXiv: 1.1590%\n",
      "DM Mathematics: 0.8940%\n",
      "NIH ExPorter: 0.7990%\n",
      "HackerNews: 0.7800%\n",
      "Enron Emails: 0.4360%\n",
      "OpenSubtitles: 0.3160%\n",
      "YoutubeSubtitles: 0.1490%\n",
      "Books3: 0.1160%\n",
      "EuroParl: 0.0580%\n",
      "PhilPapers: 0.0340%\n",
      "Gutenberg (PG-19): 0.0260%\n",
      "Ubuntu IRC: 0.0120%\n",
      "BookCorpus2: 0.0100%\n",
      "/Volumes/External/EleutherAI_ThePile_v1/pile/train/06.jsonl.zst\n"
     ]
    },
    {
     "name": "stderr",
     "output_type": "stream",
     "text": [
      "100001it [00:05, 17297.24it/s]                                                  \n"
     ]
    },
    {
     "name": "stdout",
     "output_type": "stream",
     "text": [
      "Pile-CC: 24.9535%\n",
      "OpenWebText2: 15.4467%\n",
      "PubMed Abstracts: 14.0207%\n",
      "StackExchange: 13.9427%\n",
      "Github: 8.4598%\n",
      "Wikipedia (en): 8.0488%\n",
      "USPTO Backgrounds: 5.2899%\n",
      "PubMed Central: 2.7219%\n",
      "FreeLaw: 2.2810%\n",
      "ArXiv: 1.1280%\n",
      "DM Mathematics: 0.9080%\n",
      "NIH ExPorter: 0.8620%\n",
      "HackerNews: 0.7370%\n",
      "Enron Emails: 0.4520%\n",
      "OpenSubtitles: 0.3190%\n",
      "YoutubeSubtitles: 0.1490%\n",
      "Books3: 0.1390%\n",
      "EuroParl: 0.0640%\n",
      "Gutenberg (PG-19): 0.0330%\n",
      "PhilPapers: 0.0250%\n",
      "Ubuntu IRC: 0.0110%\n",
      "BookCorpus2: 0.0080%\n",
      "/Volumes/External/EleutherAI_ThePile_v1/pile/train/07.jsonl.zst\n"
     ]
    },
    {
     "name": "stderr",
     "output_type": "stream",
     "text": [
      " 35%|███████████▌                     | 35062/100000 [00:02<00:04, 15702.79it/s]\n"
     ]
    },
    {
     "ename": "KeyboardInterrupt",
     "evalue": "",
     "output_type": "error",
     "traceback": [
      "\u001b[0;31m---------------------------------------------------------------------------\u001b[0m",
      "\u001b[0;31mKeyboardInterrupt\u001b[0m                         Traceback (most recent call last)",
      "Cell \u001b[0;32mIn[42], line 12\u001b[0m\n\u001b[1;32m     10\u001b[0m set_counts \u001b[38;5;241m=\u001b[39m {}\n\u001b[1;32m     11\u001b[0m \u001b[38;5;28;01mfor\u001b[39;00m i, line \u001b[38;5;129;01min\u001b[39;00m tqdm(\u001b[38;5;28menumerate\u001b[39m(in_f), total\u001b[38;5;241m=\u001b[39m\u001b[38;5;241m100000\u001b[39m):\n\u001b[0;32m---> 12\u001b[0m     data \u001b[38;5;241m=\u001b[39m \u001b[43mjson\u001b[49m\u001b[38;5;241;43m.\u001b[39;49m\u001b[43mloads\u001b[49m\u001b[43m(\u001b[49m\u001b[43mline\u001b[49m\u001b[43m)\u001b[49m\n\u001b[1;32m     13\u001b[0m     set_name \u001b[38;5;241m=\u001b[39m data[\u001b[38;5;124m'\u001b[39m\u001b[38;5;124mmeta\u001b[39m\u001b[38;5;124m'\u001b[39m][\u001b[38;5;124m'\u001b[39m\u001b[38;5;124mpile_set_name\u001b[39m\u001b[38;5;124m'\u001b[39m]\n\u001b[1;32m     14\u001b[0m     \u001b[38;5;28;01mif\u001b[39;00m set_counts\u001b[38;5;241m.\u001b[39mget(set_name):\n",
      "File \u001b[0;32m~/.pyenv/versions/3.10.10/lib/python3.10/json/__init__.py:346\u001b[0m, in \u001b[0;36mloads\u001b[0;34m(s, cls, object_hook, parse_float, parse_int, parse_constant, object_pairs_hook, **kw)\u001b[0m\n\u001b[1;32m    341\u001b[0m     s \u001b[38;5;241m=\u001b[39m s\u001b[38;5;241m.\u001b[39mdecode(detect_encoding(s), \u001b[38;5;124m'\u001b[39m\u001b[38;5;124msurrogatepass\u001b[39m\u001b[38;5;124m'\u001b[39m)\n\u001b[1;32m    343\u001b[0m \u001b[38;5;28;01mif\u001b[39;00m (\u001b[38;5;28mcls\u001b[39m \u001b[38;5;129;01mis\u001b[39;00m \u001b[38;5;28;01mNone\u001b[39;00m \u001b[38;5;129;01mand\u001b[39;00m object_hook \u001b[38;5;129;01mis\u001b[39;00m \u001b[38;5;28;01mNone\u001b[39;00m \u001b[38;5;129;01mand\u001b[39;00m\n\u001b[1;32m    344\u001b[0m         parse_int \u001b[38;5;129;01mis\u001b[39;00m \u001b[38;5;28;01mNone\u001b[39;00m \u001b[38;5;129;01mand\u001b[39;00m parse_float \u001b[38;5;129;01mis\u001b[39;00m \u001b[38;5;28;01mNone\u001b[39;00m \u001b[38;5;129;01mand\u001b[39;00m\n\u001b[1;32m    345\u001b[0m         parse_constant \u001b[38;5;129;01mis\u001b[39;00m \u001b[38;5;28;01mNone\u001b[39;00m \u001b[38;5;129;01mand\u001b[39;00m object_pairs_hook \u001b[38;5;129;01mis\u001b[39;00m \u001b[38;5;28;01mNone\u001b[39;00m \u001b[38;5;129;01mand\u001b[39;00m \u001b[38;5;129;01mnot\u001b[39;00m kw):\n\u001b[0;32m--> 346\u001b[0m     \u001b[38;5;28;01mreturn\u001b[39;00m \u001b[43m_default_decoder\u001b[49m\u001b[38;5;241;43m.\u001b[39;49m\u001b[43mdecode\u001b[49m\u001b[43m(\u001b[49m\u001b[43ms\u001b[49m\u001b[43m)\u001b[49m\n\u001b[1;32m    347\u001b[0m \u001b[38;5;28;01mif\u001b[39;00m \u001b[38;5;28mcls\u001b[39m \u001b[38;5;129;01mis\u001b[39;00m \u001b[38;5;28;01mNone\u001b[39;00m:\n\u001b[1;32m    348\u001b[0m     \u001b[38;5;28mcls\u001b[39m \u001b[38;5;241m=\u001b[39m JSONDecoder\n",
      "File \u001b[0;32m~/.pyenv/versions/3.10.10/lib/python3.10/json/decoder.py:338\u001b[0m, in \u001b[0;36mJSONDecoder.decode\u001b[0;34m(self, s, _w)\u001b[0m\n\u001b[1;32m    333\u001b[0m \u001b[38;5;250m\u001b[39m\u001b[38;5;124;03m\"\"\"Return the Python representation of ``s`` (a ``str`` instance\u001b[39;00m\n\u001b[1;32m    334\u001b[0m \u001b[38;5;124;03mcontaining a JSON document).\u001b[39;00m\n\u001b[1;32m    335\u001b[0m \n\u001b[1;32m    336\u001b[0m \u001b[38;5;124;03m\"\"\"\u001b[39;00m\n\u001b[1;32m    337\u001b[0m obj, end \u001b[38;5;241m=\u001b[39m \u001b[38;5;28mself\u001b[39m\u001b[38;5;241m.\u001b[39mraw_decode(s, idx\u001b[38;5;241m=\u001b[39m_w(s, \u001b[38;5;241m0\u001b[39m)\u001b[38;5;241m.\u001b[39mend())\n\u001b[0;32m--> 338\u001b[0m end \u001b[38;5;241m=\u001b[39m \u001b[43m_w\u001b[49m\u001b[43m(\u001b[49m\u001b[43ms\u001b[49m\u001b[43m,\u001b[49m\u001b[43m \u001b[49m\u001b[43mend\u001b[49m\u001b[43m)\u001b[49m\u001b[38;5;241m.\u001b[39mend()\n\u001b[1;32m    339\u001b[0m \u001b[38;5;28;01mif\u001b[39;00m end \u001b[38;5;241m!=\u001b[39m \u001b[38;5;28mlen\u001b[39m(s):\n\u001b[1;32m    340\u001b[0m     \u001b[38;5;28;01mraise\u001b[39;00m JSONDecodeError(\u001b[38;5;124m\"\u001b[39m\u001b[38;5;124mExtra data\u001b[39m\u001b[38;5;124m\"\u001b[39m, s, end)\n",
      "\u001b[0;31mKeyboardInterrupt\u001b[0m: "
     ]
    }
   ],
   "source": [
    "in_dir = \"/Volumes/External/EleutherAI_ThePile_v1/pile/train/\"\n",
    "\n",
    "\n",
    "for filename in sorted(os.listdir(in_dir)):\n",
    "    if filename in ['.DS_Store']:\n",
    "        continue\n",
    "    in_file = os.path.join(in_dir, filename)\n",
    "    print(in_file)\n",
    "    with zstd.open(in_file, 'r') as in_f:\n",
    "        set_counts = {}\n",
    "        for i, line in tqdm(enumerate(in_f), total=100000):\n",
    "            data = json.loads(line)\n",
    "            set_name = data['meta']['pile_set_name']\n",
    "            if set_counts.get(set_name):\n",
    "                set_counts[set_name] += 1\n",
    "            else:\n",
    "                set_counts[set_name] = 1\n",
    "            if i > 100000:\n",
    "                break\n",
    "        total = sum(set_counts.values())\n",
    "        print('\\n'.join(sorted([f\"{name}: {count/total*100:.4f}%\" for name, count in set_counts.items()], key=lambda n: -float(n.split()[-1][:-1]))))"
   ]
  },
  {
   "cell_type": "code",
   "execution_count": 26,
   "id": "3c279448-193d-46b6-8889-b2aa39fdef93",
   "metadata": {},
   "outputs": [
    {
     "data": {
      "text/plain": [
       "{'Pile-CC': 341014,\n",
       " 'Github': 116996,\n",
       " 'OpenWebText2': 210866,\n",
       " 'StackExchange': 191107,\n",
       " 'Wikipedia (en)': 109756,\n",
       " 'PubMed Abstracts': 189450,\n",
       " 'USPTO Backgrounds': 72053,\n",
       " 'FreeLaw': 32604,\n",
       " 'PubMed Central': 36868,\n",
       " 'Enron Emails': 5930,\n",
       " 'HackerNews': 10057,\n",
       " 'NIH ExPorter': 11515,\n",
       " 'Books3': 1841,\n",
       " 'ArXiv': 15493,\n",
       " 'DM Mathematics': 12310,\n",
       " 'OpenSubtitles': 4054,\n",
       " 'BookCorpus2': 170,\n",
       " 'Ubuntu IRC': 119,\n",
       " 'YoutubeSubtitles': 2200,\n",
       " 'EuroParl': 826,\n",
       " 'PhilPapers': 430,\n",
       " 'Gutenberg (PG-19)': 431}"
      ]
     },
     "execution_count": 26,
     "metadata": {},
     "output_type": "execute_result"
    }
   ],
   "source": [
    "set_counts"
   ]
  },
  {
   "cell_type": "code",
   "execution_count": 30,
   "id": "c673919c-3ba0-4eeb-a125-4204db4a5615",
   "metadata": {},
   "outputs": [
    {
     "data": {
      "text/plain": [
       "{'Pile-CC': '24.9628%',\n",
       " 'Github': '8.5643%',\n",
       " 'OpenWebText2': '15.4357%',\n",
       " 'StackExchange': '13.9893%',\n",
       " 'Wikipedia (en)': '8.0343%',\n",
       " 'PubMed Abstracts': '13.8680%',\n",
       " 'USPTO Backgrounds': '5.2744%',\n",
       " 'FreeLaw': '2.3867%',\n",
       " 'PubMed Central': '2.6988%',\n",
       " 'Enron Emails': '0.4341%',\n",
       " 'HackerNews': '0.7362%',\n",
       " 'NIH ExPorter': '0.8429%',\n",
       " 'Books3': '0.1348%',\n",
       " 'ArXiv': '1.1341%',\n",
       " 'DM Mathematics': '0.9011%',\n",
       " 'OpenSubtitles': '0.2968%',\n",
       " 'BookCorpus2': '0.0124%',\n",
       " 'Ubuntu IRC': '0.0087%',\n",
       " 'YoutubeSubtitles': '0.1610%',\n",
       " 'EuroParl': '0.0605%',\n",
       " 'PhilPapers': '0.0315%',\n",
       " 'Gutenberg (PG-19)': '0.0315%'}"
      ]
     },
     "execution_count": 30,
     "metadata": {},
     "output_type": "execute_result"
    }
   ],
   "source": [
    "total = sum(set_counts.values())\n",
    "\n",
    "{name: f\"{count/total*100:.4f}%\" for name, count in set_counts.items()}"
   ]
  },
  {
   "cell_type": "code",
   "execution_count": null,
   "id": "d60f806c-cb9d-4e2d-8d23-dfe58bf8fe1e",
   "metadata": {},
   "outputs": [],
   "source": []
  }
 ],
 "metadata": {
  "kernelspec": {
   "display_name": "Python 3 (ipykernel)",
   "language": "python",
   "name": "python3"
  },
  "language_info": {
   "codemirror_mode": {
    "name": "ipython",
    "version": 3
   },
   "file_extension": ".py",
   "mimetype": "text/x-python",
   "name": "python",
   "nbconvert_exporter": "python",
   "pygments_lexer": "ipython3",
   "version": "3.10.10"
  }
 },
 "nbformat": 4,
 "nbformat_minor": 5
}
