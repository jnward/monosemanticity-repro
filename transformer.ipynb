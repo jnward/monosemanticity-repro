{
 "cells": [
  {
   "cell_type": "code",
   "execution_count": 5,
   "id": "326f874c-d981-440e-a46f-b7a6e0c15efc",
   "metadata": {},
   "outputs": [],
   "source": [
    "import torch\n",
    "import os\n",
    "import tiktoken\n",
    "from tqdm import tqdm\n",
    "import torch.nn as nn\n",
    "import torch.nn.functional as F\n",
    "\n",
    "device = 'mps'"
   ]
  },
  {
   "cell_type": "code",
   "execution_count": 6,
   "id": "a180d5d8-9cb4-45d9-9d49-6b4a8cb7932f",
   "metadata": {},
   "outputs": [
    {
     "data": {
      "text/plain": [
       "'2.2.0.dev20231129'"
      ]
     },
     "execution_count": 6,
     "metadata": {},
     "output_type": "execute_result"
    }
   ],
   "source": [
    "torch.__version__"
   ]
  },
  {
   "cell_type": "code",
   "execution_count": 3,
   "id": "081d7535-b8af-466d-a19f-a5ac3307a8d4",
   "metadata": {},
   "outputs": [
    {
     "name": "stderr",
     "output_type": "stream",
     "text": [
      "  2%|▊                                          | 3/151 [00:00<00:08, 17.13it/s]"
     ]
    },
    {
     "name": "stdout",
     "output_type": "stream",
     "text": [
      "could not read all_documents for .DS_Store, trying inbox...\n"
     ]
    },
    {
     "name": "stderr",
     "output_type": "stream",
     "text": [
      "  6%|██▌                                        | 9/151 [00:00<00:16,  8.68it/s]"
     ]
    },
    {
     "name": "stdout",
     "output_type": "stream",
     "text": [
      "could not read all_documents for blair-l, trying inbox...\n"
     ]
    },
    {
     "name": "stderr",
     "output_type": "stream",
     "text": [
      " 11%|████▋                                     | 17/151 [00:01<00:09, 14.68it/s]"
     ]
    },
    {
     "name": "stdout",
     "output_type": "stream",
     "text": [
      "could not read all_documents for causholli-m, trying inbox...\n",
      "could not read all_documents for crandell-s, trying inbox...\n"
     ]
    },
    {
     "name": "stderr",
     "output_type": "stream",
     "text": [
      " 20%|████████▎                                 | 30/151 [00:03<00:11, 10.11it/s]"
     ]
    },
    {
     "name": "stdout",
     "output_type": "stream",
     "text": [
      "could not read all_documents for donoho-l, trying inbox...\n"
     ]
    },
    {
     "name": "stderr",
     "output_type": "stream",
     "text": [
      " 23%|█████████▋                                | 35/151 [00:03<00:12,  9.12it/s]"
     ]
    },
    {
     "name": "stdout",
     "output_type": "stream",
     "text": [
      "could not read all_documents for forney-j, trying inbox...\n",
      "could not read all_documents for gang-l, trying inbox...\n",
      "could not read all_documents for geaccone-t, trying inbox...\n"
     ]
    },
    {
     "name": "stderr",
     "output_type": "stream",
     "text": [
      " 33%|█████████████▉                            | 50/151 [00:05<00:09, 10.90it/s]"
     ]
    },
    {
     "name": "stdout",
     "output_type": "stream",
     "text": [
      "could not read all_documents for harris-s, trying inbox...\n",
      "could not read all_documents for holst-k, trying inbox...\n"
     ]
    },
    {
     "name": "stderr",
     "output_type": "stream",
     "text": [
      " 35%|██████████████▋                           | 53/151 [00:05<00:07, 13.13it/s]"
     ]
    },
    {
     "name": "stdout",
     "output_type": "stream",
     "text": [
      "could not read all_documents for hyatt-k, trying inbox...\n"
     ]
    },
    {
     "name": "stderr",
     "output_type": "stream",
     "text": [
      " 42%|█████████████████▊                        | 64/151 [00:08<00:15,  5.63it/s]"
     ]
    },
    {
     "name": "stdout",
     "output_type": "stream",
     "text": [
      "could not read all_documents for keiser-k, trying inbox...\n",
      "could not read all_documents for kitchen-l, trying inbox...\n"
     ]
    },
    {
     "name": "stderr",
     "output_type": "stream",
     "text": [
      " 48%|████████████████████                      | 72/151 [00:09<00:09,  8.14it/s]"
     ]
    },
    {
     "name": "stdout",
     "output_type": "stream",
     "text": [
      "could not read all_documents for lokey-t, trying inbox...\n",
      "could not read all_documents for lucci-p, trying inbox...\n"
     ]
    },
    {
     "name": "stderr",
     "output_type": "stream",
     "text": [
      " 52%|█████████████████████▋                    | 78/151 [00:10<00:09,  7.38it/s]"
     ]
    },
    {
     "name": "stdout",
     "output_type": "stream",
     "text": [
      "could not read all_documents for mccarty-d, trying inbox...\n",
      "could not read all_documents for mckay-j, trying inbox...\n"
     ]
    },
    {
     "name": "stderr",
     "output_type": "stream",
     "text": [
      " 54%|██████████████████████▊                   | 82/151 [00:10<00:06, 10.43it/s]"
     ]
    },
    {
     "name": "stdout",
     "output_type": "stream",
     "text": [
      "could not read all_documents for meyers-a, trying inbox...\n",
      "could not read all_documents for motley-m, trying inbox...\n"
     ]
    },
    {
     "name": "stderr",
     "output_type": "stream",
     "text": [
      " 58%|████████████████████████▏                 | 87/151 [00:11<00:06,  9.23it/s]"
     ]
    },
    {
     "name": "stdout",
     "output_type": "stream",
     "text": [
      "could not read all_documents for parks-j, trying inbox...\n"
     ]
    },
    {
     "name": "stderr",
     "output_type": "stream",
     "text": [
      " 66%|███████████████████████████▌              | 99/151 [00:11<00:03, 17.21it/s]"
     ]
    },
    {
     "name": "stdout",
     "output_type": "stream",
     "text": [
      "could not read all_documents for phanis-s, trying inbox...\n",
      "could not read all_documents for platter-p, trying inbox...\n",
      "could not read all_documents for quigley-d, trying inbox...\n",
      "could not read all_documents for rapp-b, trying inbox...\n",
      "could not read all_documents for reitmeyer-j, trying inbox...\n",
      "could not read all_documents for richey-c, trying inbox...\n",
      "could not read all_documents for ring-r, trying inbox...\n"
     ]
    },
    {
     "name": "stderr",
     "output_type": "stream",
     "text": [
      " 71%|█████████████████████████████            | 107/151 [00:12<00:02, 15.12it/s]"
     ]
    },
    {
     "name": "stdout",
     "output_type": "stream",
     "text": [
      "could not read all_documents for salisbury-h, trying inbox...\n"
     ]
    },
    {
     "name": "stderr",
     "output_type": "stream",
     "text": [
      " 73%|█████████████████████████████▊           | 110/151 [00:13<00:03, 11.02it/s]"
     ]
    },
    {
     "name": "stdout",
     "output_type": "stream",
     "text": [
      "could not read all_documents for scholtes-d, trying inbox...\n",
      "could not read all_documents for schoolcraft-d, trying inbox...\n"
     ]
    },
    {
     "name": "stderr",
     "output_type": "stream",
     "text": [
      " 75%|██████████████████████████████▉          | 114/151 [00:13<00:03, 12.27it/s]"
     ]
    },
    {
     "name": "stdout",
     "output_type": "stream",
     "text": [
      "could not read all_documents for semperger-c, trying inbox...\n"
     ]
    },
    {
     "name": "stderr",
     "output_type": "stream",
     "text": [
      " 79%|████████████████████████████████▌        | 120/151 [00:14<00:04,  7.39it/s]"
     ]
    },
    {
     "name": "stdout",
     "output_type": "stream",
     "text": [
      "could not read all_documents for slinger-r, trying inbox...\n",
      "could not read all_documents for solberg-g, trying inbox...\n",
      "could not read all_documents for staab-t, trying inbox...\n"
     ]
    },
    {
     "name": "stderr",
     "output_type": "stream",
     "text": [
      " 87%|███████████████████████████████████▊     | 132/151 [00:15<00:01, 17.09it/s]"
     ]
    },
    {
     "name": "stdout",
     "output_type": "stream",
     "text": [
      "could not read all_documents for steffes-j, trying inbox...\n",
      "could not read all_documents for stokley-c, trying inbox...\n",
      "could not read all_documents for swerzbin-m, trying inbox...\n"
     ]
    },
    {
     "name": "stderr",
     "output_type": "stream",
     "text": [
      " 93%|██████████████████████████████████████   | 140/151 [00:16<00:01, 10.69it/s]"
     ]
    },
    {
     "name": "stdout",
     "output_type": "stream",
     "text": [
      "could not read all_documents for thomas-p, trying inbox...\n",
      "could not read all_documents for watson-k, trying inbox...\n"
     ]
    },
    {
     "name": "stderr",
     "output_type": "stream",
     "text": [
      "100%|█████████████████████████████████████████| 151/151 [00:16<00:00,  9.09it/s]"
     ]
    },
    {
     "name": "stdout",
     "output_type": "stream",
     "text": [
      "could not read all_documents for whitt-m, trying inbox...\n",
      "could not read all_documents for williams-w3, trying inbox...\n"
     ]
    },
    {
     "name": "stderr",
     "output_type": "stream",
     "text": [
      "\n"
     ]
    }
   ],
   "source": [
    "text_dir = \"maildir\"\n",
    "out_file = \"data/all.txt\"\n",
    "os.makedirs('data', exist_ok=True)\n",
    "\n",
    "with open(out_file, 'w+') as out_f:\n",
    "    for employee in tqdm(sorted(os.listdir(text_dir))):\n",
    "        path = os.path.join(text_dir, employee, \"all_documents\")\n",
    "        if not os.path.exists(path):\n",
    "            print(f\"could not read all_documents for {employee}, trying inbox...\")\n",
    "            path = os.path.join(text_dir, employee, \"inbox\")\n",
    "            if not os.path.exists(path):\n",
    "                continue\n",
    "        for fname in os.listdir(path):\n",
    "            try:\n",
    "                with open(os.path.join(path, fname), \"r\") as in_f:\n",
    "                    out_f.write(in_f.read())\n",
    "            except Exception as e:\n",
    "                pass"
   ]
  },
  {
   "cell_type": "code",
   "execution_count": 4,
   "id": "33dcb6c2-f36a-4714-98f8-d42adeca39c3",
   "metadata": {},
   "outputs": [
    {
     "name": "stdout",
     "output_type": "stream",
     "text": [
      "Message-ID: <5161987.1075855666285.JavaMail.evans@thyme>\n",
      "Date: Tue, 12 Dec 2000 05:27:00 -0800 (PST)\n",
      "From: jsmith@austintx.com\n",
      "To: phillip.k.allen@enron.com\n",
      "Subject: RE: stage coach\n",
      "Mime-Version: 1.0\n",
      "Content-Type: text/plain; charset=us-ascii\n",
      "Content-Transfer-Encoding: 7bit\n",
      "X-From: \"Jeff Smith\" <jsmith@austintx.com>\n",
      "X-To: <Phillip.K.Allen@enron.com>\n",
      "X-cc: \n",
      "X-bcc: \n",
      "X-Folder: \\Phillip_Allen_Dec2000\\Notes Folders\\All documents\n",
      "X-Origin: Allen-P\n",
      "X-FileName: pallen.nsf\n",
      "\n",
      "Phillip,\n",
      "\n",
      "I am completing my marketing package for the Stage.  I also need the 1999\n",
      "statement and a rent roll.  Please send ASAP.\n",
      "\n",
      "352202027\n"
     ]
    }
   ],
   "source": [
    "out_file = \"data/all.txt\"\n",
    "\n",
    "with open(out_file, 'r') as data_f:\n",
    "    text = data_f.read()\n",
    "\n",
    "print(text[:600])\n",
    "print(len(text))"
   ]
  },
  {
   "cell_type": "code",
   "execution_count": 7,
   "id": "9f8bc022-ce65-46ff-aff2-e4a2052034bf",
   "metadata": {},
   "outputs": [
    {
     "name": "stdout",
     "output_type": "stream",
     "text": [
      "122526421\n",
      "[12837, 12, 2389, 25, 1279, 47493, 27301, 13, 940, 38569, 2816, 27310, 26279, 13, 29584, 25804, 13, 1990, 504, 31, 20057, 1326, 29, 198, 10430, 25, 30030, 11, 1105, 4280, 4751, 8870, 25, 1983, 25, 405, 532, 2919, 405, 357, 47, 2257, 8, 198, 4863, 25, 474, 21453, 31, 64, 436, 600, 87, 13, 785, 198, 2514, 25, 872, 359, 541, 13, 74, 13, 439, 268, 31, 268, 1313, 13, 785, 198, 19776, 25, 4526, 25, 3800, 3985, 198, 44, 524, 12, 14815, 25, 352, 13, 15, 198, 19746, 12, 6030, 25, 2420, 14, 25638, 26, 34534, 316, 28, 385]\n"
     ]
    }
   ],
   "source": [
    "enc = tiktoken.get_encoding('r50k_base')\n",
    "encoded = enc.encode(text)\n",
    "print(len(encoded))\n",
    "print(encoded[:100])"
   ]
  },
  {
   "cell_type": "code",
   "execution_count": 8,
   "id": "cc75f250-26c7-480b-9e5f-dd7368ecb415",
   "metadata": {},
   "outputs": [
    {
     "name": "stdout",
     "output_type": "stream",
     "text": [
      "Train: 110273778, Dev: 12252643\n"
     ]
    }
   ],
   "source": [
    "data = torch.tensor(encoded, dtype=torch.long)\n",
    "n = int(0.9 * len(data))\n",
    "train_data = data[:n]\n",
    "dev_data = data[n:]\n",
    "print(f\"Train: {len(train_data)}, Dev: {len(dev_data)}\")"
   ]
  },
  {
   "cell_type": "code",
   "execution_count": 9,
   "id": "58fb1067-c5bf-499b-aebd-6affd9397d39",
   "metadata": {},
   "outputs": [
    {
     "data": {
      "text/plain": [
       "torch.Size([8, 128])"
      ]
     },
     "execution_count": 9,
     "metadata": {},
     "output_type": "execute_result"
    }
   ],
   "source": [
    "torch.manual_seed(1)\n",
    "\n",
    "context_length = 128\n",
    "batch_size = 8\n",
    "\n",
    "def get_batch(split, batch_size=batch_size):\n",
    "    data = train_data if split == 'train' else dev_data\n",
    "    ix = torch.randint(len(data) - context_length, (batch_size,))\n",
    "    x = torch.stack([data[i:i+context_length] for i in ix])\n",
    "    y = torch.stack([data[i+1:i+context_length+1] for i in ix])\n",
    "    x = x.to(device)\n",
    "    y = y.to(device)\n",
    "    return x, y\n",
    "\n",
    "get_batch('train')[0].shape"
   ]
  },
  {
   "cell_type": "code",
   "execution_count": 468,
   "id": "d8f74d0b-7121-48f3-91f3-f6a0c11ea40e",
   "metadata": {},
   "outputs": [],
   "source": [
    "# head_size = 16\n",
    "import math\n",
    "\n",
    "torch.manual_seed(1)\n",
    "n_head = 4\n",
    "\n",
    "\n",
    "class MLP(nn.Module):\n",
    "    def __init__(self):\n",
    "        super().__init__()\n",
    "        self.hidden = nn.Linear(n_embed, 4*n_embed)\n",
    "        self.relu = nn.ReLU()\n",
    "        self.proj = nn.Linear(4*n_embed, n_embed)\n",
    "\n",
    "    def forward(self, x):\n",
    "        x = self.forward_embedding(x)\n",
    "        x = self.project_embedding(x)\n",
    "        return x\n",
    "\n",
    "    def forward_embedding(self, x):\n",
    "        x = self.relu(self.hidden(x))\n",
    "        return x\n",
    "\n",
    "    def project_embedding(self, x):\n",
    "        x = self.proj(x)\n",
    "        return x\n",
    "        \n",
    "\n",
    "class Head(nn.Module):\n",
    "    def __init__(self, head_size):\n",
    "        super().__init__()\n",
    "        self.key = nn.Linear(n_embed, head_size, bias=False)\n",
    "        self.query = nn.Linear(n_embed, head_size, bias=False)\n",
    "        self.value = nn.Linear(n_embed, head_size, bias=False)\n",
    "        self.register_buffer('tril', torch.tril(torch.ones(context_length, context_length)))\n",
    "\n",
    "    def forward(self, x):\n",
    "        # out = nn.scaled_dot_product_attention(self.key, self.query, self.value, causal=True)\n",
    "        # return out\n",
    "\n",
    "        B, T, C = x.shape\n",
    "        k = self.key(x)\n",
    "        q = self.query(x)\n",
    "        scale_factor = 1 / math.sqrt(C)\n",
    "        attn_weights = q @ k.transpose(-2, -1) * scale_factor\n",
    "        attn_weights = attn_weights.masked_fill(self.tril[:T, :T] == 0, float('-inf'))\n",
    "        attn_weights = F.softmax(attn_weights, dim=-1)\n",
    "        v = self.value(x)\n",
    "        out = attn_weights @ v\n",
    "        return out\n",
    "        \n",
    "class MultiHeadAttention(nn.Module):\n",
    "    def __init__(self):\n",
    "        super().__init__()\n",
    "        self.heads = nn.ModuleList([Head(n_embed//n_head) for _ in range(n_head)])\n",
    "\n",
    "    def forward(self, x):\n",
    "        x = torch.cat([h(x) for h in self.heads], dim=-1)\n",
    "        return x\n",
    "\n",
    "class Block(nn.Module):\n",
    "    def __init__(self):\n",
    "        super().__init__()\n",
    "        self.ln1 = nn.LayerNorm(n_embed)\n",
    "        self.attn = MultiHeadAttention()\n",
    "        self.ln2 = nn.LayerNorm(n_embed)\n",
    "        self.mlp = MLP()\n",
    "\n",
    "    def forward(self, x):\n",
    "        x = x + self.attn(self.ln1(x))\n",
    "        x = x + self.mlp(self.ln2(x))\n",
    "        # x = x + self.attn(x)\n",
    "        # x = x + self.mlp(x)\n",
    "        return x\n",
    "\n",
    "    def forward_ablation(self, x, autoencoder):\n",
    "        x, res = self.forward_embedding(x)\n",
    "        x, _, _ = autoencoder(x)\n",
    "        x = res + self.mlp.project_embedding(x)\n",
    "        return x\n",
    "\n",
    "    def forward_embedding(self, x):\n",
    "        res = x + self.attn(self.ln1(x))\n",
    "        x = self.mlp.forward_embedding(self.ln2(res))\n",
    "        return x, res\n",
    "\n",
    "    # def project_embedding(self, x, residual):\n",
    "    #     x = self.mlp.project_embedding(x)\n",
    "    #     x = x + residual\n",
    "    #     return x\n",
    "        "
   ]
  },
  {
   "cell_type": "code",
   "execution_count": 469,
   "id": "fb37ebcd-1c76-4ad5-904c-32b703258e96",
   "metadata": {},
   "outputs": [],
   "source": [
    "import torch.nn as nn\n",
    "import torch.nn.functional as F\n",
    "\n",
    "vocab_size = 50304\n",
    "n_embed = 128\n",
    "\n",
    "class Transformer(nn.Module):\n",
    "    def __init__(self):\n",
    "        super().__init__()\n",
    "        self.token_embed = nn.Embedding(vocab_size, n_embed)\n",
    "        self.position_embed = nn.Embedding(context_length, n_embed)\n",
    "        self.attn_block = Block()\n",
    "        self.layer_norm = nn.LayerNorm(n_embed)\n",
    "        self.lm_head = nn.Linear(n_embed, vocab_size)\n",
    "\n",
    "    def _pre_attn_pass(self, idx):\n",
    "        B, T = idx.shape\n",
    "        tok_embedding = self.token_embed(idx)\n",
    "        pos_embedding = self.position_embed(torch.arange(T, device=device))\n",
    "        return tok_embedding + pos_embedding\n",
    "\n",
    "    def forward(self, idx, targets=None):\n",
    "        x = self._pre_attn_pass(idx)\n",
    "        x = self.attn_block(x)\n",
    "        x = self.layer_norm(x)\n",
    "        logits = self.lm_head(x)\n",
    "        loss = None\n",
    "        if targets is not None:\n",
    "            B, T, C = logits.shape\n",
    "            flat_logits = logits.view(B*T, C)\n",
    "            targets = targets.view(B*T)\n",
    "            loss = F.cross_entropy(flat_logits, targets)\n",
    "        return logits, loss\n",
    "\n",
    "    def forward_embedding(self, idx):\n",
    "        x = self._pre_attn_pass(idx)\n",
    "        x, residual = self.attn_block.forward_embedding(x)\n",
    "        return x, residual\n",
    "\n",
    "    def forward_ablation(self, idx, autoencoder):\n",
    "        x = self._pre_attn_pass(idx)\n",
    "        x = self.attn_block.forward_ablation(x, autoencoder)\n",
    "        x = self.layer_norm(x)\n",
    "        logits = self.lm_head(x)\n",
    "\n",
    "        \n",
    "        # x, residual = self.forward_embedding(idx)\n",
    "        # # x, _, _ = autoencoder(x)\n",
    "        # x = self.attn_block.project_embedding(x, residual)\n",
    "        # x = self.layer_norm(x)\n",
    "        # logits = self.lm_head(x)\n",
    "        return logits\n",
    "\n",
    "    def generate(self, idx, max_new_tokens):\n",
    "        for _ in range(max_new_tokens):\n",
    "            idx_cond = idx[:, -context_length:]\n",
    "            logits, _ = self(idx_cond)\n",
    "            logits = logits[:, -1, :]\n",
    "            probs = F.softmax(logits, dim=-1)\n",
    "            idx_next = torch.multinomial(probs, num_samples=1)\n",
    "            idx = torch.cat((idx, idx_next), dim=1)\n",
    "        return idx\n",
    "\n",
    "    def generate_ablation(self, idx, max_new_tokens, autoencoder):\n",
    "        for _ in range(max_new_tokens):\n",
    "            idx_cond = idx[:, -context_length:]\n",
    "            logits = self.forward_ablation(idx_cond, autoencoder)\n",
    "            logits = logits[:, -1, :]\n",
    "            probs = F.softmax(logits, dim=-1)\n",
    "            idx_next = torch.multinomial(probs, num_samples=1)\n",
    "            idx = torch.cat((idx, idx_next), dim=1)\n",
    "        return idx\n",
    "        \n",
    "            \n",
    "        "
   ]
  },
  {
   "cell_type": "code",
   "execution_count": 434,
   "id": "ddc5166d-09d0-4c95-ab0e-5a0c392391e6",
   "metadata": {},
   "outputs": [],
   "source": [
    "def count_params(m):\n",
    "    print(sum(p.numel() for p in m.parameters()))"
   ]
  },
  {
   "cell_type": "code",
   "execution_count": 450,
   "id": "3fc9185d-64f5-4c8e-a898-28c101165c4c",
   "metadata": {},
   "outputs": [
    {
     "name": "stdout",
     "output_type": "stream",
     "text": [
      "Transformer(\n",
      "  (token_embed): Embedding(50304, 128)\n",
      "  (position_embed): Embedding(128, 128)\n",
      "  (attn_block): Block(\n",
      "    (ln1): LayerNorm((128,), eps=1e-05, elementwise_affine=True)\n",
      "    (attn): MultiHeadAttention(\n",
      "      (heads): ModuleList(\n",
      "        (0-3): 4 x Head(\n",
      "          (key): Linear(in_features=128, out_features=32, bias=False)\n",
      "          (query): Linear(in_features=128, out_features=32, bias=False)\n",
      "          (value): Linear(in_features=128, out_features=32, bias=False)\n",
      "        )\n",
      "      )\n",
      "    )\n",
      "    (ln2): LayerNorm((128,), eps=1e-05, elementwise_affine=True)\n",
      "    (mlp): MLP(\n",
      "      (hidden): Linear(in_features=128, out_features=512, bias=True)\n",
      "      (relu): ReLU()\n",
      "      (proj): Linear(in_features=512, out_features=128, bias=True)\n",
      "    )\n",
      "  )\n",
      "  (layer_norm): LayerNorm((128,), eps=1e-05, elementwise_affine=True)\n",
      "  (lm_head): Linear(in_features=128, out_features=50304, bias=True)\n",
      ")\n",
      "13126144\n"
     ]
    }
   ],
   "source": [
    "model = Transformer()\n",
    "model = model.to(device)\n",
    "print(model)\n",
    "count_params(model)"
   ]
  },
  {
   "cell_type": "code",
   "execution_count": 427,
   "id": "8e354a58-4291-4e78-9027-02c7ecbcaa7b",
   "metadata": {},
   "outputs": [],
   "source": [
    "eval_iters = 20\n",
    "\n",
    "@torch.no_grad()\n",
    "def estimate_loss(steps=eval_iters):\n",
    "    out = {}\n",
    "    model.eval()\n",
    "    for split in ['train', 'dev']:\n",
    "        losses = torch.zeros(steps)\n",
    "        for k in tqdm(range(steps)):\n",
    "            xb, yb = get_batch(split)\n",
    "            logist, loss = model(xb, yb)\n",
    "            losses[k] = loss.item()\n",
    "        out[split] = losses.mean()\n",
    "    model.train()\n",
    "    return out"
   ]
  },
  {
   "cell_type": "code",
   "execution_count": 428,
   "id": "51212280-2c9f-49c6-92d0-87c96d398850",
   "metadata": {},
   "outputs": [
    {
     "name": "stderr",
     "output_type": "stream",
     "text": [
      "100%|███████████████████████████████████████████| 20/20 [00:00<00:00, 36.38it/s]\n",
      "100%|███████████████████████████████████████████| 20/20 [00:00<00:00, 74.90it/s]\n"
     ]
    },
    {
     "data": {
      "text/plain": [
       "{'train': tensor(11.0028), 'dev': tensor(11.0048)}"
      ]
     },
     "execution_count": 428,
     "metadata": {},
     "output_type": "execute_result"
    }
   ],
   "source": [
    "estimate_loss()"
   ]
  },
  {
   "cell_type": "code",
   "execution_count": 665,
   "id": "202c7f5e-0c19-47bc-ae23-013c34ddc3a4",
   "metadata": {},
   "outputs": [
    {
     "data": {
      "text/plain": [
       "torch.Size([2048, 128, 128])"
      ]
     },
     "execution_count": 665,
     "metadata": {},
     "output_type": "execute_result"
    }
   ],
   "source": [
    "xb, _ = get_batch('train', 2048)\n",
    "with torch.no_grad():\n",
    "    model.eval()\n",
    "    x = model.forward_embedding(xb)\n",
    "    model.train()\n",
    "x.shape"
   ]
  },
  {
   "cell_type": "code",
   "execution_count": 666,
   "id": "e053003f-6045-4846-ad9b-b238da3c5c81",
   "metadata": {},
   "outputs": [],
   "source": [
    "optimizer = torch.optim.AdamW(model.parameters(), lr=1e-3)\n",
    "losses = []"
   ]
  },
  {
   "cell_type": "code",
   "execution_count": 688,
   "id": "d561b770-eb05-4370-a13a-784a90dcb2b6",
   "metadata": {},
   "outputs": [
    {
     "name": "stderr",
     "output_type": "stream",
     "text": [
      "Train loss: 2.4535: 100%|█████████████████| 10000/10000 [14:26<00:00, 11.54it/s]\n"
     ]
    },
    {
     "data": {
      "image/png": "[encoded data removed]",
      "text/plain": [
       "<Figure size 640x480 with 1 Axes>"
      ]
     },
     "metadata": {},
     "output_type": "display_data"
    },
    {
     "name": "stderr",
     "output_type": "stream",
     "text": [
      "100%|█████████████████████████████████████████| 200/200 [00:03<00:00, 54.62it/s]\n",
      "100%|█████████████████████████████████████████| 200/200 [00:03<00:00, 66.51it/s]\n"
     ]
    },
    {
     "data": {
      "text/plain": [
       "{'train': tensor(2.5512), 'dev': tensor(2.9458)}"
      ]
     },
     "execution_count": 688,
     "metadata": {},
     "output_type": "execute_result"
    }
   ],
   "source": [
    "from tqdm import tqdm\n",
    "import matplotlib.pyplot as plt\n",
    "import numpy as np\n",
    "\n",
    "optimizer.lr = 1e-4\n",
    "batch_size = 16\n",
    "n_steps = 10000\n",
    "avg_window = 64\n",
    "\n",
    "pbar = tqdm(range(n_steps))\n",
    "for steps in pbar:\n",
    "    xb, yb = get_batch('train', batch_size)\n",
    "    logits, loss = model(xb, yb)\n",
    "    losses.append(loss.item())\n",
    "    pbar.set_description(f\"Train loss: {np.mean(losses[-avg_window:]):.4f}\")\n",
    "    optimizer.zero_grad(set_to_none=True)\n",
    "    loss.backward()\n",
    "    optimizer.step()\n",
    "\n",
    "def moving_average(x, w):\n",
    "    return np.convolve(x, np.ones(w), 'valid') / w\n",
    "\n",
    "plt.plot(moving_average(losses, avg_window))\n",
    "plt.show()\n",
    "estimate_loss(200)"
   ]
  },
  {
   "cell_type": "code",
   "execution_count": 689,
   "id": "19a79f10-dcc2-4ba8-8c78-d0b00618a264",
   "metadata": {},
   "outputs": [
    {
     "data": {
      "text/plain": [
       "[<matplotlib.lines.Line2D at 0x64029f2e0>]"
      ]
     },
     "execution_count": 689,
     "metadata": {},
     "output_type": "execute_result"
    },
    {
     "data": {
      "image/png": "[encoded data removed]",
      "text/plain": [
       "<Figure size 640x480 with 1 Axes>"
      ]
     },
     "metadata": {},
     "output_type": "display_data"
    }
   ],
   "source": [
    "plt.plot(moving_average(losses, 1000))"
   ]
  },
  {
   "cell_type": "code",
   "execution_count": 692,
   "id": "ecb06f35-6ad2-462f-b9d0-10d2ea8271c4",
   "metadata": {},
   "outputs": [
    {
     "name": "stderr",
     "output_type": "stream",
     "text": [
      "100%|███████████████████████████████████████| 1000/1000 [00:14<00:00, 67.87it/s]\n",
      "100%|███████████████████████████████████████| 1000/1000 [00:13<00:00, 73.87it/s]\n"
     ]
    },
    {
     "data": {
      "text/plain": [
       "tensor(2.4868)"
      ]
     },
     "execution_count": 692,
     "metadata": {},
     "output_type": "execute_result"
    }
   ],
   "source": [
    "train_loss, dev_loss = estimate_loss(1000).values()\n",
    "train_loss"
   ]
  },
  {
   "cell_type": "code",
   "execution_count": 436,
   "id": "79c9cba7-15ef-4e33-bdd9-625f3c5ba6a0",
   "metadata": {},
   "outputs": [],
   "source": [
    "path = f\"models/transformer_128_0_2.963.pt\""
   ]
  },
  {
   "cell_type": "code",
   "execution_count": 21,
   "id": "50851114-f252-4eab-bfa7-c820c0223e19",
   "metadata": {},
   "outputs": [
    {
     "name": "stdout",
     "output_type": "stream",
     "text": [
      "dddd\n"
     ]
    }
   ],
   "source": [
    "os.makedirs('models', exist_ok=True)\n",
    "\n",
    "if not os.path.exists(path):\n",
    "    torch.save({\n",
    "                'model_state_dict': model.state_dict(),\n",
    "                'optimizer_state_dict': optimizer.state_dict(),\n",
    "                'losses': losses,\n",
    "                'train_loss': train_loss,\n",
    "                'dev_loss': dev_loss,\n",
    "                # 'steps': len(losses),\n",
    "                }, path)"
   ]
  },
  {
   "cell_type": "code",
   "execution_count": 470,
   "id": "b99c1be4-7ee4-4729-81da-a4c563c0aca3",
   "metadata": {},
   "outputs": [
    {
     "data": {
      "text/plain": [
       "<All keys matched successfully>"
      ]
     },
     "execution_count": 470,
     "metadata": {},
     "output_type": "execute_result"
    }
   ],
   "source": [
    "checkpoint = torch.load(path)\n",
    "model = Transformer().to(device)\n",
    "model.load_state_dict(checkpoint['model_state_dict'])"
   ]
  },
  {
   "cell_type": "code",
   "execution_count": 475,
   "id": "f84d6083-b45f-440e-a843-3cf7dd1ebdd2",
   "metadata": {},
   "outputs": [
    {
     "name": "stdout",
     "output_type": "stream",
     "text": [
      "Date: Thu, 12 Apr 2001 02:59:15 -0700 (PDT)\n",
      "From: phillip.allen@enron.com\n",
      "To: tori.kuykendall@enron.com, richard.ring@enron.com, \n",
      "\tjpblay.zipper@enron.com, david.ryan@enron.com, \n",
      "\tdrew.thuraisingham@enron.com, marilyn.toe@att.com, pat.radford@enron.com\n",
      "Subject: ClickPaper-summary Study for Interview\n",
      "\n",
      "\n",
      "Good morning.\n",
      "Mime-Version: 1.0\n",
      "Content-Type: text/plain; charset=us-ascii\n",
      "Content-Transfer-Encoding: 7bit\n",
      "X-From: Matthew Lenhart\n",
      "X-To: karen J Farmer\n",
      "X-cc: \n",
      "X-bcc: \n",
      "X-Folder: \\Darren_Farmer_Dec2000\\Notes Folders\\All documents\n",
      "X-Origin: Farmer-D\n",
      "X-FileName: dfarmer.nsf\n",
      "\n",
      "The language which wasn crazy as or Reliant of Ben\n",
      "West, if Fav\n"
     ]
    }
   ],
   "source": [
    "idx = torch.tensor(enc.encode('Date:'), dtype=torch.long)[None, :].to(device)\n",
    "torch.manual_seed(1)\n",
    "with torch.no_grad():\n",
    "    print(enc.decode(model.generate(idx, 256)[0].tolist()))"
   ]
  },
  {
   "cell_type": "code",
   "execution_count": 474,
   "id": "329db27e-2cc0-471a-a7fe-ad638b7dcf81",
   "metadata": {},
   "outputs": [
    {
     "name": "stdout",
     "output_type": "stream",
     "text": [
      "Date: Thu: 12:09:us.d.m\n",
      "\n",
      "To: Schedatann@enron.com, ratching.net@enron.com, Dan time.har Sak Althkir.com, pz@enron.com, Paul@enron.com, \n",
      "Subject: I\n",
      "\n",
      " \n",
      "\n",
      "\n",
      "Beln level of get on months to exceptions. Meanwhile  \n",
      "   \n",
      "De   thanks  \n",
      " \n",
      " \n",
      " \n",
      "\n",
      "\n",
      "177 Location\n",
      "\n",
      "Message:153\n",
      "Re stack; Hartj\n",
      "\n",
      "Melvel-By: Jeff -- B A. <Calo- improper@enron.com, etiznex4.c50-10) <11798236.1083517.97170815601626940581495+5@00et-6.net.com\n",
      "Message-ID:20301639171227471.107584571396067285023998320263207392.38631762,4468809111330884170816128.37332342800793501488037001415 or 01. \n",
      "\n",
      "\tNOTE: No:  ( Standard entity) 7/1/23/18/19/08/30/Dec.183822634083676666268246908145354031208.04351710.10991075860552705576212201.0088995038.5733166244528120410662760071534751\n",
      "http://891.1c1010.12280363F67210R1/12/5/12/06/T/10/12/2/155/23/01/01/01/01/05/17/27/20/12/12/27/10/30/01/12/2/e/2/1/10/6/10/01/28/ created/05/01/03/12/2/17: =01=20\n",
      "E/E/-Mail1-80090/4/2/17/18/29/2000/01/10/01/28/21/05/27/13/05/12/10/10/12/01/132132219 Digital \n",
      "Fixed/01/12/\n"
     ]
    }
   ],
   "source": [
    "identity = lambda x: (x, None, None)\n",
    "idx = torch.tensor(enc.encode('Date:'), dtype=torch.long)[None, :].to(device)\n",
    "torch.manual_seed(1)\n",
    "with torch.no_grad():\n",
    "    print(enc.decode(model.generate_ablation(idx, 512, autoencoder)[0].tolist()))"
   ]
  },
  {
   "cell_type": "code",
   "execution_count": 283,
   "id": "39373581-5db6-45d5-a0ae-f54e0756063f",
   "metadata": {},
   "outputs": [],
   "source": [
    "class SparseAutoencoder(nn.Module):\n",
    "    def __init__(self, n_features):\n",
    "        super().__init__()\n",
    "        self.encoder = nn.Linear(n_embed * 4, n_features)\n",
    "        self.decoder = nn.Linear(n_features, n_embed * 4)\n",
    "        # self.decoder_bias = nn.Parameter(torch.zeros(n_embed * 4))  # explicitly define decoder bias so we can subtract it from the input\n",
    "        self.relu = nn.ReLU()\n",
    "\n",
    "    def forward(self, x_in, compute_loss=False):\n",
    "        f = self.encode(x_in)\n",
    "        x = self.decoder(f)\n",
    "        if compute_loss:\n",
    "            recon_loss = F.mse_loss(x, x_in)\n",
    "            reg_loss = f.abs().sum(dim=-1).mean()\n",
    "            loss = recon_loss + reg_loss\n",
    "        else:\n",
    "            recon_loss = None\n",
    "            reg_loss = None\n",
    "        return x, recon_loss, reg_loss\n",
    "\n",
    "    def encode(self, x_in):\n",
    "        x = x_in - self.decoder.bias\n",
    "        f = self.relu(self.encoder(x))\n",
    "        return f\n",
    "\n",
    "    def normalize_decoder_weights(self):\n",
    "        with torch.no_grad():\n",
    "            self.decoder.weight.data = nn.functional.normalize(self.decoder.weight.data, p=2, dim=1)"
   ]
  },
  {
   "cell_type": "code",
   "execution_count": 274,
   "id": "1b483ba2-ba73-43d1-bed2-526c4a54e2d5",
   "metadata": {},
   "outputs": [],
   "source": [
    "batch_size = 256\n",
    "\n",
    "num_batches = len(train_data)\n",
    "\n",
    "def iterate_data(split, batch_size=batch_size):\n",
    "    data = train_data if split == 'train' else dev_data\n",
    "    rows = data[:len(data) - len(data) % (context_length*batch_size)].view(-1, batch_size, context_length)\n",
    "    print(f\"batches: {rows.shape[0]}\")\n",
    "    for batch in rows:\n",
    "        yield batch\n",
    "\n",
    "batch_iterator = iterate_data('train')"
   ]
  },
  {
   "cell_type": "code",
   "execution_count": 265,
   "id": "cabe5885-7cf4-4ec1-88e9-6cbe28a82436",
   "metadata": {},
   "outputs": [
    {
     "ename": "OSError",
     "evalue": "Unable to create file (unable to truncate a file which is already open)",
     "output_type": "error",
     "traceback": [
      "\u001b[0;31m---------------------------------------------------------------------------\u001b[0m",
      "\u001b[0;31mOSError\u001b[0m                                   Traceback (most recent call last)",
      "Cell \u001b[0;32mIn[265], line 16\u001b[0m\n\u001b[1;32m     12\u001b[0m \u001b[38;5;28;01mimport\u001b[39;00m \u001b[38;5;21;01mh5py\u001b[39;00m\n\u001b[1;32m     14\u001b[0m hdf5_path \u001b[38;5;241m=\u001b[39m \u001b[38;5;124m'\u001b[39m\u001b[38;5;124mdata/embeddings_0.hdf5\u001b[39m\u001b[38;5;124m'\u001b[39m\n\u001b[0;32m---> 16\u001b[0m \u001b[38;5;28;01mwith\u001b[39;00m \u001b[43mh5py\u001b[49m\u001b[38;5;241;43m.\u001b[39;49m\u001b[43mFile\u001b[49m\u001b[43m(\u001b[49m\u001b[43mhdf5_path\u001b[49m\u001b[43m,\u001b[49m\u001b[43m \u001b[49m\u001b[38;5;124;43m'\u001b[39;49m\u001b[38;5;124;43mw\u001b[39;49m\u001b[38;5;124;43m'\u001b[39;49m\u001b[43m)\u001b[49m \u001b[38;5;28;01mas\u001b[39;00m hdf5_file:\n\u001b[1;32m     17\u001b[0m     \u001b[38;5;28;01mwith\u001b[39;00m torch\u001b[38;5;241m.\u001b[39mno_grad():\n\u001b[1;32m     18\u001b[0m         maxshape \u001b[38;5;241m=\u001b[39m (\u001b[38;5;28;01mNone\u001b[39;00m, n_embed\u001b[38;5;241m*\u001b[39m\u001b[38;5;241m4\u001b[39m)\n",
      "File \u001b[0;32m~/.pyenv/versions/3.10.10/envs/monosemantic/lib/python3.10/site-packages/h5py/_hl/files.py:562\u001b[0m, in \u001b[0;36mFile.__init__\u001b[0;34m(self, name, mode, driver, libver, userblock_size, swmr, rdcc_nslots, rdcc_nbytes, rdcc_w0, track_order, fs_strategy, fs_persist, fs_threshold, fs_page_size, page_buf_size, min_meta_keep, min_raw_keep, locking, alignment_threshold, alignment_interval, meta_block_size, **kwds)\u001b[0m\n\u001b[1;32m    553\u001b[0m     fapl \u001b[38;5;241m=\u001b[39m make_fapl(driver, libver, rdcc_nslots, rdcc_nbytes, rdcc_w0,\n\u001b[1;32m    554\u001b[0m                      locking, page_buf_size, min_meta_keep, min_raw_keep,\n\u001b[1;32m    555\u001b[0m                      alignment_threshold\u001b[38;5;241m=\u001b[39malignment_threshold,\n\u001b[1;32m    556\u001b[0m                      alignment_interval\u001b[38;5;241m=\u001b[39malignment_interval,\n\u001b[1;32m    557\u001b[0m                      meta_block_size\u001b[38;5;241m=\u001b[39mmeta_block_size,\n\u001b[1;32m    558\u001b[0m                      \u001b[38;5;241m*\u001b[39m\u001b[38;5;241m*\u001b[39mkwds)\n\u001b[1;32m    559\u001b[0m     fcpl \u001b[38;5;241m=\u001b[39m make_fcpl(track_order\u001b[38;5;241m=\u001b[39mtrack_order, fs_strategy\u001b[38;5;241m=\u001b[39mfs_strategy,\n\u001b[1;32m    560\u001b[0m                      fs_persist\u001b[38;5;241m=\u001b[39mfs_persist, fs_threshold\u001b[38;5;241m=\u001b[39mfs_threshold,\n\u001b[1;32m    561\u001b[0m                      fs_page_size\u001b[38;5;241m=\u001b[39mfs_page_size)\n\u001b[0;32m--> 562\u001b[0m     fid \u001b[38;5;241m=\u001b[39m \u001b[43mmake_fid\u001b[49m\u001b[43m(\u001b[49m\u001b[43mname\u001b[49m\u001b[43m,\u001b[49m\u001b[43m \u001b[49m\u001b[43mmode\u001b[49m\u001b[43m,\u001b[49m\u001b[43m \u001b[49m\u001b[43muserblock_size\u001b[49m\u001b[43m,\u001b[49m\u001b[43m \u001b[49m\u001b[43mfapl\u001b[49m\u001b[43m,\u001b[49m\u001b[43m \u001b[49m\u001b[43mfcpl\u001b[49m\u001b[43m,\u001b[49m\u001b[43m \u001b[49m\u001b[43mswmr\u001b[49m\u001b[38;5;241;43m=\u001b[39;49m\u001b[43mswmr\u001b[49m\u001b[43m)\u001b[49m\n\u001b[1;32m    564\u001b[0m \u001b[38;5;28;01mif\u001b[39;00m \u001b[38;5;28misinstance\u001b[39m(libver, \u001b[38;5;28mtuple\u001b[39m):\n\u001b[1;32m    565\u001b[0m     \u001b[38;5;28mself\u001b[39m\u001b[38;5;241m.\u001b[39m_libver \u001b[38;5;241m=\u001b[39m libver\n",
      "File \u001b[0;32m~/.pyenv/versions/3.10.10/envs/monosemantic/lib/python3.10/site-packages/h5py/_hl/files.py:241\u001b[0m, in \u001b[0;36mmake_fid\u001b[0;34m(name, mode, userblock_size, fapl, fcpl, swmr)\u001b[0m\n\u001b[1;32m    239\u001b[0m     fid \u001b[38;5;241m=\u001b[39m h5f\u001b[38;5;241m.\u001b[39mcreate(name, h5f\u001b[38;5;241m.\u001b[39mACC_EXCL, fapl\u001b[38;5;241m=\u001b[39mfapl, fcpl\u001b[38;5;241m=\u001b[39mfcpl)\n\u001b[1;32m    240\u001b[0m \u001b[38;5;28;01melif\u001b[39;00m mode \u001b[38;5;241m==\u001b[39m \u001b[38;5;124m'\u001b[39m\u001b[38;5;124mw\u001b[39m\u001b[38;5;124m'\u001b[39m:\n\u001b[0;32m--> 241\u001b[0m     fid \u001b[38;5;241m=\u001b[39m \u001b[43mh5f\u001b[49m\u001b[38;5;241;43m.\u001b[39;49m\u001b[43mcreate\u001b[49m\u001b[43m(\u001b[49m\u001b[43mname\u001b[49m\u001b[43m,\u001b[49m\u001b[43m \u001b[49m\u001b[43mh5f\u001b[49m\u001b[38;5;241;43m.\u001b[39;49m\u001b[43mACC_TRUNC\u001b[49m\u001b[43m,\u001b[49m\u001b[43m \u001b[49m\u001b[43mfapl\u001b[49m\u001b[38;5;241;43m=\u001b[39;49m\u001b[43mfapl\u001b[49m\u001b[43m,\u001b[49m\u001b[43m \u001b[49m\u001b[43mfcpl\u001b[49m\u001b[38;5;241;43m=\u001b[39;49m\u001b[43mfcpl\u001b[49m\u001b[43m)\u001b[49m\n\u001b[1;32m    242\u001b[0m \u001b[38;5;28;01melif\u001b[39;00m mode \u001b[38;5;241m==\u001b[39m \u001b[38;5;124m'\u001b[39m\u001b[38;5;124ma\u001b[39m\u001b[38;5;124m'\u001b[39m:\n\u001b[1;32m    243\u001b[0m     \u001b[38;5;66;03m# Open in append mode (read/write).\u001b[39;00m\n\u001b[1;32m    244\u001b[0m     \u001b[38;5;66;03m# If that fails, create a new file only if it won't clobber an\u001b[39;00m\n\u001b[1;32m    245\u001b[0m     \u001b[38;5;66;03m# existing one (ACC_EXCL)\u001b[39;00m\n\u001b[1;32m    246\u001b[0m     \u001b[38;5;28;01mtry\u001b[39;00m:\n",
      "File \u001b[0;32mh5py/_objects.pyx:54\u001b[0m, in \u001b[0;36mh5py._objects.with_phil.wrapper\u001b[0;34m()\u001b[0m\n",
      "File \u001b[0;32mh5py/_objects.pyx:55\u001b[0m, in \u001b[0;36mh5py._objects.with_phil.wrapper\u001b[0;34m()\u001b[0m\n",
      "File \u001b[0;32mh5py/h5f.pyx:122\u001b[0m, in \u001b[0;36mh5py.h5f.create\u001b[0;34m()\u001b[0m\n",
      "\u001b[0;31mOSError\u001b[0m: Unable to create file (unable to truncate a file which is already open)"
     ]
    }
   ],
   "source": [
    "import h5py\n",
    "\n",
    "hdf5_path = 'data/embeddings_0.hdf5'\n",
    "\n",
    "with h5py.File(hdf5_path, 'w') as hdf5_file:\n",
    "    with torch.no_grad():\n",
    "        maxshape = (None, n_embed*4)\n",
    "        dataset = hdf5_file.create_dataset('tensors', (0, n_embed*4), maxshape=maxshape, dtype='float32')\n",
    "        \n",
    "        for batch in tqdm(batch_iterator):\n",
    "            embedding = model.forward_embedding(batch.to(device))\n",
    "            flattened_embedding = embedding.view(-1, n_embed*4)\n",
    "    \n",
    "            # Append the flattened tensor to the HDF5 dataset\n",
    "            dataset.resize((dataset.shape[0] + flattened_embedding.shape[0]), axis=0)\n",
    "            dataset[-flattened_embedding.shape[0]:] = flattened_embedding.cpu().numpy()\n"
   ]
  },
  {
   "cell_type": "code",
   "execution_count": 62,
   "id": "7a1b04fa-07cb-49de-80ef-8e88c0360ef0",
   "metadata": {},
   "outputs": [],
   "source": [
    "import numpy as np\n",
    "\n",
    "batch_size = 128\n",
    "\n",
    "def iterate_embeddings(batch_size):\n",
    "    with h5py.File(hdf5_path, 'r') as hdf5_file:\n",
    "        while True:\n",
    "            dataset = hdf5_file['tensors']\n",
    "            dataset_size = dataset.shape[0]\n",
    "            random_indices = torch.randint(dataset_size, size=(batch_size,))\n",
    "            random_samples = torch.tensor(np.array([dataset[idx] for idx in random_indices]))\n",
    "            yield random_samples\n",
    "\n",
    "embedding_iterator = iterate_embeddings(batch_size)"
   ]
  },
  {
   "cell_type": "code",
   "execution_count": 86,
   "id": "cb939ee5-8115-41b5-8e32-73520c3ecdc0",
   "metadata": {},
   "outputs": [
    {
     "data": {
      "text/plain": [
       "torch.Size([128, 512])"
      ]
     },
     "execution_count": 86,
     "metadata": {},
     "output_type": "execute_result"
    }
   ],
   "source": [
    "next(embedding_iterator).shape"
   ]
  },
  {
   "cell_type": "code",
   "execution_count": 270,
   "id": "920dda90-64fe-46f9-939a-df78d834bee1",
   "metadata": {},
   "outputs": [
    {
     "name": "stdout",
     "output_type": "stream",
     "text": [
      "4198912\n"
     ]
    },
    {
     "data": {
      "text/plain": [
       "SparseAutoencoder(\n",
       "  (encoder): Linear(in_features=512, out_features=4096, bias=True)\n",
       "  (decoder): Linear(in_features=4096, out_features=512, bias=True)\n",
       "  (relu): ReLU()\n",
       ")"
      ]
     },
     "execution_count": 270,
     "metadata": {},
     "output_type": "execute_result"
    }
   ],
   "source": [
    "autoencoder = SparseAutoencoder(4096).to(device)\n",
    "count_params(autoencoder)\n",
    "autoencoder"
   ]
  },
  {
   "cell_type": "code",
   "execution_count": 394,
   "id": "135c4b8a-cc9b-4249-859e-922d254a877b",
   "metadata": {},
   "outputs": [],
   "source": [
    "train_steps = 10000\n",
    "lambda_reg = 0.003\n",
    "batch_size = 128\n",
    "lr = 1e-5\n",
    "\n",
    "autoencoder = SparseAutoencoder(4096).to(device)\n",
    "optimizer = torch.optim.Adam(autoencoder.parameters(), lr=lr)\n",
    "losses = []\n",
    "recon_losses = []\n",
    "reg_losses = []"
   ]
  },
  {
   "cell_type": "code",
   "execution_count": 403,
   "id": "93ddc4d1-0252-46ea-9bda-05e36bd03152",
   "metadata": {},
   "outputs": [
    {
     "name": "stderr",
     "output_type": "stream",
     "text": [
      "100%|█████████████████████████████████████| 10000/10000 [16:32<00:00, 10.07it/s]"
     ]
    },
    {
     "name": "stdout",
     "output_type": "stream",
     "text": [
      "Loss:\t0.103\n",
      "Recon:\t0.083\n",
      "Reg:\t0.020\n"
     ]
    },
    {
     "name": "stderr",
     "output_type": "stream",
     "text": [
      "\n"
     ]
    },
    {
     "data": {
      "image/png": "[encoded data removed]",
      "text/plain": [
       "<Figure size 640x480 with 1 Axes>"
      ]
     },
     "metadata": {},
     "output_type": "display_data"
    }
   ],
   "source": [
    "import matplotlib.pyplot as plt\n",
    "\n",
    "batch_size = 128\n",
    "embedding_iterator = iterate_embeddings(batch_size)\n",
    "\n",
    "for _ in tqdm(range(train_steps)):\n",
    "    xb, _ = get_batch('train', batch_size)\n",
    "    # with torch.no_grad():\n",
    "    #     x_embedding = model.forward_embedding(xb)\n",
    "    #     print(x_embedding.shape)\n",
    "    # break\n",
    "    x_embedding = next(embedding_iterator).to(device)\n",
    "    optimizer.zero_grad()\n",
    "    outputs, recon_loss, reg_loss = autoencoder(x_embedding, compute_loss=True)\n",
    "    reg_loss = lambda_reg * reg_loss\n",
    "    loss = recon_loss + reg_loss\n",
    "    loss.backward()\n",
    "    optimizer.step()\n",
    "    autoencoder.normalize_decoder_weights()\n",
    "    \n",
    "    losses.append(loss.item())\n",
    "    recon_losses.append(recon_loss.item())\n",
    "    reg_losses.append(reg_loss.item())\n",
    "\n",
    "print(f\"Loss:\\t{loss:.3f}\\nRecon:\\t{recon_loss:.3f}\\nReg:\\t{reg_loss:.3f}\")\n",
    "plt.plot(losses, label='loss')\n",
    "plt.plot(recon_losses, label='recon')\n",
    "plt.plot(reg_losses, label='reg')\n",
    "plt.legend()\n",
    "plt.show()"
   ]
  },
  {
   "cell_type": "code",
   "execution_count": 405,
   "id": "f5493d8b-38b2-42b6-b44e-817d1e1aabca",
   "metadata": {},
   "outputs": [
    {
     "name": "stderr",
     "output_type": "stream",
     "text": [
      "100%|███████████████████████████████████████████| 32/32 [00:11<00:00,  2.77it/s]\n"
     ]
    },
    {
     "name": "stdout",
     "output_type": "stream",
     "text": [
      "0.856201171875\n"
     ]
    },
    {
     "data": {
      "image/png": "[encoded data removed]",
      "text/plain": [
       "<Figure size 640x480 with 1 Axes>"
      ]
     },
     "metadata": {},
     "output_type": "display_data"
    }
   ],
   "source": [
    "batch_size = 512\n",
    "embedding_iterator = iterate_embeddings(batch_size)\n",
    "\n",
    "def feature_density_histogram(num_samples=16384):\n",
    "    all_outputs = []\n",
    "    for i in tqdm(range(num_samples // batch_size)):\n",
    "        batch = next(embedding_iterator).to(device)\n",
    "        outputs = autoencoder.encode(batch)  # (128, 4096)\n",
    "        all_outputs.append(outputs)\n",
    "    output_stack = torch.concat(all_outputs)\n",
    "    return output_stack\n",
    "\n",
    "output_stack = feature_density_histogram(16384)\n",
    "\n",
    "B, C = output_stack.shape\n",
    "activation_densities = (output_stack > 1e-4).to(torch.float32).mean(dim=0)\n",
    "activation_densities = activation_densities[activation_densities > 0]\n",
    "activation_densities = activation_densities.log10()\n",
    "print(activation_densities.shape[0]/4096)\n",
    "plt.hist(activation_densities.cpu(), bins=48)\n",
    "plt.show()\n",
    "\n",
    "# We want nearly all features to be below 1% density: \"The number of features with density above 1%. A significant number of features above this level seems to correspond to an L1 coefficient that is too low.\""
   ]
  },
  {
   "cell_type": "code",
   "execution_count": 406,
   "id": "ae8d1711-5692-48c3-a275-ad7691666b20",
   "metadata": {},
   "outputs": [
    {
     "name": "stdout",
     "output_type": "stream",
     "text": [
      "85.62%\n"
     ]
    }
   ],
   "source": [
    "print(f\"{(((output_stack > 1e-4).to(torch.float32).mean(dim=0) > 0).sum().item() / 4096 * 100):.2f}%\")"
   ]
  },
  {
   "cell_type": "code",
   "execution_count": 407,
   "id": "5be05e9d-b61c-468c-bdfc-09580997164f",
   "metadata": {},
   "outputs": [
    {
     "name": "stdout",
     "output_type": "stream",
     "text": [
      "Median:\t8.0\n",
      "Mean:\t8.39\n",
      "Std:\t3.61\n"
     ]
    }
   ],
   "source": [
    "batch_size = 4096\n",
    "embedding_iterator = iterate_embeddings(batch_size)\n",
    "x_embedding = next(embedding_iterator).to(device)\n",
    "\n",
    "activation_counts = (autoencoder.encode(x_embedding) > 1e-3 * 1.0).sum(dim=-1).to(torch.float32)\n",
    "print(f\"Median:\\t{activation_counts.median().item()}\\nMean:\\t{activation_counts.mean().item():.2f}\\nStd:\\t{activation_counts.std().item():.2f}\")\n",
    "# median number of hot features per token for each element in the batch, want to be \"less than 10 or 20\" as per paper\n",
    "\n",
    "# \"we generally target a L^0 norm that is less than 10 or 20. We especially distrust solutions where the L^0 norm is a significant fraction of the transformer’s activation dimensionality."
   ]
  },
  {
   "cell_type": "code",
   "execution_count": 408,
   "id": "ff905d34-63c9-4c26-9fc8-75fac2b25409",
   "metadata": {},
   "outputs": [
    {
     "data": {
      "text/plain": [
       "<matplotlib.image.AxesImage at 0x4625522c0>"
      ]
     },
     "execution_count": 408,
     "metadata": {},
     "output_type": "execute_result"
    },
    {
     "data": {
      "image/png": "[encoded data removed]",
      "text/plain": [
       "<Figure size 640x480 with 1 Axes>"
      ]
     },
     "metadata": {},
     "output_type": "display_data"
    }
   ],
   "source": [
    "with torch.no_grad():\n",
    "    out = autoencoder.encode(x_embedding) > 1e-3\n",
    "B, C = out.shape\n",
    "plt.imshow(out.cpu()[:256, :256])"
   ]
  },
  {
   "cell_type": "code",
   "execution_count": 1152,
   "id": "91561e28-91a6-4c2e-8674-a090a44cfa47",
   "metadata": {},
   "outputs": [
    {
     "name": "stdout",
     "output_type": "stream",
     "text": [
      "tensor(679, device='mps:0')\n",
      "tensor(685, device='mps:0')\n",
      "tensor(619, device='mps:0')\n",
      "tensor(551, device='mps:0')\n",
      "tensor(606, device='mps:0')\n",
      "tensor(631, device='mps:0')\n",
      "tensor(496, device='mps:0')\n",
      "tensor(634, device='mps:0')\n",
      "tensor(540, device='mps:0')\n",
      "tensor(517, device='mps:0')\n",
      "tensor(495, device='mps:0')\n",
      "tensor(579, device='mps:0')\n",
      "tensor(587, device='mps:0')\n",
      "tensor(579, device='mps:0')\n",
      "tensor(580, device='mps:0')\n",
      "tensor(730, device='mps:0')\n",
      "tensor(677, device='mps:0')\n",
      "tensor(537, device='mps:0')\n",
      "tensor(599, device='mps:0')\n",
      "tensor(476, device='mps:0')\n",
      "tensor(774, device='mps:0')\n",
      "tensor(541, device='mps:0')\n",
      "tensor(527, device='mps:0')\n",
      "tensor(482, device='mps:0')\n",
      "tensor(531, device='mps:0')\n",
      "tensor(457, device='mps:0')\n",
      "tensor(566, device='mps:0')\n",
      "tensor(508, device='mps:0')\n",
      "tensor(500, device='mps:0')\n",
      "tensor(483, device='mps:0')\n",
      "tensor(519, device='mps:0')\n",
      "tensor(537, device='mps:0')\n",
      "tensor(531, device='mps:0')\n",
      "tensor(545, device='mps:0')\n",
      "tensor(446, device='mps:0')\n",
      "tensor(548, device='mps:0')\n",
      "tensor(671, device='mps:0')\n",
      "tensor(648, device='mps:0')\n",
      "tensor(550, device='mps:0')\n",
      "tensor(520, device='mps:0')\n",
      "tensor(562, device='mps:0')\n",
      "tensor(566, device='mps:0')\n",
      "tensor(551, device='mps:0')\n",
      "tensor(562, device='mps:0')\n",
      "tensor(535, device='mps:0')\n",
      "tensor(554, device='mps:0')\n",
      "tensor(575, device='mps:0')\n",
      "tensor(504, device='mps:0')\n",
      "tensor(461, device='mps:0')\n",
      "tensor(606, device='mps:0')\n",
      "tensor(477, device='mps:0')\n",
      "tensor(548, device='mps:0')\n",
      "tensor(265, device='mps:0')\n",
      "tensor(611, device='mps:0')\n",
      "tensor(587, device='mps:0')\n",
      "tensor(449, device='mps:0')\n",
      "tensor(691, device='mps:0')\n",
      "tensor(628, device='mps:0')\n",
      "tensor(522, device='mps:0')\n",
      "tensor(476, device='mps:0')\n",
      "tensor(553, device='mps:0')\n",
      "tensor(593, device='mps:0')\n",
      "tensor(628, device='mps:0')\n",
      "tensor(786, device='mps:0')\n",
      "tensor(469, device='mps:0')\n",
      "tensor(515, device='mps:0')\n",
      "tensor(550, device='mps:0')\n",
      "tensor(389, device='mps:0')\n",
      "tensor(549, device='mps:0')\n",
      "tensor(527, device='mps:0')\n",
      "tensor(539, device='mps:0')\n",
      "tensor(479, device='mps:0')\n",
      "tensor(529, device='mps:0')\n",
      "tensor(501, device='mps:0')\n",
      "tensor(626, device='mps:0')\n",
      "tensor(650, device='mps:0')\n",
      "tensor(575, device='mps:0')\n",
      "tensor(605, device='mps:0')\n",
      "tensor(676, device='mps:0')\n",
      "tensor(763, device='mps:0')\n",
      "tensor(574, device='mps:0')\n",
      "tensor(495, device='mps:0')\n",
      "tensor(581, device='mps:0')\n",
      "tensor(656, device='mps:0')\n",
      "tensor(520, device='mps:0')\n",
      "tensor(476, device='mps:0')\n",
      "tensor(531, device='mps:0')\n",
      "tensor(441, device='mps:0')\n",
      "tensor(607, device='mps:0')\n",
      "tensor(567, device='mps:0')\n",
      "tensor(577, device='mps:0')\n",
      "tensor(428, device='mps:0')\n",
      "tensor(580, device='mps:0')\n",
      "tensor(581, device='mps:0')\n",
      "tensor(580, device='mps:0')\n",
      "tensor(542, device='mps:0')\n",
      "tensor(573, device='mps:0')\n",
      "tensor(483, device='mps:0')\n",
      "tensor(487, device='mps:0')\n",
      "tensor(501, device='mps:0')\n",
      "tensor(525, device='mps:0')\n",
      "tensor(568, device='mps:0')\n",
      "tensor(479, device='mps:0')\n",
      "tensor(584, device='mps:0')\n",
      "tensor(502, device='mps:0')\n",
      "tensor(574, device='mps:0')\n",
      "tensor(459, device='mps:0')\n",
      "tensor(547, device='mps:0')\n",
      "tensor(577, device='mps:0')\n",
      "tensor(533, device='mps:0')\n",
      "tensor(462, device='mps:0')\n",
      "tensor(615, device='mps:0')\n",
      "tensor(587, device='mps:0')\n",
      "tensor(597, device='mps:0')\n",
      "tensor(542, device='mps:0')\n",
      "tensor(488, device='mps:0')\n",
      "tensor(875, device='mps:0')\n",
      "tensor(593, device='mps:0')\n",
      "tensor(466, device='mps:0')\n",
      "tensor(583, device='mps:0')\n",
      "tensor(444, device='mps:0')\n",
      "tensor(599, device='mps:0')\n",
      "tensor(565, device='mps:0')\n",
      "tensor(499, device='mps:0')\n",
      "tensor(598, device='mps:0')\n",
      "tensor(546, device='mps:0')\n",
      "tensor(527, device='mps:0')\n",
      "tensor(528, device='mps:0')\n"
     ]
    }
   ],
   "source": [
    "# print(autoencoder(x))\n",
    "for vec in x_embedding:\n",
    "    hot = ((autoencoder.encode(vec) > 1e-4) * 1).sum(dim=1)\n",
    "    print(hot.sum())"
   ]
  },
  {
   "cell_type": "code",
   "execution_count": 207,
   "id": "54afaf7b-1f3a-40f9-bce9-6c79e8ebb5ff",
   "metadata": {},
   "outputs": [
    {
     "name": "stdout",
     "output_type": "stream",
     "text": [
      "[main a63570a] save embeddings to disk & feature density histograms\n",
      " 1 file changed, 534 insertions(+), 327 deletions(-)\n"
     ]
    }
   ],
   "source": [
    "!git a && git c 'save embeddings to disk & feature density histograms'"
   ]
  },
  {
   "cell_type": "code",
   "execution_count": null,
   "id": "22a4d785-8643-4f6a-b783-e93e25de2cbd",
   "metadata": {},
   "outputs": [],
   "source": []
  }
 ],
 "metadata": {
  "kernelspec": {
   "display_name": "Python 3 (ipykernel)",
   "language": "python",
   "name": "python3"
  },
  "language_info": {
   "codemirror_mode": {
    "name": "ipython",
    "version": 3
   },
   "file_extension": ".py",
   "mimetype": "text/x-python",
   "name": "python",
   "nbconvert_exporter": "python",
   "pygments_lexer": "ipython3",
   "version": "3.10.10"
  }
 },
 "nbformat": 4,
 "nbformat_minor": 5
}
