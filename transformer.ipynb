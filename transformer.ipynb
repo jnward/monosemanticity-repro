{
 "cells": [
  {
   "cell_type": "code",
   "execution_count": 1,
   "id": "326f874c-d981-440e-a46f-b7a6e0c15efc",
   "metadata": {},
   "outputs": [],
   "source": [
    "import torch\n",
    "import os\n",
    "import tiktoken\n",
    "from tqdm import tqdm\n",
    "import torch.nn as nn\n",
    "import torch.nn.functional as F\n",
    "\n",
    "device = 'mps'"
   ]
  },
  {
   "cell_type": "code",
   "execution_count": 2,
   "id": "a180d5d8-9cb4-45d9-9d49-6b4a8cb7932f",
   "metadata": {},
   "outputs": [
    {
     "data": {
      "text/plain": [
       "'2.2.0.dev20231129'"
      ]
     },
     "execution_count": 2,
     "metadata": {},
     "output_type": "execute_result"
    }
   ],
   "source": [
    "torch.__version__"
   ]
  },
  {
   "cell_type": "code",
   "execution_count": 2,
   "id": "081d7535-b8af-466d-a19f-a5ac3307a8d4",
   "metadata": {},
   "outputs": [
    {
     "name": "stderr",
     "output_type": "stream",
     "text": [
      "  2%|▊                                          | 3/151 [00:00<00:07, 20.50it/s]"
     ]
    },
    {
     "name": "stdout",
     "output_type": "stream",
     "text": [
      "could not read all_documents for .DS_Store, trying inbox...\n"
     ]
    },
    {
     "name": "stderr",
     "output_type": "stream",
     "text": [
      "  6%|██▌                                        | 9/151 [00:00<00:13, 10.49it/s]"
     ]
    },
    {
     "name": "stdout",
     "output_type": "stream",
     "text": [
      "could not read all_documents for blair-l, trying inbox...\n"
     ]
    },
    {
     "name": "stderr",
     "output_type": "stream",
     "text": [
      " 13%|█████▎                                    | 19/151 [00:01<00:06, 20.54it/s]"
     ]
    },
    {
     "name": "stdout",
     "output_type": "stream",
     "text": [
      "could not read all_documents for causholli-m, trying inbox...\n",
      "could not read all_documents for crandell-s, trying inbox...\n"
     ]
    },
    {
     "name": "stderr",
     "output_type": "stream",
     "text": [
      " 16%|██████▋                                   | 24/151 [00:02<00:18,  6.85it/s]"
     ]
    },
    {
     "name": "stdout",
     "output_type": "stream",
     "text": [
      "could not read all_documents for donoho-l, trying inbox...\n"
     ]
    },
    {
     "name": "stderr",
     "output_type": "stream",
     "text": [
      " 23%|█████████▍                                | 34/151 [00:03<00:11, 10.36it/s]"
     ]
    },
    {
     "name": "stdout",
     "output_type": "stream",
     "text": [
      "could not read all_documents for forney-j, trying inbox...\n",
      "could not read all_documents for gang-l, trying inbox...\n",
      "could not read all_documents for geaccone-t, trying inbox...\n"
     ]
    },
    {
     "name": "stderr",
     "output_type": "stream",
     "text": [
      " 33%|█████████████▉                            | 50/151 [00:04<00:08, 11.50it/s]"
     ]
    },
    {
     "name": "stdout",
     "output_type": "stream",
     "text": [
      "could not read all_documents for harris-s, trying inbox...\n",
      "could not read all_documents for holst-k, trying inbox...\n"
     ]
    },
    {
     "name": "stderr",
     "output_type": "stream",
     "text": [
      " 35%|██████████████▋                           | 53/151 [00:04<00:07, 13.61it/s]"
     ]
    },
    {
     "name": "stdout",
     "output_type": "stream",
     "text": [
      "could not read all_documents for hyatt-k, trying inbox...\n"
     ]
    },
    {
     "name": "stderr",
     "output_type": "stream",
     "text": [
      " 42%|█████████████████▊                        | 64/151 [00:08<00:17,  5.11it/s]"
     ]
    },
    {
     "name": "stdout",
     "output_type": "stream",
     "text": [
      "could not read all_documents for keiser-k, trying inbox...\n",
      "could not read all_documents for kitchen-l, trying inbox...\n"
     ]
    },
    {
     "name": "stderr",
     "output_type": "stream",
     "text": [
      " 47%|███████████████████▋                      | 71/151 [00:09<00:11,  7.13it/s]"
     ]
    },
    {
     "name": "stdout",
     "output_type": "stream",
     "text": [
      "could not read all_documents for lokey-t, trying inbox...\n",
      "could not read all_documents for lucci-p, trying inbox...\n"
     ]
    },
    {
     "name": "stderr",
     "output_type": "stream",
     "text": [
      " 52%|█████████████████████▋                    | 78/151 [00:10<00:08,  8.31it/s]"
     ]
    },
    {
     "name": "stdout",
     "output_type": "stream",
     "text": [
      "could not read all_documents for mccarty-d, trying inbox...\n",
      "could not read all_documents for mckay-j, trying inbox...\n"
     ]
    },
    {
     "name": "stderr",
     "output_type": "stream",
     "text": [
      " 55%|███████████████████████                   | 83/151 [00:10<00:05, 12.57it/s]"
     ]
    },
    {
     "name": "stdout",
     "output_type": "stream",
     "text": [
      "could not read all_documents for meyers-a, trying inbox...\n",
      "could not read all_documents for motley-m, trying inbox...\n"
     ]
    },
    {
     "name": "stderr",
     "output_type": "stream",
     "text": [
      " 58%|████████████████████████▏                 | 87/151 [00:10<00:06, 10.39it/s]"
     ]
    },
    {
     "name": "stdout",
     "output_type": "stream",
     "text": [
      "could not read all_documents for parks-j, trying inbox...\n"
     ]
    },
    {
     "name": "stderr",
     "output_type": "stream",
     "text": [
      " 67%|███████████████████████████▍             | 101/151 [00:11<00:02, 21.65it/s]"
     ]
    },
    {
     "name": "stdout",
     "output_type": "stream",
     "text": [
      "could not read all_documents for phanis-s, trying inbox...\n",
      "could not read all_documents for platter-p, trying inbox...\n",
      "could not read all_documents for quigley-d, trying inbox...\n",
      "could not read all_documents for rapp-b, trying inbox...\n",
      "could not read all_documents for reitmeyer-j, trying inbox...\n",
      "could not read all_documents for richey-c, trying inbox...\n",
      "could not read all_documents for ring-r, trying inbox...\n"
     ]
    },
    {
     "name": "stderr",
     "output_type": "stream",
     "text": [
      " 70%|████████████████████████████▊            | 106/151 [00:11<00:02, 16.47it/s]"
     ]
    },
    {
     "name": "stdout",
     "output_type": "stream",
     "text": [
      "could not read all_documents for salisbury-h, trying inbox...\n"
     ]
    },
    {
     "name": "stderr",
     "output_type": "stream",
     "text": [
      " 73%|█████████████████████████████▊           | 110/151 [00:12<00:02, 13.73it/s]"
     ]
    },
    {
     "name": "stdout",
     "output_type": "stream",
     "text": [
      "could not read all_documents for scholtes-d, trying inbox...\n",
      "could not read all_documents for schoolcraft-d, trying inbox...\n"
     ]
    },
    {
     "name": "stderr",
     "output_type": "stream",
     "text": [
      " 75%|██████████████████████████████▉          | 114/151 [00:12<00:02, 14.87it/s]"
     ]
    },
    {
     "name": "stdout",
     "output_type": "stream",
     "text": [
      "could not read all_documents for semperger-c, trying inbox...\n"
     ]
    },
    {
     "name": "stderr",
     "output_type": "stream",
     "text": [
      " 83%|██████████████████████████████████▏      | 126/151 [00:13<00:01, 12.76it/s]"
     ]
    },
    {
     "name": "stdout",
     "output_type": "stream",
     "text": [
      "could not read all_documents for slinger-r, trying inbox...\n",
      "could not read all_documents for solberg-g, trying inbox...\n",
      "could not read all_documents for staab-t, trying inbox...\n",
      "could not read all_documents for steffes-j, trying inbox...\n",
      "could not read all_documents for stokley-c, trying inbox...\n",
      "could not read all_documents for swerzbin-m, trying inbox...\n"
     ]
    },
    {
     "name": "stderr",
     "output_type": "stream",
     "text": [
      " 93%|██████████████████████████████████████▎  | 141/151 [00:14<00:00, 13.97it/s]"
     ]
    },
    {
     "name": "stdout",
     "output_type": "stream",
     "text": [
      "could not read all_documents for thomas-p, trying inbox...\n",
      "could not read all_documents for watson-k, trying inbox...\n"
     ]
    },
    {
     "name": "stderr",
     "output_type": "stream",
     "text": [
      "100%|█████████████████████████████████████████| 151/151 [00:15<00:00, 10.06it/s]"
     ]
    },
    {
     "name": "stdout",
     "output_type": "stream",
     "text": [
      "could not read all_documents for whitt-m, trying inbox...\n",
      "could not read all_documents for williams-w3, trying inbox...\n",
      "Message-ID: <5161987.1075855666285.JavaMail.evans@thyme>\n",
      "Date: Tue, 12 Dec 2000 05:27:00 -0800 (PST)\n",
      "From: jsmith@austintx.com\n",
      "To: phillip.k.allen@enron.com\n",
      "Subject: RE: stage coach\n",
      "Mime-Version: 1.0\n",
      "Content-Type: text/plain; charset=us-ascii\n",
      "Content-Transfer-Encoding: 7bit\n",
      "X-From: \"Jeff Smith\" <jsmith@austintx.com>\n",
      "X-To: <Phillip.K.Allen@enron.com>\n",
      "X-cc: \n",
      "X-bcc: \n",
      "X-Folder: \\Phillip_Allen_Dec2000\\Notes Folders\\All documents\n",
      "X-Origin: Allen-P\n",
      "X-FileName: pallen.nsf\n",
      "\n",
      "Phillip,\n",
      "\n",
      "I am completing my marketing package for the Stage.  I also need the 1999\n",
      "statement and a rent roll.  Please send ASAP.\n",
      "\n",
      "352202027\n"
     ]
    },
    {
     "name": "stderr",
     "output_type": "stream",
     "text": [
      "\n"
     ]
    }
   ],
   "source": [
    "text_dir = \"maildir\"\n",
    "out_file = \"data/all.txt\"\n",
    "os.makedirs('data', exist_ok=True)\n",
    "\n",
    "with open(out_file, 'w+') as out_f:\n",
    "    for employee in tqdm(sorted(os.listdir(text_dir))):\n",
    "        path = os.path.join(text_dir, employee, \"all_documents\")\n",
    "        if not os.path.exists(path):\n",
    "            print(f\"could not read all_documents for {employee}, trying inbox...\")\n",
    "            path = os.path.join(text_dir, employee, \"inbox\")\n",
    "            if not os.path.exists(path):\n",
    "                continue\n",
    "        for fname in os.listdir(path):\n",
    "            try:\n",
    "                with open(os.path.join(path, fname), \"r\") as in_f:\n",
    "                    out_f.write(in_f.read())\n",
    "            except Exception as e:\n",
    "                pass"
   ]
  },
  {
   "cell_type": "code",
   "execution_count": 3,
   "id": "33dcb6c2-f36a-4714-98f8-d42adeca39c3",
   "metadata": {},
   "outputs": [
    {
     "name": "stdout",
     "output_type": "stream",
     "text": [
      "Message-ID: <5161987.1075855666285.JavaMail.evans@thyme>\n",
      "Date: Tue, 12 Dec 2000 05:27:00 -0800 (PST)\n",
      "From: jsmith@austintx.com\n",
      "To: phillip.k.allen@enron.com\n",
      "Subject: RE: stage coach\n",
      "Mime-Version: 1.0\n",
      "Content-Type: text/plain; charset=us-ascii\n",
      "Content-Transfer-Encoding: 7bit\n",
      "X-From: \"Jeff Smith\" <jsmith@austintx.com>\n",
      "X-To: <Phillip.K.Allen@enron.com>\n",
      "X-cc: \n",
      "X-bcc: \n",
      "X-Folder: \\Phillip_Allen_Dec2000\\Notes Folders\\All documents\n",
      "X-Origin: Allen-P\n",
      "X-FileName: pallen.nsf\n",
      "\n",
      "Phillip,\n",
      "\n",
      "I am completing my marketing package for the Stage.  I also need the 1999\n",
      "statement and a rent roll.  Please send ASAP.\n",
      "\n",
      "352202027\n"
     ]
    }
   ],
   "source": [
    "out_file = \"data/all.txt\"\n",
    "\n",
    "with open(out_file, 'r') as data_f:\n",
    "    text = data_f.read()\n",
    "\n",
    "print(text[:600])\n",
    "print(len(text))"
   ]
  },
  {
   "cell_type": "code",
   "execution_count": 4,
   "id": "9f8bc022-ce65-46ff-aff2-e4a2052034bf",
   "metadata": {},
   "outputs": [
    {
     "name": "stdout",
     "output_type": "stream",
     "text": [
      "122526421\n",
      "[12837, 12, 2389, 25, 1279, 47493, 27301, 13, 940, 38569, 2816, 27310, 26279, 13, 29584, 25804, 13, 1990, 504, 31, 20057, 1326, 29, 198, 10430, 25, 30030, 11, 1105, 4280, 4751, 8870, 25, 1983, 25, 405, 532, 2919, 405, 357, 47, 2257, 8, 198, 4863, 25, 474, 21453, 31, 64, 436, 600, 87, 13, 785, 198, 2514, 25, 872, 359, 541, 13, 74, 13, 439, 268, 31, 268, 1313, 13, 785, 198, 19776, 25, 4526, 25, 3800, 3985, 198, 44, 524, 12, 14815, 25, 352, 13, 15, 198, 19746, 12, 6030, 25, 2420, 14, 25638, 26, 34534, 316, 28, 385]\n"
     ]
    }
   ],
   "source": [
    "enc = tiktoken.get_encoding('r50k_base')\n",
    "encoded = enc.encode(text)\n",
    "print(len(encoded))\n",
    "print(encoded[:100])"
   ]
  },
  {
   "cell_type": "code",
   "execution_count": 5,
   "id": "cc75f250-26c7-480b-9e5f-dd7368ecb415",
   "metadata": {},
   "outputs": [
    {
     "name": "stdout",
     "output_type": "stream",
     "text": [
      "Train: 110273778, Dev: 12252643\n"
     ]
    }
   ],
   "source": [
    "data = torch.tensor(encoded, dtype=torch.long)\n",
    "n = int(0.9 * len(data))\n",
    "train_data = data[:n]\n",
    "dev_data = data[n:]\n",
    "print(f\"Train: {len(train_data)}, Dev: {len(dev_data)}\")"
   ]
  },
  {
   "cell_type": "code",
   "execution_count": 658,
   "id": "58fb1067-c5bf-499b-aebd-6affd9397d39",
   "metadata": {},
   "outputs": [
    {
     "data": {
      "text/plain": [
       "torch.Size([8, 128])"
      ]
     },
     "execution_count": 658,
     "metadata": {},
     "output_type": "execute_result"
    }
   ],
   "source": [
    "torch.manual_seed(1)\n",
    "\n",
    "context_length = 128\n",
    "batch_size = 8\n",
    "\n",
    "def get_batch(split, batch_size=batch_size):\n",
    "    data = train_data if split == 'train' else dev_data\n",
    "    ix = torch.randint(len(data) - context_length, (batch_size,))\n",
    "    x = torch.stack([data[i:i+context_length] for i in ix])\n",
    "    y = torch.stack([data[i+1:i+context_length+1] for i in ix])\n",
    "    x = x.to(device)\n",
    "    y = y.to(device)\n",
    "    return x, y\n",
    "\n",
    "get_batch('train')[0].shape"
   ]
  },
  {
   "cell_type": "code",
   "execution_count": 659,
   "id": "d8f74d0b-7121-48f3-91f3-f6a0c11ea40e",
   "metadata": {},
   "outputs": [],
   "source": [
    "# head_size = 16\n",
    "import math\n",
    "\n",
    "torch.manual_seed(1)\n",
    "n_head = 4\n",
    "\n",
    "\n",
    "class MLP(nn.Module):\n",
    "    def __init__(self):\n",
    "        super().__init__()\n",
    "        self.hidden = nn.Linear(n_embed, 4*n_embed)\n",
    "        self.relu = nn.ReLU()\n",
    "        self.proj = nn.Linear(4*n_embed, n_embed)\n",
    "\n",
    "    def forward(self, x):\n",
    "        x = self.relu(self.hidden(x))\n",
    "        x = self.proj(x)\n",
    "        return x\n",
    "\n",
    "    def forward_embedding(self, x):\n",
    "        x = self.relu(self.hidden(x))\n",
    "        return x\n",
    "        \n",
    "\n",
    "class Head(nn.Module):\n",
    "    def __init__(self, head_size):\n",
    "        super().__init__()\n",
    "        self.key = nn.Linear(n_embed, head_size, bias=False)\n",
    "        self.query = nn.Linear(n_embed, head_size, bias=False)\n",
    "        self.value = nn.Linear(n_embed, head_size, bias=False)\n",
    "        self.register_buffer('tril', torch.tril(torch.ones(context_length, context_length)))\n",
    "\n",
    "    def forward(self, x):\n",
    "        # out = nn.scaled_dot_product_attention(self.key, self.query, self.value, causal=True)\n",
    "        # return out\n",
    "\n",
    "        B, T, C = x.shape\n",
    "        k = self.key(x)\n",
    "        q = self.query(x)\n",
    "        scale_factor = 1 / math.sqrt(C)\n",
    "        attn_weights = q @ k.transpose(-2, -1) * scale_factor\n",
    "        attn_weights = attn_weights.masked_fill(self.tril[:T, :T] == 0, float('-inf'))\n",
    "        attn_weights = F.softmax(attn_weights, dim=-1)\n",
    "        v = self.value(x)\n",
    "        out = attn_weights @ v\n",
    "        return out\n",
    "        \n",
    "class MultiHeadAttention(nn.Module):\n",
    "    def __init__(self):\n",
    "        super().__init__()\n",
    "        self.heads = nn.ModuleList([Head(n_embed//n_head) for _ in range(n_head)])\n",
    "\n",
    "    def forward(self, x):\n",
    "        x = torch.cat([h(x) for h in self.heads], dim=-1)\n",
    "        return x\n",
    "\n",
    "class Block(nn.Module):\n",
    "    def __init__(self):\n",
    "        super().__init__()\n",
    "        self.ln1 = nn.LayerNorm(n_embed)\n",
    "        self.attn = MultiHeadAttention()\n",
    "        self.ln2 = nn.LayerNorm(n_embed)\n",
    "        self.mlp = MLP()\n",
    "\n",
    "    def forward(self, x):\n",
    "        x = x + self.attn(self.ln1(x))\n",
    "        x = x + self.mlp(self.ln2(x))\n",
    "        # x = x + self.attn(x)\n",
    "        # x = x + self.mlp(x)\n",
    "        return x\n",
    "\n",
    "    def forward_embedding(self, x):\n",
    "        x = x + self.attn(self.ln1(x))\n",
    "        x = x + self.mlp(self.ln2(x))\n",
    "        # x = self.mlp.forward_embedding(self.ln2(x))\n",
    "        return x"
   ]
  },
  {
   "cell_type": "code",
   "execution_count": 660,
   "id": "fb37ebcd-1c76-4ad5-904c-32b703258e96",
   "metadata": {},
   "outputs": [],
   "source": [
    "import torch.nn as nn\n",
    "import torch.nn.functional as F\n",
    "\n",
    "vocab_size = 50304\n",
    "n_embed = 128\n",
    "\n",
    "class Transformer(nn.Module):\n",
    "    def __init__(self):\n",
    "        super().__init__()\n",
    "        self.token_embed = nn.Embedding(vocab_size, n_embed)\n",
    "        self.position_embed = nn.Embedding(context_length, n_embed)\n",
    "        self.attn_block = Block()\n",
    "        self.layer_norm = nn.LayerNorm(n_embed)\n",
    "        self.lm_head = nn.Linear(n_embed, vocab_size)\n",
    "\n",
    "    def _pre_attn_pass(self, idx):\n",
    "        B, T = idx.shape\n",
    "        tok_embedding = self.token_embed(idx)\n",
    "        pos_embedding = self.position_embed(torch.arange(T, device=device))\n",
    "        return tok_embedding + pos_embedding\n",
    "\n",
    "    def forward(self, idx, targets=None):\n",
    "        x = self._pre_attn_pass(idx)\n",
    "        x = self.attn_block(x)\n",
    "        x = self.layer_norm(x)\n",
    "        logits = self.lm_head(x)\n",
    "        loss = None\n",
    "        if targets is not None:\n",
    "            B, T, C = logits.shape\n",
    "            flat_logits = logits.view(B*T, C)\n",
    "            targets = targets.view(B*T)\n",
    "            loss = F.cross_entropy(flat_logits, targets)\n",
    "        return logits, loss\n",
    "\n",
    "    def generate(self, idx, max_new_tokens):\n",
    "        for _ in range(max_new_tokens):\n",
    "            idx_cond = idx[:, -context_length:]\n",
    "            logits, _ = self(idx_cond)\n",
    "            logits = logits[:, -1, :]\n",
    "            probs = F.softmax(logits, dim=-1)\n",
    "            idx_next = torch.multinomial(probs, num_samples=1)\n",
    "            idx = torch.cat((idx, idx_next), dim=1)\n",
    "        return idx\n",
    "\n",
    "    def forward_embedding(self, idx):\n",
    "        x = self._pre_attn_pass(idx)\n",
    "        x = self.attn_block.forward_embedding(x)\n",
    "        return x\n",
    "            \n",
    "        "
   ]
  },
  {
   "cell_type": "code",
   "execution_count": 661,
   "id": "ddc5166d-09d0-4c95-ab0e-5a0c392391e6",
   "metadata": {},
   "outputs": [],
   "source": [
    "def count_params(m):\n",
    "    print(sum(p.numel() for p in m.parameters()))"
   ]
  },
  {
   "cell_type": "code",
   "execution_count": 662,
   "id": "3fc9185d-64f5-4c8e-a898-28c101165c4c",
   "metadata": {},
   "outputs": [
    {
     "name": "stdout",
     "output_type": "stream",
     "text": [
      "Transformer(\n",
      "  (token_embed): Embedding(50304, 128)\n",
      "  (position_embed): Embedding(128, 128)\n",
      "  (attn_block): Block(\n",
      "    (ln1): LayerNorm((128,), eps=1e-05, elementwise_affine=True)\n",
      "    (attn): MultiHeadAttention(\n",
      "      (heads): ModuleList(\n",
      "        (0-3): 4 x Head(\n",
      "          (key): Linear(in_features=128, out_features=32, bias=False)\n",
      "          (query): Linear(in_features=128, out_features=32, bias=False)\n",
      "          (value): Linear(in_features=128, out_features=32, bias=False)\n",
      "        )\n",
      "      )\n",
      "    )\n",
      "    (ln2): LayerNorm((128,), eps=1e-05, elementwise_affine=True)\n",
      "    (mlp): MLP(\n",
      "      (hidden): Linear(in_features=128, out_features=512, bias=True)\n",
      "      (relu): ReLU()\n",
      "      (proj): Linear(in_features=512, out_features=128, bias=True)\n",
      "    )\n",
      "  )\n",
      "  (layer_norm): LayerNorm((128,), eps=1e-05, elementwise_affine=True)\n",
      "  (lm_head): Linear(in_features=128, out_features=50304, bias=True)\n",
      ")\n",
      "13126144\n"
     ]
    }
   ],
   "source": [
    "model = Transformer()\n",
    "model = model.to(device)\n",
    "print(model)\n",
    "count_params(model)"
   ]
  },
  {
   "cell_type": "code",
   "execution_count": 663,
   "id": "8e354a58-4291-4e78-9027-02c7ecbcaa7b",
   "metadata": {},
   "outputs": [],
   "source": [
    "eval_iters = 20\n",
    "\n",
    "@torch.no_grad()\n",
    "def estimate_loss(steps=eval_iters):\n",
    "    out = {}\n",
    "    model.eval()\n",
    "    for split in ['train', 'dev']:\n",
    "        losses = torch.zeros(steps)\n",
    "        for k in tqdm(range(steps)):\n",
    "            xb, yb = get_batch(split)\n",
    "            logist, loss = model(xb, yb)\n",
    "            losses[k] = loss.item()\n",
    "        out[split] = losses.mean()\n",
    "    model.train()\n",
    "    return out"
   ]
  },
  {
   "cell_type": "code",
   "execution_count": 664,
   "id": "51212280-2c9f-49c6-92d0-87c96d398850",
   "metadata": {},
   "outputs": [
    {
     "name": "stderr",
     "output_type": "stream",
     "text": [
      "100%|███████████████████████████████████████████| 20/20 [00:03<00:00,  5.24it/s]\n",
      "100%|███████████████████████████████████████████| 20/20 [00:00<00:00, 60.91it/s]\n"
     ]
    },
    {
     "data": {
      "text/plain": [
       "{'train': tensor(11.0028), 'dev': tensor(11.0048)}"
      ]
     },
     "execution_count": 664,
     "metadata": {},
     "output_type": "execute_result"
    }
   ],
   "source": [
    "estimate_loss()"
   ]
  },
  {
   "cell_type": "code",
   "execution_count": 665,
   "id": "202c7f5e-0c19-47bc-ae23-013c34ddc3a4",
   "metadata": {},
   "outputs": [
    {
     "data": {
      "text/plain": [
       "torch.Size([2048, 128, 128])"
      ]
     },
     "execution_count": 665,
     "metadata": {},
     "output_type": "execute_result"
    }
   ],
   "source": [
    "xb, _ = get_batch('train', 2048)\n",
    "with torch.no_grad():\n",
    "    model.eval()\n",
    "    x = model.forward_embedding(xb)\n",
    "    model.train()\n",
    "x.shape"
   ]
  },
  {
   "cell_type": "code",
   "execution_count": 666,
   "id": "e053003f-6045-4846-ad9b-b238da3c5c81",
   "metadata": {},
   "outputs": [],
   "source": [
    "optimizer = torch.optim.AdamW(model.parameters(), lr=1e-3)\n",
    "losses = []"
   ]
  },
  {
   "cell_type": "code",
   "execution_count": 688,
   "id": "d561b770-eb05-4370-a13a-784a90dcb2b6",
   "metadata": {},
   "outputs": [
    {
     "name": "stderr",
     "output_type": "stream",
     "text": [
      "Train loss: 2.4535: 100%|█████████████████| 10000/10000 [14:26<00:00, 11.54it/s]\n"
     ]
    },
    {
     "data": {
      "image/png": "[encoded data removed]",
      "text/plain": [
       "<Figure size 640x480 with 1 Axes>"
      ]
     },
     "metadata": {},
     "output_type": "display_data"
    },
    {
     "name": "stderr",
     "output_type": "stream",
     "text": [
      "100%|█████████████████████████████████████████| 200/200 [00:03<00:00, 54.62it/s]\n",
      "100%|█████████████████████████████████████████| 200/200 [00:03<00:00, 66.51it/s]\n"
     ]
    },
    {
     "data": {
      "text/plain": [
       "{'train': tensor(2.5512), 'dev': tensor(2.9458)}"
      ]
     },
     "execution_count": 688,
     "metadata": {},
     "output_type": "execute_result"
    }
   ],
   "source": [
    "from tqdm import tqdm\n",
    "import matplotlib.pyplot as plt\n",
    "import numpy as np\n",
    "\n",
    "optimizer.lr = 1e-4\n",
    "batch_size = 16\n",
    "n_steps = 10000\n",
    "avg_window = 64\n",
    "\n",
    "pbar = tqdm(range(n_steps))\n",
    "for steps in pbar:\n",
    "    xb, yb = get_batch('train', batch_size)\n",
    "    logits, loss = model(xb, yb)\n",
    "    losses.append(loss.item())\n",
    "    pbar.set_description(f\"Train loss: {np.mean(losses[-avg_window:]):.4f}\")\n",
    "    optimizer.zero_grad(set_to_none=True)\n",
    "    loss.backward()\n",
    "    optimizer.step()\n",
    "\n",
    "def moving_average(x, w):\n",
    "    return np.convolve(x, np.ones(w), 'valid') / w\n",
    "\n",
    "plt.plot(moving_average(losses, avg_window))\n",
    "plt.show()\n",
    "estimate_loss(200)"
   ]
  },
  {
   "cell_type": "code",
   "execution_count": 689,
   "id": "19a79f10-dcc2-4ba8-8c78-d0b00618a264",
   "metadata": {},
   "outputs": [
    {
     "data": {
      "text/plain": [
       "[<matplotlib.lines.Line2D at 0x64029f2e0>]"
      ]
     },
     "execution_count": 689,
     "metadata": {},
     "output_type": "execute_result"
    },
    {
     "data": {
      "image/png": "[encoded data removed]",
      "text/plain": [
       "<Figure size 640x480 with 1 Axes>"
      ]
     },
     "metadata": {},
     "output_type": "display_data"
    }
   ],
   "source": [
    "plt.plot(moving_average(losses, 1000))"
   ]
  },
  {
   "cell_type": "code",
   "execution_count": 692,
   "id": "ecb06f35-6ad2-462f-b9d0-10d2ea8271c4",
   "metadata": {},
   "outputs": [
    {
     "name": "stderr",
     "output_type": "stream",
     "text": [
      "100%|███████████████████████████████████████| 1000/1000 [00:14<00:00, 67.87it/s]\n",
      "100%|███████████████████████████████████████| 1000/1000 [00:13<00:00, 73.87it/s]\n"
     ]
    },
    {
     "data": {
      "text/plain": [
       "tensor(2.4868)"
      ]
     },
     "execution_count": 692,
     "metadata": {},
     "output_type": "execute_result"
    }
   ],
   "source": [
    "train_loss, dev_loss = estimate_loss(1000).values()\n",
    "train_loss"
   ]
  },
  {
   "cell_type": "code",
   "execution_count": 693,
   "id": "79c9cba7-15ef-4e33-bdd9-625f3c5ba6a0",
   "metadata": {},
   "outputs": [],
   "source": [
    "path = f\"models/transformer_128_0_{dev_loss:.3f}.pt\"\n",
    "os.makedirs('models', exist_ok=True)\n",
    "\n",
    "torch.save({\n",
    "            'model_state_dict': model.state_dict(),\n",
    "            'optimizer_state_dict': optimizer.state_dict(),\n",
    "            'train_loss': train_loss,\n",
    "            'dev_loss': dev_loss,\n",
    "            # 'steps': len(losses),\n",
    "            }, path)"
   ]
  },
  {
   "cell_type": "code",
   "execution_count": 700,
   "id": "b99c1be4-7ee4-4729-81da-a4c563c0aca3",
   "metadata": {},
   "outputs": [
    {
     "data": {
      "text/plain": [
       "<All keys matched successfully>"
      ]
     },
     "execution_count": 700,
     "metadata": {},
     "output_type": "execute_result"
    }
   ],
   "source": [
    "checkpoint = torch.load(path)\n",
    "model = Transformer().to(device)\n",
    "model.load_state_dict(checkpoint['model_state_dict'])"
   ]
  },
  {
   "cell_type": "code",
   "execution_count": 702,
   "id": "f84d6083-b45f-440e-a843-3cf7dd1ebdd2",
   "metadata": {},
   "outputs": [
    {
     "name": "stdout",
     "output_type": "stream",
     "text": [
      "Date: Tue, 31 Oct 2000 09:18:00 -0700 (PDT)\n",
      "From: maureen.ray@enron.com\n",
      "To: janet.moore@enron.com\n",
      "Subject: Re: Partners stir on Caithness\n",
      "Miles <rhrlie.h McCreitz@enron.com>;\n",
      "> Chazian, GM\n",
      "> Robert\n",
      "> <Bob.hargras@enron.com>; Fri, 25 Aug 2000 04:05:11 -0700 (PDT)\n",
      " \n",
      " >> jkmecrisa@cookcoairways.com\n",
      "> too cool clothesetschards.Message-ID: <28013007.10758601596.JavaMail.evans@thyme>\n",
      "Date: Fri, 12 Oct 2000 19:43:00 -0700 (PDT)\n",
      "From: Bobby Bigle Hotel\n",
      "Cc: michael.eubran@enron.com\n",
      "To: mark.guzman@enron.com\n",
      "Subject: FW: ATL________F Pitch\n",
      "Mime-Version: 1.0\n",
      "Content-Type: text/plain; charset=us-ascii\n",
      "Content-Transfer-Encoding: 7bit\n",
      "X-From: Jeff Dasovich\n",
      "X-To: Alan Comnes, Angela Schwarz, Beverly Aden, Brenda Barreda, Carol Moffett, Cathy Corbin, Chris Long, Kerry Stasiaman, Evan Hughes, Jody Blackburn, Chris Hendrix, Dan LeBelden, Christopher F Calger, Vicki Sharp, Robert Hirtle, sand Myung, Kuehl, Michael Tribolet, Dave Perrino\n",
      "X-ccubbin, please respond to staff members who \n",
      "sender with KCSSI an end to BP's phone Forto \n",
      "later (secret deregulate onto our views in their Matching reference\n",
      "of curves are=20\n",
      "making trials, as \"omas\" as energy, I gained a financial bailout for=\n",
      "=20\n",
      "future months of revenue for electricelectric costs, created his interface for power,\" Fundle said Scient=\n",
      "l=20\n",
      "families of Enron that much above doesn't sooner than a cap, saying\n",
      "they should revert too direct bills to help,=20\n",
      "participants available.\n",
      "\n",
      "I'm looking at Herman such template  seen every PUC refer toimon.=20\n",
      "But golfcker's Electricity\n"
     ]
    }
   ],
   "source": [
    "idx = torch.tensor(enc.encode('Date:'), dtype=torch.long)[None, :].to(device)\n",
    "# torch.manual_seed(1)\n",
    "with torch.no_grad():\n",
    "    print(enc.decode(model.generate(idx, 512)[0].tolist()))"
   ]
  },
  {
   "cell_type": "code",
   "execution_count": 680,
   "id": "99d998d3-a1ca-45f3-9cf8-52aea482e0cf",
   "metadata": {},
   "outputs": [
    {
     "name": "stdout",
     "output_type": "stream",
     "text": [
      "On branch main\n",
      "Changes not staged for commit:\n",
      "  (use \"git add <file>...\" to update what will be committed)\n",
      "  (use \"git restore <file>...\" to discard changes in working directory)\n",
      "\t\u001b[31mmodified:   transformer.ipynb\u001b[m\n",
      "\n",
      "Untracked files:\n",
      "  (use \"git add <file>...\" to include in what will be committed)\n",
      "\t\u001b[31m.DS_Store\u001b[m\n",
      "\t\u001b[31m.ipynb_checkpoints/\u001b[m\n",
      "\t\u001b[31mdata/\u001b[m\n",
      "\t\u001b[31mmaildir/\u001b[m\n",
      "\n",
      "no changes added to commit (use \"git add\" and/or \"git commit -a\")\n"
     ]
    },
    {
     "name": "stderr",
     "output_type": "stream",
     "text": [
      "python3.10(28816) MallocStackLogging: can't turn off malloc stack logging because it was not enabled.\n"
     ]
    }
   ],
   "source": [
    "!git c \"add layernorm\""
   ]
  },
  {
   "cell_type": "code",
   "execution_count": 637,
   "id": "39373581-5db6-45d5-a0ae-f54e0756063f",
   "metadata": {},
   "outputs": [],
   "source": [
    "lambda_reg = 0.0001  # 0.008\n",
    "\n",
    "class SparseAutoencoder(nn.Module):\n",
    "    def __init__(self, n_features, lambda_reg=lambda_reg):\n",
    "        super().__init__()\n",
    "        self.encoder = nn.Linear(n_embed * 4, n_features)\n",
    "        self.decoder = nn.Linear(n_features, n_embed * 4)\n",
    "        # self.decoder_bias = nn.Parameter(torch.zeros(n_embed * 4))  # explicitly define decoder bias so we can subtract it from the input\n",
    "        self.relu = nn.ReLU()\n",
    "        self.lambda_reg = lambda_reg\n",
    "\n",
    "    def forward(self, x_in, compute_loss=False):\n",
    "        f = self.encode(x_in)\n",
    "        x = self.decoder(f)\n",
    "        if compute_loss:\n",
    "            recon_loss = F.mse_loss(x, x_in)\n",
    "            reg_loss = self.lambda_reg * f.abs().sum()\n",
    "            loss = recon_loss + reg_loss\n",
    "        else:\n",
    "            loss = None\n",
    "        return x, loss\n",
    "\n",
    "    def encode(self, x_in):\n",
    "        x = x_in - self.decoder.bias\n",
    "        f = self.relu(self.encoder(x))\n",
    "        return f\n",
    "\n",
    "    def normalize_decoder_weights(self):\n",
    "        with torch.no_grad():\n",
    "            self.decoder.weight.data = nn.functional.normalize(self.decoder.weight.data, p=2, dim=1)"
   ]
  },
  {
   "cell_type": "code",
   "execution_count": 638,
   "id": "920dda90-64fe-46f9-939a-df78d834bee1",
   "metadata": {},
   "outputs": [
    {
     "name": "stdout",
     "output_type": "stream",
     "text": [
      "4198912\n"
     ]
    },
    {
     "data": {
      "text/plain": [
       "SparseAutoencoder(\n",
       "  (encoder): Linear(in_features=512, out_features=4096, bias=True)\n",
       "  (decoder): Linear(in_features=4096, out_features=512, bias=True)\n",
       "  (relu): ReLU()\n",
       ")"
      ]
     },
     "execution_count": 638,
     "metadata": {},
     "output_type": "execute_result"
    }
   ],
   "source": [
    "autoencoder = SparseAutoencoder(4096).to(device)\n",
    "count_params(autoencoder)\n",
    "autoencoder"
   ]
  },
  {
   "cell_type": "code",
   "execution_count": 639,
   "id": "d55a3d1c-4e4c-49b6-8e8e-1fb08e74c4a0",
   "metadata": {},
   "outputs": [],
   "source": [
    "autoencoder.normalize_decoder_weights()"
   ]
  },
  {
   "cell_type": "code",
   "execution_count": 640,
   "id": "548f5bf9-9a88-40d7-b76e-07b1c85e0f90",
   "metadata": {},
   "outputs": [
    {
     "data": {
      "text/plain": [
       "torch.Size([4, 512])"
      ]
     },
     "execution_count": 640,
     "metadata": {},
     "output_type": "execute_result"
    }
   ],
   "source": [
    "autoencoder(torch.randn(4, 512).to(device))[0].shape"
   ]
  },
  {
   "cell_type": "code",
   "execution_count": 641,
   "id": "da8e7b72-ba8f-485f-ad74-837a24d7abc3",
   "metadata": {},
   "outputs": [
    {
     "data": {
      "text/plain": [
       "torch.Size([512, 4096])"
      ]
     },
     "execution_count": 641,
     "metadata": {},
     "output_type": "execute_result"
    }
   ],
   "source": [
    "autoencoder.decoder.weight.shape"
   ]
  },
  {
   "cell_type": "code",
   "execution_count": 642,
   "id": "a6ba9eb9-df5c-4430-a47f-d8e3d86dff1a",
   "metadata": {},
   "outputs": [
    {
     "data": {
      "text/plain": [
       "torch.Size([2, 512])"
      ]
     },
     "execution_count": 642,
     "metadata": {},
     "output_type": "execute_result"
    }
   ],
   "source": [
    "(torch.randn(2, 4096).to(device) @ autoencoder.encoder.weight).shape"
   ]
  },
  {
   "cell_type": "code",
   "execution_count": 643,
   "id": "135c4b8a-cc9b-4249-859e-922d254a877b",
   "metadata": {},
   "outputs": [],
   "source": [
    "autoencoder = SparseAutoencoder(4096).to(device)\n",
    "optimizer = torch.optim.Adam(autoencoder.parameters(), lr=1e-3)"
   ]
  },
  {
   "cell_type": "code",
   "execution_count": 644,
   "id": "93ddc4d1-0252-46ea-9bda-05e36bd03152",
   "metadata": {},
   "outputs": [
    {
     "name": "stderr",
     "output_type": "stream",
     "text": [
      "100%|██████████████████████████████████████| 1000/1000 [00:04<00:00, 230.22it/s]"
     ]
    },
    {
     "name": "stdout",
     "output_type": "stream",
     "text": [
      "tensor(1.0229, device='mps:0', grad_fn=<AddBackward0>)\n"
     ]
    },
    {
     "name": "stderr",
     "output_type": "stream",
     "text": [
      "\n"
     ]
    }
   ],
   "source": [
    "train_steps = 1000\n",
    "\n",
    "optimizer.lr = 1e-3\n",
    "\n",
    "for _ in tqdm(range(train_steps)):\n",
    "    x = torch.randn((128, 512)).to(device)\n",
    "    optimizer.zero_grad()\n",
    "    outputs, loss = autoencoder(x, compute_loss=True)\n",
    "    loss.backward()\n",
    "    optimizer.step()\n",
    "    # autoencoder.normalize_decoder_weights()\n",
    "print(loss)"
   ]
  },
  {
   "cell_type": "code",
   "execution_count": 645,
   "id": "ff905d34-63c9-4c26-9fc8-75fac2b25409",
   "metadata": {},
   "outputs": [
    {
     "data": {
      "image/png": "[encoded data removed]",
      "text/plain": [
       "<Figure size 640x480 with 1 Axes>"
      ]
     },
     "metadata": {},
     "output_type": "display_data"
    }
   ],
   "source": [
    "with torch.no_grad():\n",
    "    out = autoencoder.encode(x).cpu()[:,:128]\n",
    "    plt.imshow(out/(out.max() + 1e-5))"
   ]
  },
  {
   "cell_type": "code",
   "execution_count": 646,
   "id": "46faf94d-f843-4632-8172-637bc34846b1",
   "metadata": {},
   "outputs": [
    {
     "data": {
      "text/plain": [
       "tensor([[ 0.2523, -2.2712,  0.5201,  ...,  0.7624, -0.4021,  0.7374],\n",
       "        [ 2.3017, -1.6882,  0.1241,  ...,  0.2256,  0.4707,  1.0483],\n",
       "        [-1.2172,  0.0509, -0.8322,  ...,  0.6485,  0.1770, -0.7193],\n",
       "        ...,\n",
       "        [-1.1738,  0.8410,  1.3457,  ..., -1.1372, -0.1502, -0.1591],\n",
       "        [ 0.2982,  1.2405, -0.1845,  ..., -1.2686,  2.5183, -1.5507],\n",
       "        [ 1.1816, -1.0091,  1.1837,  ...,  0.3506, -0.2324, -0.6876]],\n",
       "       device='mps:0')"
      ]
     },
     "execution_count": 646,
     "metadata": {},
     "output_type": "execute_result"
    }
   ],
   "source": [
    "x"
   ]
  },
  {
   "cell_type": "code",
   "execution_count": 647,
   "id": "91561e28-91a6-4c2e-8674-a090a44cfa47",
   "metadata": {},
   "outputs": [
    {
     "data": {
      "text/plain": [
       "tensor([  0,   0,   0,   0,   0,   0,   0,   0,   0,   0,   0,   0,   0,   0,\n",
       "          0,   0,   0,   0,   0,   0,   0,   0,   0,   0,   0,   0,   0,   0,\n",
       "          0,   0,   0,   0,   0,   0,   0,   0,   0,   0,   0,   0,   0,   0,\n",
       "          0, 815,   0,   0,   0,   0,   0,   0,   0,   0,   0,   0,   0,   0,\n",
       "          0,   0,   0,   0,   0,   0,   0,   0,   0,   0,   0,   0,   0,   0,\n",
       "          0,   0,   0,   0,   0,   0,   0,   0,   0,   0,   0,   0,   0,   0,\n",
       "          0,   0,   0,   0,   0,   0,   0,   0,   0,   0,   0,   0,   0,   0,\n",
       "          0,   0,   0,   0,   0,   0,   0,   0,   0,   0,   0,   0,   0,   0,\n",
       "          0,   0,   0,   0,   0,   0,   0,   0,   0,   0,   0,   0,   0,   0,\n",
       "          0,   0], device='mps:0')"
      ]
     },
     "execution_count": 647,
     "metadata": {},
     "output_type": "execute_result"
    }
   ],
   "source": [
    "# print(autoencoder(x))\n",
    "((autoencoder.encode(x) > 1e-5) * 1).sum(dim=1)"
   ]
  },
  {
   "cell_type": "code",
   "execution_count": 362,
   "id": "31c0ed53-8f71-42b8-be37-935b408dc504",
   "metadata": {},
   "outputs": [
    {
     "data": {
      "text/plain": [
       "tensor([1.0000, 1.0000, 1.0000, 1.0000, 1.0000, 1.0000, 1.0000, 1.0000, 1.0000,\n",
       "        1.0000, 1.0000, 1.0000, 1.0000, 1.0000, 1.0000, 1.0000, 1.0000, 1.0000,\n",
       "        1.0000, 1.0000, 1.0000, 1.0000, 1.0000, 1.0000, 1.0000, 1.0000, 1.0000,\n",
       "        1.0000, 1.0000, 1.0000, 1.0000, 1.0000, 1.0000, 1.0000, 1.0000, 1.0000,\n",
       "        1.0000, 1.0000, 1.0000, 1.0000, 1.0000, 1.0000, 1.0000, 1.0000, 1.0000,\n",
       "        1.0000, 1.0000, 1.0000, 1.0000, 1.0000, 1.0000, 1.0000, 1.0000, 1.0000,\n",
       "        1.0000, 1.0000, 1.0000, 1.0000, 1.0000, 1.0000, 1.0000, 1.0000, 1.0000,\n",
       "        1.0000, 1.0000, 1.0000, 1.0000, 1.0000, 1.0000, 1.0000, 1.0000, 1.0000,\n",
       "        1.0000, 1.0000, 1.0000, 1.0000, 1.0000, 1.0000, 1.0000, 1.0000, 1.0000,\n",
       "        1.0000, 1.0000, 1.0000, 1.0000, 1.0000, 1.0000, 1.0000, 1.0000, 1.0000,\n",
       "        1.0000, 1.0000, 1.0000, 1.0000, 1.0000, 1.0000, 1.0000, 1.0000, 1.0000,\n",
       "        1.0000, 1.0000, 1.0000, 1.0000, 1.0000, 1.0000, 1.0000, 1.0000, 1.0000,\n",
       "        1.0000, 1.0000, 1.0000, 1.0000, 1.0000, 1.0000, 1.0000, 1.0000, 1.0000,\n",
       "        1.0000, 1.0000, 1.0000, 1.0000, 1.0000, 1.0000, 1.0000, 1.0000, 1.0000,\n",
       "        1.0000, 1.0000, 1.0000, 1.0000, 1.0000, 1.0000, 1.0000, 1.0000, 1.0000,\n",
       "        1.0000, 1.0000, 1.0000, 1.0000, 1.0000, 1.0000, 1.0000, 1.0000, 1.0000,\n",
       "        1.0000, 1.0000, 1.0000, 1.0000, 1.0000, 1.0000, 1.0000, 1.0000, 1.0000,\n",
       "        1.0000, 1.0000, 1.0000, 1.0000, 1.0000, 1.0000, 1.0000, 1.0000, 1.0000,\n",
       "        1.0000, 1.0000, 1.0000, 1.0000, 1.0000, 1.0000, 1.0000, 1.0000, 1.0000,\n",
       "        1.0000, 1.0000, 1.0000, 1.0000, 1.0000, 1.0000, 1.0000, 1.0000, 1.0000,\n",
       "        1.0000, 1.0000, 1.0000, 1.0000, 1.0000, 1.0000, 1.0000, 1.0000, 1.0000,\n",
       "        1.0000, 1.0000, 1.0000, 1.0000, 1.0000, 1.0000, 1.0000, 1.0000, 1.0000,\n",
       "        1.0000, 1.0000, 1.0000, 1.0000, 1.0000, 1.0000, 1.0000, 1.0000, 1.0000,\n",
       "        1.0000, 1.0000, 1.0000, 1.0000, 1.0000, 1.0000, 1.0000, 1.0000, 1.0000,\n",
       "        1.0000, 1.0000, 1.0000, 1.0000, 1.0000, 1.0000, 1.0000, 1.0000, 1.0000,\n",
       "        1.0000, 1.0000, 1.0000, 1.0000, 1.0000, 1.0000, 1.0000, 1.0000, 1.0000,\n",
       "        1.0000, 1.0000, 1.0000, 1.0000, 1.0000, 1.0000, 1.0000, 1.0000, 1.0000,\n",
       "        1.0000, 1.0000, 1.0000, 1.0000, 1.0000, 1.0000, 1.0000, 1.0000, 1.0000,\n",
       "        1.0000, 1.0000, 1.0000, 1.0000, 1.0000, 1.0000, 1.0000, 1.0000, 1.0000,\n",
       "        1.0000, 1.0000, 1.0000, 1.0000, 1.0000, 1.0000, 1.0000, 1.0000, 1.0000,\n",
       "        1.0000, 1.0000, 1.0000, 1.0000, 1.0000, 1.0000, 1.0000, 1.0000, 1.0000,\n",
       "        1.0000, 1.0000, 1.0000, 1.0000, 1.0000, 1.0000, 1.0000, 1.0000, 1.0000,\n",
       "        1.0000, 1.0000, 1.0000, 1.0000, 1.0000, 1.0000, 1.0000, 1.0000, 1.0000,\n",
       "        1.0000, 1.0000, 1.0000, 1.0000, 1.0000, 1.0000, 1.0000, 1.0000, 1.0000,\n",
       "        1.0000, 1.0000, 1.0000, 1.0000, 1.0000, 1.0000, 1.0000, 1.0000, 1.0000,\n",
       "        1.0000, 1.0000, 1.0000, 1.0000, 1.0000, 1.0000, 1.0000, 1.0000, 1.0000,\n",
       "        1.0000, 1.0000, 1.0000, 1.0000, 1.0000, 1.0000, 1.0000, 1.0000, 1.0000,\n",
       "        1.0000, 1.0000, 1.0000, 1.0000, 1.0000, 1.0000, 1.0000, 1.0000, 1.0000,\n",
       "        1.0000, 1.0000, 1.0000, 1.0000, 1.0000, 1.0000, 1.0000, 1.0000, 1.0000,\n",
       "        1.0000, 1.0000, 1.0000, 1.0000, 1.0000, 1.0000, 1.0000, 1.0000, 1.0000,\n",
       "        1.0000, 1.0000, 1.0000, 1.0000, 1.0000, 1.0000, 1.0000, 1.0000, 1.0000,\n",
       "        1.0000, 1.0000, 1.0000, 1.0000, 1.0000, 1.0000, 1.0000, 1.0000, 1.0000,\n",
       "        1.0000, 1.0000, 1.0000, 1.0000, 1.0000, 1.0000, 1.0000, 1.0000, 1.0000,\n",
       "        1.0000, 1.0000, 1.0000, 1.0000, 1.0000, 1.0000, 1.0000, 1.0000, 1.0000,\n",
       "        1.0000, 1.0000, 1.0000, 1.0000, 1.0000, 1.0000, 1.0000, 1.0000, 1.0000,\n",
       "        1.0000, 1.0000, 1.0000, 1.0000, 1.0000, 1.0000, 1.0000, 1.0000, 1.0000,\n",
       "        1.0000, 1.0000, 1.0000, 1.0000, 1.0000, 1.0000, 1.0000, 1.0000, 1.0000,\n",
       "        1.0000, 1.0000, 1.0000, 1.0000, 1.0000, 1.0000, 1.0000, 1.0000, 1.0000,\n",
       "        1.0000, 1.0000, 1.0000, 1.0000, 1.0000, 1.0000, 1.0000, 1.0000, 1.0000,\n",
       "        1.0000, 1.0000, 1.0000, 1.0000, 1.0000, 1.0000, 1.0000, 1.0000, 1.0000,\n",
       "        1.0000, 1.0000, 1.0000, 1.0000, 1.0000, 1.0000, 1.0000, 1.0000, 1.0000,\n",
       "        1.0000, 1.0000, 1.0000, 1.0000, 1.0000, 1.0000, 1.0000, 1.0000, 1.0000,\n",
       "        1.0000, 1.0000, 1.0000, 1.0000, 1.0000, 1.0000, 1.0000, 1.0000, 1.0000,\n",
       "        1.0000, 1.0000, 1.0000, 1.0000, 1.0000, 1.0000, 1.0000, 1.0000, 1.0000,\n",
       "        1.0000, 1.0000, 1.0000, 1.0000, 1.0000, 1.0000, 1.0000, 1.0000, 1.0000,\n",
       "        1.0000, 1.0000, 1.0000, 1.0000, 1.0000, 1.0000, 1.0000, 1.0000, 1.0000,\n",
       "        1.0000, 1.0000, 1.0000, 1.0000, 1.0000, 1.0000, 1.0000, 1.0000],\n",
       "       device='mps:0', grad_fn=<NormBackward1>)"
      ]
     },
     "execution_count": 362,
     "metadata": {},
     "output_type": "execute_result"
    }
   ],
   "source": [
    "torch.norm(autoencoder.decoder.weight, dim=1)"
   ]
  },
  {
   "cell_type": "code",
   "execution_count": 543,
   "id": "5be05e9d-b61c-468c-bdfc-09580997164f",
   "metadata": {},
   "outputs": [
    {
     "data": {
      "text/plain": [
       "tensor(0., device='mps:0')"
      ]
     },
     "execution_count": 543,
     "metadata": {},
     "output_type": "execute_result"
    }
   ],
   "source": []
  },
  {
   "cell_type": "code",
   "execution_count": null,
   "id": "54afaf7b-1f3a-40f9-bce9-6c79e8ebb5ff",
   "metadata": {},
   "outputs": [],
   "source": []
  }
 ],
 "metadata": {
  "kernelspec": {
   "display_name": "Python 3 (ipykernel)",
   "language": "python",
   "name": "python3"
  },
  "language_info": {
   "codemirror_mode": {
    "name": "ipython",
    "version": 3
   },
   "file_extension": ".py",
   "mimetype": "text/x-python",
   "name": "python",
   "nbconvert_exporter": "python",
   "pygments_lexer": "ipython3",
   "version": "3.10.10"
  }
 },
 "nbformat": 4,
 "nbformat_minor": 5
}
