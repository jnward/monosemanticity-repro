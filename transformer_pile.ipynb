{
 "cells": [
  {
   "cell_type": "code",
   "execution_count": 21,
   "id": "326f874c-d981-440e-a46f-b7a6e0c15efc",
   "metadata": {},
   "outputs": [],
   "source": [
    "import torch\n",
    "import os\n",
    "import tiktoken\n",
    "from tqdm import tqdm\n",
    "import torch.nn as nn\n",
    "import torch.nn.functional as F\n",
    "\n",
    "device = 'mps'"
   ]
  },
  {
   "cell_type": "code",
   "execution_count": 22,
   "id": "a180d5d8-9cb4-45d9-9d49-6b4a8cb7932f",
   "metadata": {},
   "outputs": [
    {
     "data": {
      "text/plain": [
       "'2.2.0.dev20231129'"
      ]
     },
     "execution_count": 22,
     "metadata": {},
     "output_type": "execute_result"
    }
   ],
   "source": [
    "torch.__version__"
   ]
  },
  {
   "cell_type": "code",
   "execution_count": 11,
   "id": "081d7535-b8af-466d-a19f-a5ac3307a8d4",
   "metadata": {},
   "outputs": [
    {
     "name": "stderr",
     "output_type": "stream",
     "text": [
      "214584it [00:36, 5958.34it/s]\n"
     ]
    }
   ],
   "source": [
    "import json\n",
    "import os\n",
    "from tqdm import tqdm\n",
    "\n",
    "in_file = \"/Volumes/External/EleutherAI_ThePile_v1/pile/test.jsonl\"\n",
    "out_file = \"data/pile_test.txt\"\n",
    "os.makedirs('data', exist_ok=True)\n",
    "\n",
    "with open(out_file, 'w+') as out_f:\n",
    "    with open(in_file, 'r') as in_f:\n",
    "        for line in tqdm(in_f):\n",
    "            json_data = json.loads(line)\n",
    "            out_f.write(json_data['text'])"
   ]
  },
  {
   "cell_type": "code",
   "execution_count": 12,
   "id": "33dcb6c2-f36a-4714-98f8-d42adeca39c3",
   "metadata": {},
   "outputs": [
    {
     "name": "stdout",
     "output_type": "stream",
     "text": [
      "Catalonia election: Puigdemont calls for talks with Spain Published duration 22 December 2017 Related Topics Catalonia independence protests\n",
      "\n",
      "image copyright Reuters image caption \"Now is the time for dialogue,\" said Carles Puigdemont\n",
      "\n",
      "Catalonia's ousted leader, Carles Puigdemont, has called for new talks with Spain after separatist parties won a slim majority in a regional election.\n",
      "\n",
      "He said he wanted the negotiations in Brussels, where he is living in self-imposed exile, or another EU country.\n",
      "\n",
      "Spain's Prime Minister Mariano Rajoy later appeared to reject the idea.\n",
      "\n",
      "He said he would hold tal\n",
      "2636198233\n"
     ]
    }
   ],
   "source": [
    "out_file = \"data/pile.txt\"\n",
    "\n",
    "with open(out_file, 'r') as data_f:\n",
    "    text = data_f.read()\n",
    "\n",
    "print(text[:600])\n",
    "print(len(text))"
   ]
  },
  {
   "cell_type": "code",
   "execution_count": 17,
   "id": "9f8bc022-ce65-46ff-aff2-e4a2052034bf",
   "metadata": {},
   "outputs": [
    {
     "name": "stderr",
     "output_type": "stream",
     "text": [
      "100%|█████████████████████████████████| 237258/237258 [03:29<00:00, 1134.66it/s]\n",
      "100%|███████████████████████████████████| 26362/26362 [00:22<00:00, 1146.90it/s]\n"
     ]
    }
   ],
   "source": [
    "import tiktoken\n",
    "import h5py\n",
    "\n",
    "n = int(0.9 * len(text))\n",
    "train_text = text[:n]\n",
    "dev_text = text[n:]\n",
    "\n",
    "\n",
    "enc = tiktoken.get_encoding('r50k_base')\n",
    "\n",
    "chunk_size = 10000\n",
    "\n",
    "for fname, text_split in zip(['data/pile_train.h5', 'data/pile_dev.h5'], [train_text, dev_text]):\n",
    "    with h5py.File(fname, 'w') as f:\n",
    "        dataset = f.create_dataset('indices', (0,), maxshape=(None,), dtype='i')\n",
    "        # Fill the dataset in chunks\n",
    "        start_index = 0\n",
    "        for i in tqdm(range((len(text_split) // chunk_size) + 1)):\n",
    "            encoded_chunk = enc.encode(text[i*chunk_size:(i+1)*chunk_size])\n",
    "            chunk_len = len(encoded_chunk)\n",
    "            end_index = start_index + chunk_len\n",
    "            dataset.resize(dataset.shape[0] + chunk_len, axis=0)\n",
    "            dataset[start_index:end_index] = encoded_chunk\n",
    "            start_index = end_index"
   ]
  },
  {
   "cell_type": "code",
   "execution_count": 84,
   "id": "cc75f250-26c7-480b-9e5f-dd7368ecb415",
   "metadata": {},
   "outputs": [],
   "source": [
    "import numpy as np\n",
    "\n",
    "train_path = \"data/pile_train.h5\"\n",
    "dev_path = \"data/pile_dev.h5\"\n",
    "batch_size = 16\n",
    "context_length = 128\n",
    "\n",
    "def get_batch_iterator(split, batch_size=batch_size, context_length=context_length):\n",
    "    hdf5_path = train_path if split=='train' else dev_path\n",
    "    with h5py.File(hdf5_path, 'r') as hdf5_file:\n",
    "        while True:\n",
    "            dataset = hdf5_file['indices']\n",
    "            dataset_size = dataset.shape[0]\n",
    "            random_indices = torch.randint(dataset_size-context_length, size=(batch_size,))\n",
    "            random_samples = torch.tensor(np.array([dataset[idx:idx+context_length+1] for idx in random_indices]))\n",
    "            xb = random_samples[:, :context_length].to(device)\n",
    "            yb = random_samples[:, 1:context_length+1].to(device)\n",
    "            yield xb, yb\n",
    "\n",
    "batch_iterator = get_batch_iterator('train')"
   ]
  },
  {
   "cell_type": "code",
   "execution_count": 96,
   "id": "16332b3d-1e2a-4ee8-b1c2-d46f126b08f3",
   "metadata": {},
   "outputs": [
    {
     "name": "stdout",
     "output_type": "stream",
     "text": [
      " past the officer who had just finished his inspection of the back door. AJ and me followed him. We all dropped our backpacks in the lawn chairs on the back porch and started across the lawn. In silence, Scooter walked over to the tree and got the key. (That reminds me: we really need to make a few copies of that thing.) After making sure no one was watching, he entered what was now our secret entrance. He made his way to the manhole cover, opened it, and descended the ladder.\n",
      "\n",
      "Not really sure what he was up to, AJ and me just followed him without saying a word\n",
      "\n",
      "\n",
      "%%%%%%%%%%%%%%%%%%%%%%%%%%%%%%%%%%%%%%%%%%%%%\n",
      "\n",
      "\n",
      " tried solving my equation over and over again but I can't seem to understand why my solution is different from mathematica's. The only I thought about was possibly in the substitution of arbitrary constant. Am I missing something obvious here?\n",
      "\n",
      "A:\n",
      "\n",
      "You forgot the integration constant. Following on from your integral for $T(t)$, we find\n",
      "\\begin{align}\n",
      "T(t)e^{\\alpha t} &= \\int 2 \\mu e^{\\alpha t}\\left(\\frac{\\theta}{\\alpha} + \\left(G -\\frac{\\theta}{\\alpha}\\right\n",
      "\n",
      "\n",
      "%%%%%%%%%%%%%%%%%%%%%%%%%%%%%%%%%%%%%%%%%%%%%\n",
      "\n",
      "\n",
      "or\t$Thi,$Zhi,$Zhi\n",
      "\tand\t$Zlo,0xf,$remi\n",
      "\n",
      "\tldx\t[$Htblo+$nhi],$Tlo\n",
      "\tsll\t$remi,3,$remi\n",
      "\txor\t$rem,$Zhi,$Zhi\n",
      "\tldx\t[$Htbl+$nhi],$Thi\n",
      "\tsrlx\t$Zlo,4,$Zlo\n",
      "\tldx\t[$rem_4bit+$remi],$rem\n",
      "\t\n",
      "\n",
      "\n",
      "%%%%%%%%%%%%%%%%%%%%%%%%%%%%%%%%%%%%%%%%%%%%%\n",
      "\n",
      "\n",
      ": 22 Afghanistan: 21 Grønland: 21 Iran: 21 Syrien: 19 Polen: 18 Statsløs: 18 Marokko: 14 Kilde: B.T.s beregninger på baggrund af justitsministerens svar til Retsudvalget 23. november 2018.\n",
      "\n",
      "I alt 1.111 domme for personfarlig kriminalitet. Irakere ligger samlet nummer to på listen med i alt 851 domme, og tyrkere nummer tre med 823 domme.\n",
      "\n",
      "Samt\n",
      "\n",
      "\n",
      "%%%%%%%%%%%%%%%%%%%%%%%%%%%%%%%%%%%%%%%%%%%%%\n",
      "\n",
      "\n",
      "No, she's not just at present,\" said the other.\n",
      "\n",
      "\"I'll come in and wait for her if you don't mind,\" said the skipper,\n",
      "speaking on the spur of the moment.\n",
      "\n",
      "The other hesitated, and then standing aside to allow him to pass,\n",
      "closed the door, and they entered the small parlor together. The\n",
      "skipper, with a courage which surprised himself, took a chair uninvited\n",
      "and began to wipe his trousers with his handkerchief.\n",
      "\n",
      "\"I'm afraid Mrs. Gething will be a long time,\" said the other man at\n",
      "last\n",
      "\n",
      "\n",
      "%%%%%%%%%%%%%%%%%%%%%%%%%%%%%%%%%%%%%%%%%%%%%\n",
      "\n",
      "\n",
      "#\tXid\t#\t#\tCOMMIT /* XID */\n",
      "master-bin.000001\t#\tQuery\t#\t#\tuse `test`; RENAME USER 'user'@'localhost' TO 'user_new'@'localhost'\n",
      "-e-e-e-e-e-e-e-e-e-e-e- >> << -e-e-e-e-e-e-e-e-e-e-e-\n",
      "\n",
      "-b-b-b-b-b-b-b-b-b-\n",
      "\n",
      "\n",
      "%%%%%%%%%%%%%%%%%%%%%%%%%%%%%%%%%%%%%%%%%%%%%\n",
      "\n",
      "\n",
      " the vaccine preparation induced antigen-specific multi-functional CD4^+^ T cells capable of producing IFN-γ, IL-2, and/or TNF-α upon antigen re-exposure. They suggested that SMT is a promising vaccine antigen for multiple forms of leishmaniasis. The *Leishmania*-derived recombinant polyprotein, Leish-111f, multicomponent vaccine, has been assessed in clinical trials. Leish-111f is a single polyprotein composed of three molecules fused in tandem: the *L. major* homologue of eukaryotic thiol-specific\n",
      "\n",
      "\n",
      "%%%%%%%%%%%%%%%%%%%%%%%%%%%%%%%%%%%%%%%%%%%%%\n",
      "\n",
      "\n",
      " this about?\" The girl says, \"The dog... !\" and simply goes on crying. She doesn't make any sense, the stupid thing. That's because she doesn't have any education. Are you going to be happy with that? What if I became like that and cried out, \"The dog... !\" Dear Father, we have plenty of money, enough to fill a wine cellar. What? Women burdened with unnecessary education are impertinent? Father, please look at me carefully. Am I impertinent? I'm pretty good stuff, you know. You've done a fabulous job of bringing me up....\n",
      "\n",
      "\n",
      "%%%%%%%%%%%%%%%%%%%%%%%%%%%%%%%%%%%%%%%%%%%%%\n",
      "\n",
      "\n",
      " + \"r\" + (j).ToString();\n",
      "                            if (line.Substring(j - 1, 1) == \"#\")\n",
      "                                l.ForeColor = Color.Green;\n",
      "\n",
      "                            if (line.\n",
      "\n",
      "\n",
      "%%%%%%%%%%%%%%%%%%%%%%%%%%%%%%%%%%%%%%%%%%%%%\n",
      "\n",
      "\n",
      "ology-Obstetric Unit of GHU Pitié-Salpêtrière, Paris from November 2004 to April 2005 and from October 2007 to May 2010, during a total of 38 months. Inclusion criterion for cases was prenatal diagnosis of a SM at foetal ultrasound followed by a reassuring diagnostic work-up; the inclusion criterion for controls was an uncomplicated pregnancy. Exclusion criteria, for both cases and controls, were a history of somatic or psychiatric illness, a history of significant morbidity during a previous pregnancy, any severe abnormality diagnosed during the current pregnancy, poor understanding of the study protocol. Single pregnant\n",
      "\n",
      "\n",
      "%%%%%%%%%%%%%%%%%%%%%%%%%%%%%%%%%%%%%%%%%%%%%\n",
      "\n",
      "\n",
      "                      3\n",
      "\f",
      "Johnson then appealed.\n",
      "\n",
      "       After Johnson appealed but before we decided the case, the Supreme Court\n",
      "\n",
      "decided United States v. Booker, 543 U.S. 220, 125 S.Ct. 738 (2005), pursuant to which\n",
      "\n",
      "the guidelines became advisory. As a result of Booker, the government filed a motion in\n",
      "\n",
      "this court seeking a remand for resentencing and we granted that motion.\n",
      "\n",
      "       The resentencing was on February\n",
      "\n",
      "\n",
      "%%%%%%%%%%%%%%%%%%%%%%%%%%%%%%%%%%%%%%%%%%%%%\n",
      "\n",
      "\n",
      "Indication, PerceivedSeverity), /* offset */\n",
      "    MI_T(\"CIM_Indication\"), /* origin */\n",
      "    MI_T(\"CIM_Indication\"), /* propagator */\n",
      "    NULL,\n",
      "};\n",
      "\n",
      "static MI_CONST MI_Char* CIM_Indication_OtherSeverity_ModelCorrespondence_qual_data_value[] =\n",
      "{\n",
      "    MI_T(\"CIM_AlertIndication.PerceivedSeverity\"),\n",
      "};\n",
      "\n",
      "static MI_CONST MI_ConstStringA CIM\n",
      "\n",
      "\n",
      "%%%%%%%%%%%%%%%%%%%%%%%%%%%%%%%%%%%%%%%%%%%%%\n",
      "\n",
      "\n",
      ". It's a great recipe for leftovers. Use chicken, fish, or beef instead of the pork, and other vegetables can be used.\n",
      "\n",
      "### Chinese Pumpkin\n",
      "\n",
      "NAN GUA, NAM GUA\n",
      "\n",
      "_Cucurbita maxima_ , _C. moschata_\n",
      "\n",
      "(color photo, page x)\n",
      "\n",
      "_The only problem you'll encounter in growing Chinese pumpkins is what to call them. \"Pumpkin\" and \"squash\" are used interchangeably to describe these vegetables. In the United States, \"pumpkin\" is almost never used to describe\n",
      "\n",
      "\n",
      "%%%%%%%%%%%%%%%%%%%%%%%%%%%%%%%%%%%%%%%%%%%%%\n",
      "\n",
      "\n",
      ", 0x81eac77ea9113d45ULL,\n",
      "\t0x528ef88ab6ac0a0dULL, 0xa09ea253597be3ffULL, 0x430ddfb3ac48cd56ULL,\n",
      "\t0xc4b3a67af45ce46fULL, 0x4ececfd8fbe2d05eULL, 0x3ef56f10b39935f0ULL,\n",
      "\t0x0b22d6829cd619c6ULL, 0x17fd460a74df2069ULL\n",
      "\n",
      "\n",
      "%%%%%%%%%%%%%%%%%%%%%%%%%%%%%%%%%%%%%%%%%%%%%\n",
      "\n",
      "\n",
      "       begin\n",
      "          SetLength(TempArray, routesCount);\n",
      "\n",
      "          i := 0;\n",
      "          while (i < routesCount) do\n",
      "            begin\n",
      "              TempArray[i] := TCefMediaRouteRef.UnWrap(TRouteArray(routes)[i]);\n",
      "              inc(i\n",
      "\n",
      "\n",
      "%%%%%%%%%%%%%%%%%%%%%%%%%%%%%%%%%%%%%%%%%%%%%\n",
      "\n",
      "\n",
      " 255, 92, 64), parent)\n",
      "\n",
      "        numIcons = size.width() * size.height()\n",
      "        pixmaps = []\n",
      "        it = QDirIterator(\":/images\", [\"*.png\"])\n",
      "        while it.hasNext() and len(pixmaps) < numIcons:\n",
      "            pixmaps.append(it.next())\n",
      "\n",
      "        iconRect = QRectF(-\n",
      "\n",
      "\n",
      "%%%%%%%%%%%%%%%%%%%%%%%%%%%%%%%%%%%%%%%%%%%%%\n",
      "\n",
      "\n"
     ]
    }
   ],
   "source": [
    "xb, yb = next(batch_iterator)\n",
    "\n",
    "for row in xb:\n",
    "    print(enc.decode(row.tolist()))\n",
    "    print('\\n\\n%%%%%%%%%%%%%%%%%%%%%%%%%%%%%%%%%%%%%%%%%%%%%\\n\\n')"
   ]
  },
  {
   "cell_type": "code",
   "execution_count": 86,
   "id": "d8f74d0b-7121-48f3-91f3-f6a0c11ea40e",
   "metadata": {},
   "outputs": [],
   "source": [
    "import math\n",
    "\n",
    "torch.manual_seed(1)\n",
    "n_head = 4\n",
    "\n",
    "class MLP(nn.Module):\n",
    "    def __init__(self):\n",
    "        super().__init__()\n",
    "        self.hidden = nn.Linear(n_embed, 4*n_embed)\n",
    "        self.relu = nn.ReLU()\n",
    "        self.proj = nn.Linear(4*n_embed, n_embed)\n",
    "\n",
    "    def forward(self, x):\n",
    "        x = self.forward_embedding(x)\n",
    "        x = self.project_embedding(x)\n",
    "        return x\n",
    "\n",
    "    def forward_embedding(self, x):\n",
    "        x = self.relu(self.hidden(x))\n",
    "        return x\n",
    "\n",
    "    def project_embedding(self, x):\n",
    "        x = self.proj(x)\n",
    "        return x\n",
    "        \n",
    "\n",
    "class Head(nn.Module):\n",
    "    def __init__(self, head_size):\n",
    "        super().__init__()\n",
    "        self.key = nn.Linear(n_embed, head_size, bias=False)\n",
    "        self.query = nn.Linear(n_embed, head_size, bias=False)\n",
    "        self.value = nn.Linear(n_embed, head_size, bias=False)\n",
    "        self.register_buffer('tril', torch.tril(torch.ones(context_length, context_length)))\n",
    "\n",
    "    def forward(self, x):\n",
    "        # out = nn.scaled_dot_product_attention(self.key, self.query, self.value, causal=True)\n",
    "        # return out\n",
    "\n",
    "        B, T, C = x.shape\n",
    "        k = self.key(x)\n",
    "        q = self.query(x)\n",
    "        scale_factor = 1 / math.sqrt(C)\n",
    "        attn_weights = q @ k.transpose(-2, -1) * scale_factor\n",
    "        attn_weights = attn_weights.masked_fill(self.tril[:T, :T] == 0, float('-inf'))\n",
    "        attn_weights = F.softmax(attn_weights, dim=-1)\n",
    "        v = self.value(x)\n",
    "        out = attn_weights @ v\n",
    "        return out\n",
    "        \n",
    "class MultiHeadAttention(nn.Module):\n",
    "    def __init__(self):\n",
    "        super().__init__()\n",
    "        self.heads = nn.ModuleList([Head(n_embed//n_head) for _ in range(n_head)])\n",
    "\n",
    "    def forward(self, x):\n",
    "        x = torch.cat([h(x) for h in self.heads], dim=-1)\n",
    "        return x\n",
    "\n",
    "class Block(nn.Module):\n",
    "    def __init__(self):\n",
    "        super().__init__()\n",
    "        self.ln1 = nn.LayerNorm(n_embed)\n",
    "        self.attn = MultiHeadAttention()\n",
    "        self.ln2 = nn.LayerNorm(n_embed)\n",
    "        self.mlp = MLP()\n",
    "\n",
    "    def forward(self, x):\n",
    "        x = x + self.attn(self.ln1(x))\n",
    "        x = x + self.mlp(self.ln2(x))\n",
    "        # x = x + self.attn(x)\n",
    "        # x = x + self.mlp(x)\n",
    "        return x\n",
    "\n",
    "    def forward_ablation(self, x, autoencoder):\n",
    "        x, res = self.forward_embedding(x)\n",
    "        x, _, _ = autoencoder(x)\n",
    "        x = res + self.mlp.project_embedding(x)\n",
    "        return x\n",
    "\n",
    "    def forward_embedding(self, x):\n",
    "        res = x + self.attn(self.ln1(x))\n",
    "        x = self.mlp.forward_embedding(self.ln2(res))\n",
    "        return x, res"
   ]
  },
  {
   "cell_type": "code",
   "execution_count": 87,
   "id": "fb37ebcd-1c76-4ad5-904c-32b703258e96",
   "metadata": {},
   "outputs": [],
   "source": [
    "import torch.nn as nn\n",
    "import torch.nn.functional as F\n",
    "\n",
    "vocab_size = 50304\n",
    "n_embed = 128\n",
    "\n",
    "class Transformer(nn.Module):\n",
    "    def __init__(self):\n",
    "        super().__init__()\n",
    "        self.token_embed = nn.Embedding(vocab_size, n_embed)\n",
    "        self.position_embed = nn.Embedding(context_length, n_embed)\n",
    "        self.attn_block = Block()\n",
    "        self.layer_norm = nn.LayerNorm(n_embed)\n",
    "        self.lm_head = nn.Linear(n_embed, vocab_size)\n",
    "\n",
    "    def _pre_attn_pass(self, idx):\n",
    "        B, T = idx.shape\n",
    "        tok_embedding = self.token_embed(idx)\n",
    "        pos_embedding = self.position_embed(torch.arange(T, device=device))\n",
    "        return tok_embedding + pos_embedding\n",
    "\n",
    "    def forward(self, idx, targets=None):\n",
    "        x = self._pre_attn_pass(idx)\n",
    "        x = self.attn_block(x)\n",
    "        x = self.layer_norm(x)\n",
    "        logits = self.lm_head(x)\n",
    "        loss = None\n",
    "        if targets is not None:\n",
    "            B, T, C = logits.shape\n",
    "            flat_logits = logits.view(B*T, C)\n",
    "            targets = targets.view(B*T)\n",
    "            loss = F.cross_entropy(flat_logits, targets)\n",
    "        return logits, loss\n",
    "\n",
    "    def forward_embedding(self, idx):\n",
    "        x = self._pre_attn_pass(idx)\n",
    "        x, residual = self.attn_block.forward_embedding(x)\n",
    "        return x, residual\n",
    "\n",
    "    def forward_ablation(self, idx, autoencoder, targets=None):\n",
    "        x = self._pre_attn_pass(idx)\n",
    "        x = self.attn_block.forward_ablation(x, autoencoder)\n",
    "        x = self.layer_norm(x)\n",
    "        logits = self.lm_head(x)\n",
    "        loss = None\n",
    "        if targets is not None:\n",
    "            B, T, C = logits.shape\n",
    "            flat_logits = logits.view(B*T, C)\n",
    "            targets = targets.view(B*T)\n",
    "            loss = F.cross_entropy(flat_logits, targets)\n",
    "        return logits, loss\n",
    "\n",
    "    def generate(self, idx, max_new_tokens):\n",
    "        for _ in range(max_new_tokens):\n",
    "            idx_cond = idx[:, -context_length:]\n",
    "            logits, _ = self(idx_cond)\n",
    "            logits = logits[:, -1, :]\n",
    "            probs = F.softmax(logits, dim=-1)\n",
    "            idx_next = torch.multinomial(probs, num_samples=1)\n",
    "            idx = torch.cat((idx, idx_next), dim=1)\n",
    "        return idx\n",
    "\n",
    "    def generate_ablation(self, idx, max_new_tokens, autoencoder):\n",
    "        for _ in range(max_new_tokens):\n",
    "            idx_cond = idx[:, -context_length:]\n",
    "            logits, _ = self.forward_ablation(idx_cond, autoencoder)\n",
    "            logits = logits[:, -1, :]\n",
    "            probs = F.softmax(logits, dim=-1)\n",
    "            idx_next = torch.multinomial(probs, num_samples=1)\n",
    "            idx = torch.cat((idx, idx_next), dim=1)\n",
    "        return idx"
   ]
  },
  {
   "cell_type": "code",
   "execution_count": 88,
   "id": "ddc5166d-09d0-4c95-ab0e-5a0c392391e6",
   "metadata": {},
   "outputs": [],
   "source": [
    "def count_params(m):\n",
    "    print(sum(p.numel() for p in m.parameters()))"
   ]
  },
  {
   "cell_type": "code",
   "execution_count": 89,
   "id": "3fc9185d-64f5-4c8e-a898-28c101165c4c",
   "metadata": {},
   "outputs": [
    {
     "name": "stdout",
     "output_type": "stream",
     "text": [
      "Transformer(\n",
      "  (token_embed): Embedding(50304, 128)\n",
      "  (position_embed): Embedding(128, 128)\n",
      "  (attn_block): Block(\n",
      "    (ln1): LayerNorm((128,), eps=1e-05, elementwise_affine=True)\n",
      "    (attn): MultiHeadAttention(\n",
      "      (heads): ModuleList(\n",
      "        (0-3): 4 x Head(\n",
      "          (key): Linear(in_features=128, out_features=32, bias=False)\n",
      "          (query): Linear(in_features=128, out_features=32, bias=False)\n",
      "          (value): Linear(in_features=128, out_features=32, bias=False)\n",
      "        )\n",
      "      )\n",
      "    )\n",
      "    (ln2): LayerNorm((128,), eps=1e-05, elementwise_affine=True)\n",
      "    (mlp): MLP(\n",
      "      (hidden): Linear(in_features=128, out_features=512, bias=True)\n",
      "      (relu): ReLU()\n",
      "      (proj): Linear(in_features=512, out_features=128, bias=True)\n",
      "    )\n",
      "  )\n",
      "  (layer_norm): LayerNorm((128,), eps=1e-05, elementwise_affine=True)\n",
      "  (lm_head): Linear(in_features=128, out_features=50304, bias=True)\n",
      ")\n",
      "13126144\n"
     ]
    }
   ],
   "source": [
    "model = Transformer()\n",
    "model = model.to(device)\n",
    "print(model)\n",
    "count_params(model)"
   ]
  },
  {
   "cell_type": "code",
   "execution_count": 97,
   "id": "8e354a58-4291-4e78-9027-02c7ecbcaa7b",
   "metadata": {},
   "outputs": [],
   "source": [
    "eval_iters = 20\n",
    "\n",
    "@torch.no_grad()\n",
    "def estimate_loss(steps=eval_iters):\n",
    "    out = {}\n",
    "    model.eval()\n",
    "    for split in ['train', 'dev']:\n",
    "        batch_iterator = get_batch_iterator(split)\n",
    "        losses = torch.zeros(steps)\n",
    "        for k in tqdm(range(steps)):\n",
    "            xb, yb = next(batch_iterator)\n",
    "            logist, loss = model(xb, yb)\n",
    "            losses[k] = loss.item()\n",
    "        out[split] = losses.mean()\n",
    "    model.train()\n",
    "    return out"
   ]
  },
  {
   "cell_type": "code",
   "execution_count": 91,
   "id": "51212280-2c9f-49c6-92d0-87c96d398850",
   "metadata": {},
   "outputs": [
    {
     "name": "stderr",
     "output_type": "stream",
     "text": [
      "100%|███████████████████████████████████████████| 20/20 [00:00<00:00, 20.52it/s]\n",
      "100%|███████████████████████████████████████████| 20/20 [00:00<00:00, 43.28it/s]\n"
     ]
    },
    {
     "data": {
      "text/plain": [
       "{'train': tensor(11.0020), 'dev': tensor(11.0020)}"
      ]
     },
     "execution_count": 91,
     "metadata": {},
     "output_type": "execute_result"
    }
   ],
   "source": [
    "estimate_loss()"
   ]
  },
  {
   "cell_type": "code",
   "execution_count": 92,
   "id": "e053003f-6045-4846-ad9b-b238da3c5c81",
   "metadata": {},
   "outputs": [],
   "source": [
    "optimizer = torch.optim.AdamW(model.parameters(), lr=1e-3)\n",
    "losses = []"
   ]
  },
  {
   "cell_type": "code",
   "execution_count": 169,
   "id": "d561b770-eb05-4370-a13a-784a90dcb2b6",
   "metadata": {},
   "outputs": [
    {
     "name": "stderr",
     "output_type": "stream",
     "text": [
      "Train loss: 4.3383: 100%|█████████████| 140000/140000 [6:10:08<00:00,  6.30it/s]\n"
     ]
    },
    {
     "data": {
      "image/png": "[encoded data removed]",
      "text/plain": [
       "<Figure size 640x480 with 1 Axes>"
      ]
     },
     "metadata": {},
     "output_type": "display_data"
    },
    {
     "name": "stderr",
     "output_type": "stream",
     "text": [
      "100%|█████████████████████████████████████████| 200/200 [00:05<00:00, 36.35it/s]\n",
      "100%|█████████████████████████████████████████| 200/200 [00:05<00:00, 37.35it/s]\n"
     ]
    },
    {
     "data": {
      "text/plain": [
       "{'train': tensor(4.3571), 'dev': tensor(4.3358)}"
      ]
     },
     "execution_count": 169,
     "metadata": {},
     "output_type": "execute_result"
    }
   ],
   "source": [
    "from tqdm import tqdm\n",
    "import matplotlib.pyplot as plt\n",
    "import numpy as np\n",
    "\n",
    "batch_size = 32\n",
    "n_steps = 140000\n",
    "avg_window = 64\n",
    "\n",
    "batch_iterator = get_batch_iterator('train', batch_size, context_length)\n",
    "\n",
    "pbar = tqdm(range(n_steps))\n",
    "for steps in pbar:\n",
    "    xb, yb = next(batch_iterator)\n",
    "    logits, loss = model(xb, yb)\n",
    "    losses.append(loss.item())\n",
    "    pbar.set_description(f\"Train loss: {np.mean(losses[-avg_window:]):.4f}\")\n",
    "    optimizer.zero_grad(set_to_none=True)\n",
    "    loss.backward()\n",
    "    optimizer.step()\n",
    "\n",
    "def moving_average(x, w):\n",
    "    return np.convolve(x, np.ones(w), 'valid') / w\n",
    "\n",
    "plt.plot(moving_average(losses, avg_window))\n",
    "plt.show()\n",
    "estimate_loss(200)"
   ]
  },
  {
   "cell_type": "code",
   "execution_count": 172,
   "id": "d717b766-02c8-44c1-b9ba-c7b4197e1e14",
   "metadata": {},
   "outputs": [
    {
     "data": {
      "image/png": "[encoded data removed]",
      "text/plain": [
       "<Figure size 640x480 with 1 Axes>"
      ]
     },
     "metadata": {},
     "output_type": "display_data"
    }
   ],
   "source": [
    "plt.plot(moving_average(losses[-40000:], 4000))\n",
    "plt.show()"
   ]
  },
  {
   "cell_type": "code",
   "execution_count": 127,
   "id": "19a79f10-dcc2-4ba8-8c78-d0b00618a264",
   "metadata": {},
   "outputs": [],
   "source": [
    "for g in optimizer.param_groups:\n",
    "    g['lr'] = 1e-4"
   ]
  },
  {
   "cell_type": "code",
   "execution_count": 178,
   "id": "ecb06f35-6ad2-462f-b9d0-10d2ea8271c4",
   "metadata": {},
   "outputs": [
    {
     "name": "stderr",
     "output_type": "stream",
     "text": [
      "100%|███████████████████████████████████████| 1000/1000 [00:25<00:00, 38.53it/s]\n",
      "100%|███████████████████████████████████████| 1000/1000 [00:25<00:00, 39.07it/s]\n"
     ]
    },
    {
     "data": {
      "text/plain": [
       "(tensor(4.3340), tensor(4.3372))"
      ]
     },
     "execution_count": 178,
     "metadata": {},
     "output_type": "execute_result"
    }
   ],
   "source": [
    "train_loss, dev_loss = estimate_loss(1000).values()\n",
    "train_loss, dev_loss"
   ]
  },
  {
   "cell_type": "code",
   "execution_count": 179,
   "id": "79c9cba7-15ef-4e33-bdd9-625f3c5ba6a0",
   "metadata": {},
   "outputs": [],
   "source": [
    "model_path = f\"models/transformer_pile_128_0_4.3340.pt\""
   ]
  },
  {
   "cell_type": "code",
   "execution_count": 180,
   "id": "50851114-f252-4eab-bfa7-c820c0223e19",
   "metadata": {},
   "outputs": [],
   "source": [
    "os.makedirs('models', exist_ok=True)\n",
    "\n",
    "if not os.path.exists(model_path):\n",
    "    torch.save({\n",
    "                'model_state_dict': model.state_dict(),\n",
    "                'optimizer_state_dict': optimizer.state_dict(),\n",
    "                'losses': losses,\n",
    "                'train_loss': train_loss,\n",
    "                'dev_loss': dev_loss,\n",
    "                'steps': len(losses),\n",
    "                }, model_path)"
   ]
  },
  {
   "cell_type": "code",
   "execution_count": 13,
   "id": "b99c1be4-7ee4-4729-81da-a4c563c0aca3",
   "metadata": {},
   "outputs": [
    {
     "data": {
      "text/plain": [
       "<All keys matched successfully>"
      ]
     },
     "execution_count": 13,
     "metadata": {},
     "output_type": "execute_result"
    }
   ],
   "source": [
    "checkpoint = torch.load(path)\n",
    "model = Transformer().to(device)\n",
    "model.load_state_dict(checkpoint['model_state_dict'])"
   ]
  },
  {
   "cell_type": "code",
   "execution_count": 177,
   "id": "f84d6083-b45f-440e-a843-3cf7dd1ebdd2",
   "metadata": {},
   "outputs": [
    {
     "name": "stdout",
     "output_type": "stream",
     "text": [
      "\n",
      "\n",
      "Player.done about 'share',\n",
      "\n",
      "record-js', 'conffunc) {\n",
      "\n",
      "    bind.smognate(builder string_c<Path, <versionpathname>button\n",
      "       // select string\n",
      "if\n",
      "       # initialized by patch number should function cOPHeaderOfNull(negresa)\n",
      "   \n",
      " \tif optionally plugin:\n",
      "\t.textfile.socket(\"errorb_started\")\n",
      "\tlet is used as used to create tons with google\n",
      "\t <vfx embeds()\n",
      "\t}\n",
      "\n",
      "#\n"
     ]
    }
   ],
   "source": [
    "idx = torch.tensor(enc.encode('\\n'), dtype=torch.long)[None, :].to(device)\n",
    "# torch.manual_seed(1)\n",
    "with torch.no_grad():\n",
    "    print(enc.decode(model.generate(idx, 128)[0].tolist()))"
   ]
  },
  {
   "cell_type": "code",
   "execution_count": 15,
   "id": "39373581-5db6-45d5-a0ae-f54e0756063f",
   "metadata": {},
   "outputs": [],
   "source": [
    "class SparseAutoencoder(nn.Module):\n",
    "    def __init__(self, n_features):\n",
    "        super().__init__()\n",
    "        self.encoder = nn.Linear(n_embed * 4, n_features)\n",
    "        self.decoder = nn.Linear(n_features, n_embed * 4)\n",
    "        # self.decoder_bias = nn.Parameter(torch.zeros(n_embed * 4))  # explicitly define decoder bias so we can subtract it from the input\n",
    "        self.relu = nn.ReLU()\n",
    "\n",
    "    def forward(self, x_in, compute_loss=False):\n",
    "        f = self.encode(x_in)\n",
    "        x = self.decoder(f)\n",
    "        if compute_loss:\n",
    "            recon_loss = F.mse_loss(x, x_in)\n",
    "            reg_loss = f.abs().sum(dim=-1).mean()\n",
    "            loss = recon_loss + reg_loss\n",
    "        else:\n",
    "            recon_loss = None\n",
    "            reg_loss = None\n",
    "        return x, recon_loss, reg_loss\n",
    "\n",
    "    def encode(self, x_in):\n",
    "        x = x_in - self.decoder.bias\n",
    "        f = self.relu(self.encoder(x))\n",
    "        return f\n",
    "\n",
    "    def normalize_decoder_weights(self):\n",
    "        with torch.no_grad():\n",
    "            self.decoder.weight.data = nn.functional.normalize(self.decoder.weight.data, p=2, dim=1)"
   ]
  },
  {
   "cell_type": "code",
   "execution_count": 274,
   "id": "1b483ba2-ba73-43d1-bed2-526c4a54e2d5",
   "metadata": {},
   "outputs": [],
   "source": [
    "batch_size = 256\n",
    "\n",
    "num_batches = len(train_data)\n",
    "\n",
    "def iterate_data(split, batch_size=batch_size):\n",
    "    data = train_data if split == 'train' else dev_data\n",
    "    rows = data[:len(data) - len(data) % (context_length*batch_size)].view(-1, batch_size, context_length)\n",
    "    print(f\"batches: {rows.shape[0]}\")\n",
    "    for batch in rows:\n",
    "        yield batch\n",
    "\n",
    "batch_iterator = iterate_data('train')"
   ]
  },
  {
   "cell_type": "code",
   "execution_count": 265,
   "id": "cabe5885-7cf4-4ec1-88e9-6cbe28a82436",
   "metadata": {},
   "outputs": [
    {
     "ename": "OSError",
     "evalue": "Unable to create file (unable to truncate a file which is already open)",
     "output_type": "error",
     "traceback": [
      "\u001b[0;31m---------------------------------------------------------------------------\u001b[0m",
      "\u001b[0;31mOSError\u001b[0m                                   Traceback (most recent call last)",
      "Cell \u001b[0;32mIn[265], line 16\u001b[0m\n\u001b[1;32m     12\u001b[0m \u001b[38;5;28;01mimport\u001b[39;00m \u001b[38;5;21;01mh5py\u001b[39;00m\n\u001b[1;32m     14\u001b[0m hdf5_path \u001b[38;5;241m=\u001b[39m \u001b[38;5;124m'\u001b[39m\u001b[38;5;124mdata/embeddings_0.hdf5\u001b[39m\u001b[38;5;124m'\u001b[39m\n\u001b[0;32m---> 16\u001b[0m \u001b[38;5;28;01mwith\u001b[39;00m \u001b[43mh5py\u001b[49m\u001b[38;5;241;43m.\u001b[39;49m\u001b[43mFile\u001b[49m\u001b[43m(\u001b[49m\u001b[43mhdf5_path\u001b[49m\u001b[43m,\u001b[49m\u001b[43m \u001b[49m\u001b[38;5;124;43m'\u001b[39;49m\u001b[38;5;124;43mw\u001b[39;49m\u001b[38;5;124;43m'\u001b[39;49m\u001b[43m)\u001b[49m \u001b[38;5;28;01mas\u001b[39;00m hdf5_file:\n\u001b[1;32m     17\u001b[0m     \u001b[38;5;28;01mwith\u001b[39;00m torch\u001b[38;5;241m.\u001b[39mno_grad():\n\u001b[1;32m     18\u001b[0m         maxshape \u001b[38;5;241m=\u001b[39m (\u001b[38;5;28;01mNone\u001b[39;00m, n_embed\u001b[38;5;241m*\u001b[39m\u001b[38;5;241m4\u001b[39m)\n",
      "File \u001b[0;32m~/.pyenv/versions/3.10.10/envs/monosemantic/lib/python3.10/site-packages/h5py/_hl/files.py:562\u001b[0m, in \u001b[0;36mFile.__init__\u001b[0;34m(self, name, mode, driver, libver, userblock_size, swmr, rdcc_nslots, rdcc_nbytes, rdcc_w0, track_order, fs_strategy, fs_persist, fs_threshold, fs_page_size, page_buf_size, min_meta_keep, min_raw_keep, locking, alignment_threshold, alignment_interval, meta_block_size, **kwds)\u001b[0m\n\u001b[1;32m    553\u001b[0m     fapl \u001b[38;5;241m=\u001b[39m make_fapl(driver, libver, rdcc_nslots, rdcc_nbytes, rdcc_w0,\n\u001b[1;32m    554\u001b[0m                      locking, page_buf_size, min_meta_keep, min_raw_keep,\n\u001b[1;32m    555\u001b[0m                      alignment_threshold\u001b[38;5;241m=\u001b[39malignment_threshold,\n\u001b[1;32m    556\u001b[0m                      alignment_interval\u001b[38;5;241m=\u001b[39malignment_interval,\n\u001b[1;32m    557\u001b[0m                      meta_block_size\u001b[38;5;241m=\u001b[39mmeta_block_size,\n\u001b[1;32m    558\u001b[0m                      \u001b[38;5;241m*\u001b[39m\u001b[38;5;241m*\u001b[39mkwds)\n\u001b[1;32m    559\u001b[0m     fcpl \u001b[38;5;241m=\u001b[39m make_fcpl(track_order\u001b[38;5;241m=\u001b[39mtrack_order, fs_strategy\u001b[38;5;241m=\u001b[39mfs_strategy,\n\u001b[1;32m    560\u001b[0m                      fs_persist\u001b[38;5;241m=\u001b[39mfs_persist, fs_threshold\u001b[38;5;241m=\u001b[39mfs_threshold,\n\u001b[1;32m    561\u001b[0m                      fs_page_size\u001b[38;5;241m=\u001b[39mfs_page_size)\n\u001b[0;32m--> 562\u001b[0m     fid \u001b[38;5;241m=\u001b[39m \u001b[43mmake_fid\u001b[49m\u001b[43m(\u001b[49m\u001b[43mname\u001b[49m\u001b[43m,\u001b[49m\u001b[43m \u001b[49m\u001b[43mmode\u001b[49m\u001b[43m,\u001b[49m\u001b[43m \u001b[49m\u001b[43muserblock_size\u001b[49m\u001b[43m,\u001b[49m\u001b[43m \u001b[49m\u001b[43mfapl\u001b[49m\u001b[43m,\u001b[49m\u001b[43m \u001b[49m\u001b[43mfcpl\u001b[49m\u001b[43m,\u001b[49m\u001b[43m \u001b[49m\u001b[43mswmr\u001b[49m\u001b[38;5;241;43m=\u001b[39;49m\u001b[43mswmr\u001b[49m\u001b[43m)\u001b[49m\n\u001b[1;32m    564\u001b[0m \u001b[38;5;28;01mif\u001b[39;00m \u001b[38;5;28misinstance\u001b[39m(libver, \u001b[38;5;28mtuple\u001b[39m):\n\u001b[1;32m    565\u001b[0m     \u001b[38;5;28mself\u001b[39m\u001b[38;5;241m.\u001b[39m_libver \u001b[38;5;241m=\u001b[39m libver\n",
      "File \u001b[0;32m~/.pyenv/versions/3.10.10/envs/monosemantic/lib/python3.10/site-packages/h5py/_hl/files.py:241\u001b[0m, in \u001b[0;36mmake_fid\u001b[0;34m(name, mode, userblock_size, fapl, fcpl, swmr)\u001b[0m\n\u001b[1;32m    239\u001b[0m     fid \u001b[38;5;241m=\u001b[39m h5f\u001b[38;5;241m.\u001b[39mcreate(name, h5f\u001b[38;5;241m.\u001b[39mACC_EXCL, fapl\u001b[38;5;241m=\u001b[39mfapl, fcpl\u001b[38;5;241m=\u001b[39mfcpl)\n\u001b[1;32m    240\u001b[0m \u001b[38;5;28;01melif\u001b[39;00m mode \u001b[38;5;241m==\u001b[39m \u001b[38;5;124m'\u001b[39m\u001b[38;5;124mw\u001b[39m\u001b[38;5;124m'\u001b[39m:\n\u001b[0;32m--> 241\u001b[0m     fid \u001b[38;5;241m=\u001b[39m \u001b[43mh5f\u001b[49m\u001b[38;5;241;43m.\u001b[39;49m\u001b[43mcreate\u001b[49m\u001b[43m(\u001b[49m\u001b[43mname\u001b[49m\u001b[43m,\u001b[49m\u001b[43m \u001b[49m\u001b[43mh5f\u001b[49m\u001b[38;5;241;43m.\u001b[39;49m\u001b[43mACC_TRUNC\u001b[49m\u001b[43m,\u001b[49m\u001b[43m \u001b[49m\u001b[43mfapl\u001b[49m\u001b[38;5;241;43m=\u001b[39;49m\u001b[43mfapl\u001b[49m\u001b[43m,\u001b[49m\u001b[43m \u001b[49m\u001b[43mfcpl\u001b[49m\u001b[38;5;241;43m=\u001b[39;49m\u001b[43mfcpl\u001b[49m\u001b[43m)\u001b[49m\n\u001b[1;32m    242\u001b[0m \u001b[38;5;28;01melif\u001b[39;00m mode \u001b[38;5;241m==\u001b[39m \u001b[38;5;124m'\u001b[39m\u001b[38;5;124ma\u001b[39m\u001b[38;5;124m'\u001b[39m:\n\u001b[1;32m    243\u001b[0m     \u001b[38;5;66;03m# Open in append mode (read/write).\u001b[39;00m\n\u001b[1;32m    244\u001b[0m     \u001b[38;5;66;03m# If that fails, create a new file only if it won't clobber an\u001b[39;00m\n\u001b[1;32m    245\u001b[0m     \u001b[38;5;66;03m# existing one (ACC_EXCL)\u001b[39;00m\n\u001b[1;32m    246\u001b[0m     \u001b[38;5;28;01mtry\u001b[39;00m:\n",
      "File \u001b[0;32mh5py/_objects.pyx:54\u001b[0m, in \u001b[0;36mh5py._objects.with_phil.wrapper\u001b[0;34m()\u001b[0m\n",
      "File \u001b[0;32mh5py/_objects.pyx:55\u001b[0m, in \u001b[0;36mh5py._objects.with_phil.wrapper\u001b[0;34m()\u001b[0m\n",
      "File \u001b[0;32mh5py/h5f.pyx:122\u001b[0m, in \u001b[0;36mh5py.h5f.create\u001b[0;34m()\u001b[0m\n",
      "\u001b[0;31mOSError\u001b[0m: Unable to create file (unable to truncate a file which is already open)"
     ]
    }
   ],
   "source": [
    "import h5py\n",
    "\n",
    "hdf5_path = 'data/embeddings_0.hdf5'\n",
    "\n",
    "with h5py.File(hdf5_path, 'w') as hdf5_file:\n",
    "    with torch.no_grad():\n",
    "        maxshape = (None, n_embed*4)\n",
    "        dataset = hdf5_file.create_dataset('tensors', (0, n_embed*4), maxshape=maxshape, dtype='float32')\n",
    "        \n",
    "        for batch in tqdm(batch_iterator):\n",
    "            embedding = model.forward_embedding(batch.to(device))\n",
    "            flattened_embedding = embedding.view(-1, n_embed*4)\n",
    "    \n",
    "            # Append the flattened tensor to the HDF5 dataset\n",
    "            dataset.resize((dataset.shape[0] + flattened_embedding.shape[0]), axis=0)\n",
    "            dataset[-flattened_embedding.shape[0]:] = flattened_embedding.cpu().numpy()\n"
   ]
  },
  {
   "cell_type": "code",
   "execution_count": 20,
   "id": "7a1b04fa-07cb-49de-80ef-8e88c0360ef0",
   "metadata": {},
   "outputs": [],
   "source": [
    "import numpy as np\n",
    "\n",
    "batch_size = 128\n",
    "\n",
    "def iterate_embeddings(batch_size):\n",
    "    with h5py.File(hdf5_path, 'r') as hdf5_file:\n",
    "        while True:\n",
    "            dataset = hdf5_file['tensors']\n",
    "            dataset_size = dataset.shape[0]\n",
    "            random_indices = torch.randint(dataset_size, size=(batch_size,))\n",
    "            random_samples = torch.tensor(np.array([dataset[idx] for idx in random_indices]))\n",
    "            yield random_samples\n",
    "\n",
    "embedding_iterator = iterate_embeddings(batch_size)"
   ]
  },
  {
   "cell_type": "code",
   "execution_count": 86,
   "id": "cb939ee5-8115-41b5-8e32-73520c3ecdc0",
   "metadata": {},
   "outputs": [
    {
     "data": {
      "text/plain": [
       "torch.Size([128, 512])"
      ]
     },
     "execution_count": 86,
     "metadata": {},
     "output_type": "execute_result"
    }
   ],
   "source": [
    "next(embedding_iterator).shape"
   ]
  },
  {
   "cell_type": "code",
   "execution_count": 16,
   "id": "920dda90-64fe-46f9-939a-df78d834bee1",
   "metadata": {},
   "outputs": [
    {
     "name": "stdout",
     "output_type": "stream",
     "text": [
      "4198912\n"
     ]
    },
    {
     "data": {
      "text/plain": [
       "SparseAutoencoder(\n",
       "  (encoder): Linear(in_features=512, out_features=4096, bias=True)\n",
       "  (decoder): Linear(in_features=4096, out_features=512, bias=True)\n",
       "  (relu): ReLU()\n",
       ")"
      ]
     },
     "execution_count": 16,
     "metadata": {},
     "output_type": "execute_result"
    }
   ],
   "source": [
    "autoencoder = SparseAutoencoder(4096).to(device)\n",
    "count_params(autoencoder)\n",
    "autoencoder"
   ]
  },
  {
   "cell_type": "code",
   "execution_count": 18,
   "id": "135c4b8a-cc9b-4249-859e-922d254a877b",
   "metadata": {},
   "outputs": [],
   "source": [
    "train_steps = 20000\n",
    "lambda_reg = 0.002\n",
    "batch_size = 128\n",
    "lr = 1e-5\n",
    "\n",
    "autoencoder = SparseAutoencoder(4096).to(device)\n",
    "optimizer = torch.optim.Adam(autoencoder.parameters(), lr=lr)\n",
    "losses = []\n",
    "recon_losses = []\n",
    "reg_losses = []"
   ]
  },
  {
   "cell_type": "code",
   "execution_count": 40,
   "id": "93ddc4d1-0252-46ea-9bda-05e36bd03152",
   "metadata": {},
   "outputs": [
    {
     "name": "stderr",
     "output_type": "stream",
     "text": [
      "0.053: 100%|██████████████████████████████| 20000/20000 [34:12<00:00,  9.74it/s]\n"
     ]
    },
    {
     "name": "stdout",
     "output_type": "stream",
     "text": [
      "Loss:\t0.071\n",
      "Recon:\t0.051\n",
      "Reg:\t0.020\n"
     ]
    },
    {
     "data": {
      "image/png": "[encoded data removed]",
      "text/plain": [
       "<Figure size 640x480 with 1 Axes>"
      ]
     },
     "metadata": {},
     "output_type": "display_data"
    }
   ],
   "source": [
    "import matplotlib.pyplot as plt\n",
    "import h5py\n",
    "hdf5_path = 'data/embeddings_0.hdf5'\n",
    "\n",
    "batch_size = 128\n",
    "losses = []\n",
    "recon_losses = []\n",
    "reg_losses = []\n",
    "embedding_iterator = iterate_embeddings(batch_size)\n",
    "\n",
    "pbar = tqdm(range(train_steps))\n",
    "\n",
    "for _ in pbar:\n",
    "    xb, _ = get_batch('train', batch_size)\n",
    "    # with torch.no_grad():\n",
    "    #     x_embedding = model.forward_embedding(xb)\n",
    "    #     print(x_embedding.shape)\n",
    "    # break\n",
    "    x_embedding = next(embedding_iterator).to(device)\n",
    "    optimizer.zero_grad()\n",
    "    outputs, recon_loss, reg_loss = autoencoder(x_embedding, compute_loss=True)\n",
    "    reg_loss = lambda_reg * reg_loss\n",
    "    loss = recon_loss + reg_loss\n",
    "    loss.backward()\n",
    "    optimizer.step()\n",
    "    autoencoder.normalize_decoder_weights()\n",
    "    \n",
    "    losses.append(loss.item())\n",
    "    recon_losses.append(recon_loss.item())\n",
    "    reg_losses.append(reg_loss.item())\n",
    "\n",
    "    pbar.set_description(f\"{np.mean(recon_losses[-100:]):.3f}\")\n",
    "\n",
    "print(f\"Loss:\\t{loss:.3f}\\nRecon:\\t{recon_loss:.3f}\\nReg:\\t{reg_loss:.3f}\")\n",
    "plt.plot(losses, label='loss')\n",
    "plt.plot(recon_losses, label='recon')\n",
    "plt.plot(reg_losses, label='reg')\n",
    "plt.legend()\n",
    "plt.show()"
   ]
  },
  {
   "cell_type": "code",
   "execution_count": 55,
   "id": "ad4e8fd6-ad13-4c49-bfe5-26a148860bb2",
   "metadata": {},
   "outputs": [],
   "source": [
    "path = \"models/autoencoder_1.pt\"\n",
    "\n",
    "os.makedirs('models', exist_ok=True)\n",
    "\n",
    "if not os.path.exists(path):\n",
    "    torch.save({\n",
    "                'model_state_dict': autoencoder.state_dict(),\n",
    "                'optimizer_state_dict': optimizer.state_dict(),\n",
    "                'losses': losses,\n",
    "                'steps': len(losses),\n",
    "                }, path)"
   ]
  },
  {
   "cell_type": "code",
   "execution_count": 39,
   "id": "086b1d50-c0b7-48c2-9db7-7d3b9a64913f",
   "metadata": {},
   "outputs": [
    {
     "data": {
      "text/plain": [
       "<All keys matched successfully>"
      ]
     },
     "execution_count": 39,
     "metadata": {},
     "output_type": "execute_result"
    }
   ],
   "source": [
    "path = \"models/autoencoder_1.pt\"\n",
    "\n",
    "checkpoint = torch.load(path)\n",
    "autoencoder.load_state_dict(checkpoint['model_state_dict'])"
   ]
  },
  {
   "cell_type": "code",
   "execution_count": 43,
   "id": "329db27e-2cc0-471a-a7fe-ad638b7dcf81",
   "metadata": {},
   "outputs": [
    {
     "name": "stdout",
     "output_type": "stream",
     "text": [
      "\n",
      "S Smith, Gary N NTT/HOU/ECT@ECT, Alan Aronowitz, Susan \n",
      "\t \n",
      "\tcatalog/HOU/ECT@EES, gdan.har@enron.com, \n",
      "\tmarcelise.liss, Clayton.mull@enron.com, kourtney@enron.com, mark.malzman@enron.com, tom.del@enron.com, \n",
      "\tjohn.mull@enron.com, james.lbas@enron.com, kevin.dro@enron.\n"
     ]
    }
   ],
   "source": [
    "identity = lambda x: (x, None, None)\n",
    "idx = torch.tensor(enc.encode('\\n'), dtype=torch.long)[None, :].to(device)\n",
    "# torch.manual_seed(1)\n",
    "with torch.no_grad():\n",
    "    print(enc.decode(model.generate_ablation(idx, 128, autoencoder)[0].tolist()))"
   ]
  },
  {
   "cell_type": "code",
   "execution_count": 44,
   "id": "f5493d8b-38b2-42b6-b44e-817d1e1aabca",
   "metadata": {},
   "outputs": [
    {
     "name": "stderr",
     "output_type": "stream",
     "text": [
      "100%|█████████████████████████████████████████| 160/160 [00:59<00:00,  2.68it/s]\n"
     ]
    },
    {
     "name": "stdout",
     "output_type": "stream",
     "text": [
      "0.9375\n"
     ]
    },
    {
     "data": {
      "image/png": "[encoded data removed]",
      "text/plain": [
       "<Figure size 640x480 with 1 Axes>"
      ]
     },
     "metadata": {},
     "output_type": "display_data"
    }
   ],
   "source": [
    "batch_size = 512\n",
    "embedding_iterator = iterate_embeddings(batch_size)\n",
    "\n",
    "def feature_density_histogram(num_samples=16384):\n",
    "    all_outputs = []\n",
    "    for i in tqdm(range(num_samples // batch_size)):\n",
    "        batch = next(embedding_iterator).to(device)\n",
    "        outputs = autoencoder.encode(batch)  # (128, 4096)\n",
    "        all_outputs.append(outputs)\n",
    "    output_stack = torch.concat(all_outputs)\n",
    "    return output_stack\n",
    "\n",
    "output_stack = feature_density_histogram(16384*5)\n",
    "\n",
    "B, C = output_stack.shape\n",
    "activation_densities = (output_stack > 1e-4).to(torch.float32).mean(dim=0)\n",
    "activation_densities = activation_densities[activation_densities > 0]\n",
    "activation_densities = activation_densities.log10()\n",
    "print(activation_densities.shape[0]/4096)\n",
    "plt.hist(activation_densities.cpu(), bins=48)\n",
    "plt.show()\n",
    "\n",
    "# We want nearly all features to be below 1% density: \"The number of features with density above 1%. A significant number of features above this level seems to correspond to an L1 coefficient that is too low.\""
   ]
  },
  {
   "cell_type": "code",
   "execution_count": 54,
   "id": "42a0226e-62ca-4c9e-994b-4a217ed4f1dd",
   "metadata": {},
   "outputs": [
    {
     "data": {
      "text/plain": [
       "tensor(56, device='mps:0')"
      ]
     },
     "execution_count": 54,
     "metadata": {},
     "output_type": "execute_result"
    }
   ],
   "source": [
    "(activation_densities > -1).sum()"
   ]
  },
  {
   "cell_type": "code",
   "execution_count": 45,
   "id": "ae8d1711-5692-48c3-a275-ad7691666b20",
   "metadata": {},
   "outputs": [
    {
     "name": "stdout",
     "output_type": "stream",
     "text": [
      "93.75%\n"
     ]
    }
   ],
   "source": [
    "print(f\"{(((output_stack > 1e-4).to(torch.float32).mean(dim=0) > 0).sum().item() / 4096 * 100):.2f}%\")"
   ]
  },
  {
   "cell_type": "code",
   "execution_count": 46,
   "id": "5be05e9d-b61c-468c-bdfc-09580997164f",
   "metadata": {},
   "outputs": [
    {
     "name": "stdout",
     "output_type": "stream",
     "text": [
      "Median:\t18.0\n",
      "Mean:\t18.94\n",
      "Std:\t7.17\n"
     ]
    }
   ],
   "source": [
    "batch_size = 4096\n",
    "embedding_iterator = iterate_embeddings(batch_size)\n",
    "x_embedding = next(embedding_iterator).to(device)\n",
    "\n",
    "activation_counts = (autoencoder.encode(x_embedding) > 1e-3 * 1.0).sum(dim=-1).to(torch.float32)\n",
    "print(f\"Median:\\t{activation_counts.median().item()}\\nMean:\\t{activation_counts.mean().item():.2f}\\nStd:\\t{activation_counts.std().item():.2f}\")\n",
    "# median number of hot features per token for each element in the batch, want to be \"less than 10 or 20\" as per paper\n",
    "\n",
    "# \"we generally target a L^0 norm that is less than 10 or 20. We especially distrust solutions where the L^0 norm is a significant fraction of the transformer’s activation dimensionality."
   ]
  },
  {
   "cell_type": "code",
   "execution_count": 47,
   "id": "ff905d34-63c9-4c26-9fc8-75fac2b25409",
   "metadata": {},
   "outputs": [
    {
     "data": {
      "text/plain": [
       "<matplotlib.image.AxesImage at 0x44fdd3730>"
      ]
     },
     "execution_count": 47,
     "metadata": {},
     "output_type": "execute_result"
    },
    {
     "data": {
      "image/png": "[encoded data removed]",
      "text/plain": [
       "<Figure size 640x480 with 1 Axes>"
      ]
     },
     "metadata": {},
     "output_type": "display_data"
    }
   ],
   "source": [
    "with torch.no_grad():\n",
    "    out = autoencoder.encode(x_embedding) > 1e-3\n",
    "B, C = out.shape\n",
    "plt.imshow(out.cpu()[:256, :256])"
   ]
  },
  {
   "cell_type": "code",
   "execution_count": 1152,
   "id": "91561e28-91a6-4c2e-8674-a090a44cfa47",
   "metadata": {},
   "outputs": [
    {
     "name": "stdout",
     "output_type": "stream",
     "text": [
      "tensor(679, device='mps:0')\n",
      "tensor(685, device='mps:0')\n",
      "tensor(619, device='mps:0')\n",
      "tensor(551, device='mps:0')\n",
      "tensor(606, device='mps:0')\n",
      "tensor(631, device='mps:0')\n",
      "tensor(496, device='mps:0')\n",
      "tensor(634, device='mps:0')\n",
      "tensor(540, device='mps:0')\n",
      "tensor(517, device='mps:0')\n",
      "tensor(495, device='mps:0')\n",
      "tensor(579, device='mps:0')\n",
      "tensor(587, device='mps:0')\n",
      "tensor(579, device='mps:0')\n",
      "tensor(580, device='mps:0')\n",
      "tensor(730, device='mps:0')\n",
      "tensor(677, device='mps:0')\n",
      "tensor(537, device='mps:0')\n",
      "tensor(599, device='mps:0')\n",
      "tensor(476, device='mps:0')\n",
      "tensor(774, device='mps:0')\n",
      "tensor(541, device='mps:0')\n",
      "tensor(527, device='mps:0')\n",
      "tensor(482, device='mps:0')\n",
      "tensor(531, device='mps:0')\n",
      "tensor(457, device='mps:0')\n",
      "tensor(566, device='mps:0')\n",
      "tensor(508, device='mps:0')\n",
      "tensor(500, device='mps:0')\n",
      "tensor(483, device='mps:0')\n",
      "tensor(519, device='mps:0')\n",
      "tensor(537, device='mps:0')\n",
      "tensor(531, device='mps:0')\n",
      "tensor(545, device='mps:0')\n",
      "tensor(446, device='mps:0')\n",
      "tensor(548, device='mps:0')\n",
      "tensor(671, device='mps:0')\n",
      "tensor(648, device='mps:0')\n",
      "tensor(550, device='mps:0')\n",
      "tensor(520, device='mps:0')\n",
      "tensor(562, device='mps:0')\n",
      "tensor(566, device='mps:0')\n",
      "tensor(551, device='mps:0')\n",
      "tensor(562, device='mps:0')\n",
      "tensor(535, device='mps:0')\n",
      "tensor(554, device='mps:0')\n",
      "tensor(575, device='mps:0')\n",
      "tensor(504, device='mps:0')\n",
      "tensor(461, device='mps:0')\n",
      "tensor(606, device='mps:0')\n",
      "tensor(477, device='mps:0')\n",
      "tensor(548, device='mps:0')\n",
      "tensor(265, device='mps:0')\n",
      "tensor(611, device='mps:0')\n",
      "tensor(587, device='mps:0')\n",
      "tensor(449, device='mps:0')\n",
      "tensor(691, device='mps:0')\n",
      "tensor(628, device='mps:0')\n",
      "tensor(522, device='mps:0')\n",
      "tensor(476, device='mps:0')\n",
      "tensor(553, device='mps:0')\n",
      "tensor(593, device='mps:0')\n",
      "tensor(628, device='mps:0')\n",
      "tensor(786, device='mps:0')\n",
      "tensor(469, device='mps:0')\n",
      "tensor(515, device='mps:0')\n",
      "tensor(550, device='mps:0')\n",
      "tensor(389, device='mps:0')\n",
      "tensor(549, device='mps:0')\n",
      "tensor(527, device='mps:0')\n",
      "tensor(539, device='mps:0')\n",
      "tensor(479, device='mps:0')\n",
      "tensor(529, device='mps:0')\n",
      "tensor(501, device='mps:0')\n",
      "tensor(626, device='mps:0')\n",
      "tensor(650, device='mps:0')\n",
      "tensor(575, device='mps:0')\n",
      "tensor(605, device='mps:0')\n",
      "tensor(676, device='mps:0')\n",
      "tensor(763, device='mps:0')\n",
      "tensor(574, device='mps:0')\n",
      "tensor(495, device='mps:0')\n",
      "tensor(581, device='mps:0')\n",
      "tensor(656, device='mps:0')\n",
      "tensor(520, device='mps:0')\n",
      "tensor(476, device='mps:0')\n",
      "tensor(531, device='mps:0')\n",
      "tensor(441, device='mps:0')\n",
      "tensor(607, device='mps:0')\n",
      "tensor(567, device='mps:0')\n",
      "tensor(577, device='mps:0')\n",
      "tensor(428, device='mps:0')\n",
      "tensor(580, device='mps:0')\n",
      "tensor(581, device='mps:0')\n",
      "tensor(580, device='mps:0')\n",
      "tensor(542, device='mps:0')\n",
      "tensor(573, device='mps:0')\n",
      "tensor(483, device='mps:0')\n",
      "tensor(487, device='mps:0')\n",
      "tensor(501, device='mps:0')\n",
      "tensor(525, device='mps:0')\n",
      "tensor(568, device='mps:0')\n",
      "tensor(479, device='mps:0')\n",
      "tensor(584, device='mps:0')\n",
      "tensor(502, device='mps:0')\n",
      "tensor(574, device='mps:0')\n",
      "tensor(459, device='mps:0')\n",
      "tensor(547, device='mps:0')\n",
      "tensor(577, device='mps:0')\n",
      "tensor(533, device='mps:0')\n",
      "tensor(462, device='mps:0')\n",
      "tensor(615, device='mps:0')\n",
      "tensor(587, device='mps:0')\n",
      "tensor(597, device='mps:0')\n",
      "tensor(542, device='mps:0')\n",
      "tensor(488, device='mps:0')\n",
      "tensor(875, device='mps:0')\n",
      "tensor(593, device='mps:0')\n",
      "tensor(466, device='mps:0')\n",
      "tensor(583, device='mps:0')\n",
      "tensor(444, device='mps:0')\n",
      "tensor(599, device='mps:0')\n",
      "tensor(565, device='mps:0')\n",
      "tensor(499, device='mps:0')\n",
      "tensor(598, device='mps:0')\n",
      "tensor(546, device='mps:0')\n",
      "tensor(527, device='mps:0')\n",
      "tensor(528, device='mps:0')\n"
     ]
    }
   ],
   "source": [
    "# print(autoencoder(x))\n",
    "for vec in x_embedding:\n",
    "    hot = ((autoencoder.encode(vec) > 1e-4) * 1).sum(dim=1)\n",
    "    print(hot.sum())"
   ]
  },
  {
   "cell_type": "code",
   "execution_count": 476,
   "id": "54afaf7b-1f3a-40f9-bce9-6c79e8ebb5ff",
   "metadata": {},
   "outputs": [
    {
     "name": "stdout",
     "output_type": "stream",
     "text": [
      "[main 81e9b8e] add function to forward pass transformer using autoencoder for MLP activations\n",
      " 1 file changed, 240 insertions(+), 204 deletions(-)\n"
     ]
    }
   ],
   "source": [
    "!git a && git c 'add function to forward pass transformer using autoencoder for MLP activations'"
   ]
  },
  {
   "cell_type": "code",
   "execution_count": 35,
   "id": "22a4d785-8643-4f6a-b783-e93e25de2cbd",
   "metadata": {},
   "outputs": [
    {
     "name": "stdout",
     "output_type": "stream",
     "text": [
      "torch.Size([64, 128])\n",
      "tensor(2.5114, device='mps:0') tensor(3.3334, device='mps:0')\n"
     ]
    }
   ],
   "source": [
    "xb, yb = get_batch('train', 64)\n",
    "print(xb.shape)\n",
    "\n",
    "with torch.no_grad():\n",
    "    t_logits, t_loss = model(xb, yb)\n",
    "    a_logits, a_loss = model.forward_ablation(xb, autoencoder, yb)\n",
    "\n",
    "print(t_loss, a_loss)"
   ]
  },
  {
   "cell_type": "code",
   "execution_count": 63,
   "id": "ff0288d4-e7af-4b47-a671-8b0ec41c2a9d",
   "metadata": {},
   "outputs": [
    {
     "name": "stdout",
     "output_type": "stream",
     "text": [
      "torch.Size([128, 128, 4096]) torch.Size([128, 128])\n"
     ]
    }
   ],
   "source": [
    "def get_features(x):\n",
    "    embedding, _ = model.forward_embedding(x)\n",
    "    features = autoencoder.encode(embedding)\n",
    "    return features\n",
    "\n",
    "features = get_features(xb)\n",
    "\n",
    "print(features.shape, xb.shape)"
   ]
  },
  {
   "cell_type": "code",
   "execution_count": 230,
   "id": "25db30f9-ab4b-46db-88cd-c237a9806165",
   "metadata": {},
   "outputs": [
    {
     "name": "stderr",
     "output_type": "stream",
     "text": [
      "100%|█████████████████████████████████████| 32000/32000 [11:45<00:00, 45.34it/s]\n"
     ]
    }
   ],
   "source": [
    "feature_dict = {i: [0, []] for i in range(4096)}\n",
    "context_list = []\n",
    "\n",
    "threashold = 0.5\n",
    "\n",
    "num_iters = 32000\n",
    "batch_size = 16\n",
    "samples_per_row = 4\n",
    "\n",
    "for _ in tqdm(range(num_iters)):\n",
    "    xb, _ = get_batch(\"train\", batch_size)\n",
    "    features = get_features(xb)\n",
    "    features = features.cpu()\n",
    "    for i, row in enumerate(xb):  # iterate thru rows in a batch\n",
    "        # for j in range(row.shape[0]):  # iterate thru tokens in a row\n",
    "        for j in np.random.choice(row.shape[0], samples_per_row, replace=False):  #torch.randint(row.shape[0], (samples_per_row,), replact=False):\n",
    "            token = xb[i, j]\n",
    "            context = xb[i, max(j-4, 0):j+5]\n",
    "            context_list.append((token.item(), context.tolist()))\n",
    "            context_idx = len(context_list) - 1\n",
    "            \n",
    "            feature_vec = features[i, j]\n",
    "            activation_idxs = (feature_vec > threashold).nonzero()\n",
    "            \n",
    "            for a_idx in activation_idxs:\n",
    "                a_idx = a_idx[0].item()\n",
    "                feature_dict[a_idx][0] += 1\n",
    "                if feature_dict[a_idx][0] < 512:\n",
    "                    feature_dict[a_idx][1].append((context_idx, feature_vec[a_idx].item()))\n",
    "\n"
   ]
  },
  {
   "cell_type": "code",
   "execution_count": 231,
   "id": "3e6e83b3-e62a-449a-87f5-73e69f486fc1",
   "metadata": {},
   "outputs": [
    {
     "data": {
      "text/plain": [
       "330"
      ]
     },
     "execution_count": 231,
     "metadata": {},
     "output_type": "execute_result"
    }
   ],
   "source": [
    "sum([len(l[1]) > 1 for l in feature_dict.values()])"
   ]
  },
  {
   "cell_type": "code",
   "execution_count": 232,
   "id": "ee83cf28-2449-46f3-83ef-473556005ffb",
   "metadata": {},
   "outputs": [
    {
     "data": {
      "image/png": "[encoded data removed]",
      "text/plain": [
       "<Figure size 640x480 with 1 Axes>"
      ]
     },
     "metadata": {},
     "output_type": "display_data"
    }
   ],
   "source": [
    "plt.hist([math.log10(len(ctx[1])) for ctx in feature_dict.values() if len(ctx[1]) > 0], bins=40)\n",
    "plt.show()"
   ]
  },
  {
   "cell_type": "code",
   "execution_count": 233,
   "id": "6b2512ff-cbc1-45c2-9086-8e8532e05f16",
   "metadata": {},
   "outputs": [],
   "source": [
    "sorted_dict = sorted(feature_dict.items(), key = lambda x: x[1][0] if x[1][0] else 999999)[:10]"
   ]
  },
  {
   "cell_type": "code",
   "execution_count": 238,
   "id": "a3ebb4c3-5f5e-4440-92bd-91e8f2b8c14e",
   "metadata": {},
   "outputs": [
    {
     "name": "stdout",
     "output_type": "stream",
     "text": [
      "Feature idx:\t801\n",
      "Count:\t\t68\n",
      "  Token: '\\t'\n",
      "  Context: ' \\nSent:\\t'\n",
      "  Activation: 0.730\n",
      "\n",
      "  Token: '\\t'\n",
      "  Context: ' \\nSent:\\tTuesday, February 05'\n",
      "  Activation: 0.760\n",
      "\n",
      "  Token: '\\t'\n",
      "  Context: ' \\nSent:\\tTuesday'\n",
      "  Activation: 0.714\n",
      "\n",
      "  Token: '\\t'\n",
      "  Context: ' \\nSent:\\tFriday, November 02'\n",
      "  Activation: 0.764\n",
      "\n",
      "  Token: '\\t'\n",
      "  Context: ' \\nSent:\\tThursday, December 06'\n",
      "  Activation: 0.653\n",
      "\n",
      "  Token: '\\t'\n",
      "  Context: ' \\nSent:\\tMonday, November 26'\n",
      "  Activation: 0.675\n",
      "\n",
      "  Token: '\\t'\n",
      "  Context: ' \\nSent:\\tTuesday, November 20'\n",
      "  Activation: 0.705\n",
      "\n",
      "  Token: '\\t'\n",
      "  Context: ' \\nSent:\\tTuesday, November 20'\n",
      "  Activation: 0.798\n",
      "\n",
      "  Token: '\\t'\n",
      "  Context: ' \\nSent:\\tThursday, September 27'\n",
      "  Activation: 0.666\n",
      "\n",
      "  Token: '\\t'\n",
      "  Context: ' \\nSent:\\tTuesday, December 04'\n",
      "  Activation: 0.714\n",
      "\n",
      "Feature idx:\t3079\n",
      "Count:\t\t195\n",
      "  Token: ' ('\n",
      "  Context: '345-9363 (office)\\n713'\n",
      "  Activation: 0.611\n",
      "\n",
      "  Token: ' ('\n",
      "  Context: '646-3490 (fax)\\ns'\n",
      "  Activation: 0.877\n",
      "\n",
      "  Token: ' ('\n",
      "  Context: ' 221-1117 (Ph)\\n('\n",
      "  Activation: 0.666\n",
      "\n",
      "  Token: ' ('\n",
      "  Context: '646-3490 (fax)\\ns'\n",
      "  Activation: 0.887\n",
      "\n",
      "  Token: ' ('\n",
      "  Context: '348-5251 (fax)\\nhttp'\n",
      "  Activation: 0.761\n",
      "\n",
      "  Token: ' ('\n",
      "  Context: '751-3280 (fax)\\ncc'\n",
      "  Activation: 0.600\n",
      "\n",
      "  Token: ' ('\n",
      "  Context: '646-3393 (Fax)\\ncar'\n",
      "  Activation: 0.884\n",
      "\n",
      "  Token: ' ('\n",
      "  Context: '207-1382 (fax)\\n\\n'\n",
      "  Activation: 0.659\n",
      "\n",
      "  Token: ' ('\n",
      "  Context: '\\nFax:  (713) 646'\n",
      "  Activation: 0.740\n",
      "\n",
      "  Token: ' ('\n",
      "  Context: '53-3989 (Phone)\\n713'\n",
      "  Activation: 0.769\n",
      "\n",
      "Feature idx:\t970\n",
      "Count:\t\t2262\n",
      "  Token: 'ns'\n",
      "  Context: ' lcampbe.nsf\\n\\nLarry'\n",
      "  Activation: 3.193\n",
      "\n",
      "  Token: 'ns'\n",
      "  Context: 'dasovic.nsf\\n\\nFY'\n",
      "  Activation: 3.007\n",
      "\n",
      "  Token: 'ns'\n",
      "  Context: 'stclai.nsf\\n\\n'\n",
      "  Activation: 3.177\n",
      "\n",
      "  Token: 'ns'\n",
      "  Context: ': esager.nsf\\n\\n-----'\n",
      "  Activation: 3.195\n",
      "\n",
      "  Token: 'ns'\n",
      "  Context: 'dasovic.nsf\\n\\nFY'\n",
      "  Activation: 2.864\n",
      "\n",
      "  Token: 'ns'\n",
      "  Context: 'dasovic.nsf\\n\\nwhere'\n",
      "  Activation: 2.857\n",
      "\n",
      "  Token: 'ns'\n",
      "  Context: ': sshackle.nsf\\n\\nChris'\n",
      "  Activation: 3.419\n",
      "\n",
      "  Token: 'ns'\n",
      "  Context: 'arnet.acns.fsu.'\n",
      "  Activation: 0.806\n",
      "\n",
      "  Token: 'ns'\n",
      "  Context: ' mlenhar.nsf\\n\\n9'\n",
      "  Activation: 3.189\n",
      "\n",
      "  Token: 'ns'\n",
      "  Context: 'mpra-slns.com\\'\" <'\n",
      "  Activation: 0.593\n",
      "\n",
      "Feature idx:\t1363\n",
      "Count:\t\t2324\n",
      "  Token: ' <'\n",
      "  Context: 'Message-ID: <4239872.'\n",
      "  Activation: 3.306\n",
      "\n",
      "  Token: ' <'\n",
      "  Context: 'Message-ID: <28476686'\n",
      "  Activation: 3.443\n",
      "\n",
      "  Token: ' <'\n",
      "  Context: 'Message-ID: <10307758.'\n",
      "  Activation: 3.350\n",
      "\n",
      "  Token: ' <'\n",
      "  Context: 'Message-ID: <13209678.'\n",
      "  Activation: 3.436\n",
      "\n",
      "  Token: ' <'\n",
      "  Context: 'Message-ID: <5087275.'\n",
      "  Activation: 3.427\n",
      "\n",
      "  Token: ' <'\n",
      "  Context: 'Message-ID: <24130268.'\n",
      "  Activation: 3.259\n",
      "\n",
      "  Token: ' <'\n",
      "  Context: 'Message-ID: <16182360'\n",
      "  Activation: 3.569\n",
      "\n",
      "  Token: ' <'\n",
      "  Context: 'Message-ID: <27216155.'\n",
      "  Activation: 2.971\n",
      "\n",
      "  Token: ' <'\n",
      "  Context: 'Message-ID: <17852373'\n",
      "  Activation: 3.589\n",
      "\n",
      "  Token: ' <'\n",
      "  Context: 'Message-ID: <31801703'\n",
      "  Activation: 3.292\n",
      "\n",
      "Feature idx:\t3717\n",
      "Count:\t\t2365\n",
      "  Token: 'ime'\n",
      "  Context: ' Darn\\nMime-Version: 1'\n",
      "  Activation: 4.751\n",
      "\n",
      "  Token: 'ime'\n",
      "  Context: ' VAR\\nMime-Version: 1'\n",
      "  Activation: 4.763\n",
      "\n",
      "  Token: 'ime'\n",
      "  Context: ', LLC\\nMime-Version: 1'\n",
      "  Activation: 4.391\n",
      "\n",
      "  Token: 'ime'\n",
      "  Context: ': \\nMime-Version: 1'\n",
      "  Activation: 4.407\n",
      "\n",
      "  Token: 'ime'\n",
      "  Context: '.com\\nMime-Version: 1'\n",
      "  Activation: 4.444\n",
      "\n",
      "  Token: 'ime'\n",
      "  Context: '/30\\nMime-Version: 1'\n",
      "  Activation: 4.123\n",
      "\n",
      "  Token: 'ime'\n",
      "  Context: 'ations Comment\\nMime-Version: 1'\n",
      "  Activation: 4.826\n",
      "\n",
      "  Token: 'ime'\n",
      "  Context: ' Re:\\nMime-Version: 1'\n",
      "  Activation: 4.628\n",
      "\n",
      "  Token: 'ime'\n",
      "  Context: ' LOU\\nMime-Version: 1'\n",
      "  Activation: 4.669\n",
      "\n",
      "  Token: 'ime'\n",
      "  Context: ' Options program\\nMime-Version: 1'\n",
      "  Activation: 4.201\n",
      "\n",
      "Feature idx:\t2860\n",
      "Count:\t\t2385\n",
      "  Token: 'plain'\n",
      "  Context: 'Type: text/plain; charset'\n",
      "  Activation: 4.546\n",
      "\n",
      "  Token: 'plain'\n",
      "  Context: 'Type: text/plain; charset='\n",
      "  Activation: 4.555\n",
      "\n",
      "  Token: 'plain'\n",
      "  Context: 'Type: text/plain; charset='\n",
      "  Activation: 4.838\n",
      "\n",
      "  Token: 'plain'\n",
      "  Context: 'Type: text/plain; charset='\n",
      "  Activation: 4.039\n",
      "\n",
      "  Token: 'plain'\n",
      "  Context: 'Type: text/plain; charset='\n",
      "  Activation: 4.408\n",
      "\n",
      "  Token: 'plain'\n",
      "  Context: 'Type: text/plain; charset='\n",
      "  Activation: 4.489\n",
      "\n",
      "  Token: 'plain'\n",
      "  Context: 'Type: text/plain; charset='\n",
      "  Activation: 4.326\n",
      "\n",
      "  Token: 'plain'\n",
      "  Context: 'Type: text/plain; charset='\n",
      "  Activation: 4.340\n",
      "\n",
      "  Token: 'plain'\n",
      "  Context: 'Type: text/plain; charset='\n",
      "  Activation: 4.356\n",
      "\n",
      "  Token: 'plain'\n",
      "  Context: 'Type: text/plain; charset='\n",
      "  Activation: 4.830\n",
      "\n",
      "Feature idx:\t1901\n",
      "Count:\t\t2386\n",
      "  Token: 'ers'\n",
      "  Context: '1\\\\Notes Folders\\\\All documents\\n'\n",
      "  Activation: 2.954\n",
      "\n",
      "  Token: 'ers'\n",
      "  Context: '1\\\\Notes Folders\\\\All documents\\n'\n",
      "  Activation: 3.448\n",
      "\n",
      "  Token: 'ers'\n",
      "  Context: 'Benjamin_Rogers_Dec2000_'\n",
      "  Activation: 1.252\n",
      "\n",
      "  Token: 'ers'\n",
      "  Context: ': Re: Losers Wanted......Again\\n'\n",
      "  Activation: 0.576\n",
      "\n",
      "  Token: 'ers'\n",
      "  Context: '1\\\\Notes Folders\\\\All documents\\n'\n",
      "  Activation: 3.756\n",
      "\n",
      "  Token: 'ers'\n",
      "  Context: '1\\\\Notes Folders\\\\All documents\\n'\n",
      "  Activation: 3.413\n",
      "\n",
      "  Token: 'ers'\n",
      "  Context: '2001\\\\Notes Folders\\\\All documents\\n'\n",
      "  Activation: 3.483\n",
      "\n",
      "  Token: 'ers'\n",
      "  Context: '2001\\\\Notes Folders\\\\All documents\\n'\n",
      "  Activation: 3.319\n",
      "\n",
      "  Token: 'ers'\n",
      "  Context: 'Benjamin_Rogers_Dec2000_'\n",
      "  Activation: 1.098\n",
      "\n",
      "  Token: 'ers'\n",
      "  Context: '2\\\\Notes Folders\\\\All documents\\n'\n",
      "  Activation: 3.509\n",
      "\n",
      "Feature idx:\t1212\n",
      "Count:\t\t2552\n",
      "  Token: 'File'\n",
      "  Context: 'S\\nX-FileName'\n",
      "  Activation: 5.448\n",
      "\n",
      "  Token: 'File'\n",
      "  Context: 'M\\nX-FileName: mlok'\n",
      "  Activation: 5.885\n",
      "\n",
      "  Token: 'Name'\n",
      "  Context: '\\nX-FileName: dfarmer'\n",
      "  Activation: 0.505\n",
      "\n",
      "  Token: 'File'\n",
      "  Context: 'M\\nX-FileName: mark gu'\n",
      "  Activation: 5.675\n",
      "\n",
      "  Token: 'File'\n",
      "  Context: 'E\\nX-FileName: ebass'\n",
      "  Activation: 5.743\n",
      "\n",
      "  Token: 'File'\n",
      "  Context: 'P\\nX-FileName: pallen'\n",
      "  Activation: 5.671\n",
      "\n",
      "  Token: 'File'\n",
      "  Context: 'E\\nX-FileName: eb'\n",
      "  Activation: 5.728\n",
      "\n",
      "  Token: 'File'\n",
      "  Context: 'R\\nX-FileName: rsander'\n",
      "  Activation: 5.864\n",
      "\n",
      "  Token: 'File'\n",
      "  Context: 'K\\nX-FileName: kmann'\n",
      "  Activation: 5.658\n",
      "\n",
      "  Token: ' j'\n",
      "  Context: '-FileName: jshankm.'\n",
      "  Activation: 0.582\n",
      "\n",
      "Feature idx:\t3569\n",
      "Count:\t\t2566\n",
      "  Token: '/'\n",
      "  Context: '/OU=NA/CN=RECIP'\n",
      "  Activation: 1.363\n",
      "\n",
      "  Token: '/'\n",
      "  Context: '/OU=NA/CN=RECIP'\n",
      "  Activation: 1.376\n",
      "\n",
      "  Token: '/'\n",
      "  Context: 'RECIPIENTS/CN=Pcher'\n",
      "  Activation: 4.474\n",
      "\n",
      "  Token: '/'\n",
      "  Context: 'RECIPIENTS/CN=Rt'\n",
      "  Activation: 4.682\n",
      "\n",
      "  Token: '/'\n",
      "  Context: '/OU=NA/CN=RECIP'\n",
      "  Activation: 1.531\n",
      "\n",
      "  Token: '/'\n",
      "  Context: '/OU=NA/CN=RECIP'\n",
      "  Activation: 1.430\n",
      "\n",
      "  Token: '/'\n",
      "  Context: 'RECIPIENTS/CN=Joh'\n",
      "  Activation: 4.499\n",
      "\n",
      "  Token: '/'\n",
      "  Context: 'RECIPIENTS/CN=Mcurry'\n",
      "  Activation: 4.552\n",
      "\n",
      "  Token: '/'\n",
      "  Context: '/OU=NA/CN=RECIP'\n",
      "  Activation: 1.170\n",
      "\n",
      "  Token: '/'\n",
      "  Context: '/OU=NA/CN=RECIP'\n",
      "  Activation: 1.448\n",
      "\n",
      "Feature idx:\t1816\n",
      "Count:\t\t2653\n",
      "  Token: 'c'\n",
      "  Context: ' LOI\\nCc: swanita'\n",
      "  Activation: 0.557\n",
      "\n",
      "  Token: 'Date'\n",
      "  Context: 'thyme>\\nDate: Wed, 6'\n",
      "  Activation: 4.802\n",
      "\n",
      "  Token: 'Date'\n",
      "  Context: 'thyme>\\nDate: Tue, 11'\n",
      "  Activation: 4.812\n",
      "\n",
      "  Token: 'Date'\n",
      "  Context: 'thyme>\\nDate: Fri, 9'\n",
      "  Activation: 4.480\n",
      "\n",
      "  Token: 'Date'\n",
      "  Context: 'thyme>\\nDate: Wed, 24'\n",
      "  Activation: 4.870\n",
      "\n",
      "  Token: 'Date'\n",
      "  Context: ': Bible\\n>>Date: Fri, 26'\n",
      "  Activation: 2.534\n",
      "\n",
      "  Token: 'Date'\n",
      "  Context: 'thyme>\\nDate: Wed, 29'\n",
      "  Activation: 4.800\n",
      "\n",
      "  Token: 'c'\n",
      "  Context: 'atts@usoncology.com>,'\n",
      "  Activation: 0.585\n",
      "\n",
      "  Token: 'Date'\n",
      "  Context: 'thyme>\\nDate: Wed, 22'\n",
      "  Activation: 4.923\n",
      "\n",
      "  Token: 'Date'\n",
      "  Context: 'thyme>\\nDate: Wed, 21'\n",
      "  Activation: 4.786\n",
      "\n"
     ]
    }
   ],
   "source": [
    "a = 0\n",
    "\n",
    "\n",
    "# for feat_idx, info in feature_dict.items():\n",
    "for feat_idx, info in sorted_dict:\n",
    "    a += 1\n",
    "    if a >= 10000:\n",
    "        break\n",
    "    count = info[0]\n",
    "    # ctxs = sorted(info[1], key=lambda x: x[1], reverse=True)\n",
    "    ctxs = info[1]\n",
    "    print(f\"Feature idx:\\t{feat_idx}\\nCount:\\t\\t{count}\")\n",
    "    for context_idx, feature_activation in ctxs[:10]:\n",
    "        token = enc.decode([context_list[context_idx][0]])\n",
    "        context = enc.decode(context_list[context_idx][1])\n",
    "        print(f'  Token: {repr(token)}\\n  Context: {repr(context)}\\n  Activation: {feature_activation:.3f}')\n",
    "        print()"
   ]
  },
  {
   "cell_type": "code",
   "execution_count": 114,
   "id": "f9221994-8a0c-4768-b6e3-5182b060ca4d",
   "metadata": {},
   "outputs": [
    {
     "ename": "ValueError",
     "evalue": "math domain error",
     "output_type": "error",
     "traceback": [
      "\u001b[0;31m---------------------------------------------------------------------------\u001b[0m",
      "\u001b[0;31mValueError\u001b[0m                                Traceback (most recent call last)",
      "Cell \u001b[0;32mIn[114], line 1\u001b[0m\n\u001b[0;32m----> 1\u001b[0m \u001b[43mmath\u001b[49m\u001b[38;5;241;43m.\u001b[39;49m\u001b[43mlog10\u001b[49m\u001b[43m(\u001b[49m\u001b[38;5;241;43m0\u001b[39;49m\u001b[43m)\u001b[49m\n",
      "\u001b[0;31mValueError\u001b[0m: math domain error"
     ]
    }
   ],
   "source": [
    "math.log10(0)"
   ]
  },
  {
   "cell_type": "code",
   "execution_count": 215,
   "id": "ba3af7ed-6ad3-4b23-aa4f-f773798ec58c",
   "metadata": {},
   "outputs": [
    {
     "name": "stdout",
     "output_type": "stream",
     "text": [
      "[main 4a9d3c5] beginnings of feature exploration\n",
      " 1 file changed, 5317 insertions(+), 113 deletions(-)\n"
     ]
    },
    {
     "name": "stderr",
     "output_type": "stream",
     "text": [
      "python3.10(56245) MallocStackLogging: can't turn off malloc stack logging because it was not enabled.\n"
     ]
    }
   ],
   "source": [
    "!git a && git commit -m \"beginnings of feature exploration\""
   ]
  },
  {
   "cell_type": "code",
   "execution_count": 5,
   "id": "96587682-1bbc-440a-ba54-47c36ae14fa0",
   "metadata": {},
   "outputs": [
    {
     "name": "stdout",
     "output_type": "stream",
     "text": [
      "{'pile_set_name': 'OpenWebText2'}\n"
     ]
    }
   ],
   "source": [
    "import zstandard as zstd\n",
    "import json\n",
    "\n",
    "# Path to your .jsonl.zst file\n",
    "file_path = '/Volumes/External/EleutherAI_ThePile_v1/pile/val.jsonl.zst'\n",
    "\n",
    "# Open the compressed file\n",
    "with open(file_path, 'rb') as compressed:\n",
    "    dctx = zstd.ZstdDecompressor()\n",
    "    with dctx.stream_reader(compressed) as reader:\n",
    "        while True:\n",
    "            chunk = reader.read(65536)  # Read a chunk of data\n",
    "            if not chunk:\n",
    "                break\n",
    "            # Process chunk (which is a part of your decompressed data)\n",
    "            for line in chunk.splitlines():\n",
    "                json_data = json.loads(line.decode('utf-8'))\n",
    "                break\n",
    "            break\n",
    "                # Process your json_data here"
   ]
  },
  {
   "cell_type": "code",
   "execution_count": 181,
   "id": "b4c15571-aa80-4757-8ec1-3e9817889c4a",
   "metadata": {},
   "outputs": [
    {
     "name": "stdout",
     "output_type": "stream",
     "text": [
      "[main f8ebab5] scripts for using the pile\n",
      " 1 file changed, 404 insertions(+), 4868 deletions(-)\n"
     ]
    }
   ],
   "source": [
    "!git a && git c \"scripts for using the pile\"\n"
   ]
  },
  {
   "cell_type": "code",
   "execution_count": null,
   "id": "c91fc645-1585-4610-8d81-ab88ae8d91f5",
   "metadata": {},
   "outputs": [],
   "source": []
  }
 ],
 "metadata": {
  "kernelspec": {
   "display_name": "Python 3 (ipykernel)",
   "language": "python",
   "name": "python3"
  },
  "language_info": {
   "codemirror_mode": {
    "name": "ipython",
    "version": 3
   },
   "file_extension": ".py",
   "mimetype": "text/x-python",
   "name": "python",
   "nbconvert_exporter": "python",
   "pygments_lexer": "ipython3",
   "version": "3.10.10"
  }
 },
 "nbformat": 4,
 "nbformat_minor": 5
}
