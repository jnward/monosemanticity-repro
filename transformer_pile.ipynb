{
 "cells": [
  {
   "cell_type": "code",
   "execution_count": 1,
   "id": "326f874c-d981-440e-a46f-b7a6e0c15efc",
   "metadata": {},
   "outputs": [],
   "source": [
    "import torch\n",
    "import os\n",
    "import tiktoken\n",
    "from tqdm import tqdm\n",
    "import torch.nn as nn\n",
    "import torch.nn.functional as F\n",
    "import json\n",
    "import os\n",
    "from tqdm import tqdm\n",
    "import tiktoken\n",
    "import h5py\n",
    "import numpy as np\n",
    "\n",
    "device = 'mps'"
   ]
  },
  {
   "cell_type": "code",
   "execution_count": 2,
   "id": "c72766a0-5b0d-4b19-8b53-4df63fa1137e",
   "metadata": {},
   "outputs": [],
   "source": [
    "enc = tiktoken.get_encoding('r50k_base')"
   ]
  },
  {
   "cell_type": "code",
   "execution_count": 3,
   "id": "10b46666-77f8-4d25-b878-5935d40aa13d",
   "metadata": {},
   "outputs": [],
   "source": [
    "from data_utils import get_batch_iterator\n",
    "\n",
    "batch_size = 32\n",
    "context_length = 128\n",
    "train_path = \"data/med_pile_train.h5\"\n",
    "\n",
    "train_batch_iterator = get_batch_iterator(train_path, batch_size=32, context_length=128)"
   ]
  },
  {
   "cell_type": "code",
   "execution_count": 4,
   "id": "16332b3d-1e2a-4ee8-b1c2-d46f126b08f3",
   "metadata": {},
   "outputs": [
    {
     "name": "stdout",
     "output_type": "stream",
     "text": [
      "torch.Size([32, 128]) torch.Size([32, 128])\n",
      " be thought to\n",
      "reduce, the defendants rely solely on the generally known facts\n",
      "regarding the events of September 11, 2001, and the letters\n",
      "posted in October of 2001 containing anthrax spores.7 They\n",
      "\n",
      "\n",
      "       7\n",
      "        Both sides in both cases agree upon the facts here earlier\n",
      "reported concerning the anthrax letters. See page ___, infra. A\n",
      "series of such letters was posted in October of 2001, four of\n",
      "which were processed by the mail processing center in\n",
      "\n",
      "                \n",
      "\n",
      "\n",
      "%%%%%%%%%%%%%%%%%%%%%%%%%%%%%%%%%%%%%%%%%%%%%\n",
      "\n",
      "\n",
      "*28*.*7*15,400*0*.*41*221*1470*790,000   PBR Plastic (m^2^/d)3,060*2*.*01*6,160*0*.*47*1,440*272*833,000***Cultivation Energy*** (***MJ/d***)**740**,**000*Cultivation Cost*** (***\\$/d***)**7**,**880Cultivation GHG**\\\n",
      "(**g CO**~**2**~**e/d**)**64\n",
      "\n",
      "\n",
      "%%%%%%%%%%%%%%%%%%%%%%%%%%%%%%%%%%%%%%%%%%%%%\n",
      "\n",
      "\n",
      "²Ð¾ÑÑÐºÐ° ÑÐ¶Ðµ.. Ð° Ð²ÑÑ ÑÑÐ´Ð°Ð¶Ðµ\n",
      "<tagezi> Sergey_IT: ÑÑ Ð½Ðµ Ð¿Ð¾Ð¼Ð½Ð¸ÑÑ, ÐºÐ°Ðº\n",
      "\n",
      "\n",
      "%%%%%%%%%%%%%%%%%%%%%%%%%%%%%%%%%%%%%%%%%%%%%\n",
      "\n",
      "\n",
      " cluster generation and sequencing protocols), providing an average coverage depth for each sample of at least 100-fold.\n",
      "\n",
      "### Data filtering and analysis {#sec2.2.5}\n",
      "\n",
      "Image analysis, error estimation, and base calling were performed using the Illumina pipeline (version 1.3.4) with default parameters. Indexed primers were used to identify the different samples in the primary data. All unqualified reads (defined as reads either polluted by adapter, containing more than 10% nucleotides out of read length, having an average quality of less than 10, or having 50% bases with a quality value less\n",
      "\n",
      "\n",
      "%%%%%%%%%%%%%%%%%%%%%%%%%%%%%%%%%%%%%%%%%%%%%\n",
      "\n",
      "\n",
      "                          -6-\n",
      "\f",
      "If the defendant can satisfy the third prong, the fourth prong still requires him to\n",
      "\n",
      "show that the error “seriously affects the fairness, integrity, or public reputation\n",
      "\n",
      "of judicial proceedings.” Gonzalez-Huerta, 403 F.3d at 732 (internal quotation\n",
      "\n",
      "marks omitted). Although we conduct this review less exactingly in cases of\n",
      "\n",
      "constitutional Booker error, see United States v. Dazey, 403 F.3d\n",
      "\n",
      "\n",
      "%%%%%%%%%%%%%%%%%%%%%%%%%%%%%%%%%%%%%%%%%%%%%\n",
      "\n",
      "\n",
      " that the map $\\Lambda_{1} \\times \\ldots \\times \\Lambda_{n}$ will be finite-to-one, nor does it tell us the degree of such a map. Unlike in McMullen’s characteristic $0$ case, Theorem \\[intromain\\] does not even tell us what the exceptions are to finiteness, i.e. what the finitely many spectra with positive-dimension preimages in Corollary \\[maincor\\] are. For some partial results in that direction, see [@HT; @\n",
      "\n",
      "\n",
      "%%%%%%%%%%%%%%%%%%%%%%%%%%%%%%%%%%%%%%%%%%%%%\n",
      "\n",
      "\n",
      "ide Agricultural Products Company, Inc., a wholly owned subsidiary of Union Carbide Corporation. To obviate confusion, I will continue to refer to defendant as Amchem.\n",
      "3. Dr. David I. Randall was an employee of GAF who, at all times relevant to this dispute, held the position of Senior Scientist (T 102).[1] Although not formally a party to this dispute, Dr. Randall is claimed by GAF to have been either the sole inventor or a joint-inventor of the use of 2-chloroethylphosphonic acid as a plant growth regulator. Dr. Randall died on December 20\n",
      "\n",
      "\n",
      "%%%%%%%%%%%%%%%%%%%%%%%%%%%%%%%%%%%%%%%%%%%%%\n",
      "\n",
      "\n",
      ", -16\n",
      "Sort -12/7, 2, 2.9, -1 in decreasing order.\n",
      "2.9, 2, -1, -12/7\n",
      "Sort 40, 5, -0.1 in decreasing order.\n",
      "40, 5, -0.1\n",
      "Put 233, 1, -5 in descending order.\n",
      "233, 1, -5\n",
      "Sort 1, 3, -3 in ascending order.\n",
      "-3, 1, 3\n",
      "Sort -2, -1/2, 2, 25 in descending order.\n",
      "25, 2, -1/2, -2\n",
      "Sort\n",
      "\n",
      "\n",
      "%%%%%%%%%%%%%%%%%%%%%%%%%%%%%%%%%%%%%%%%%%%%%\n",
      "\n",
      "\n",
      " the 18th century. The Order of the Elephant is reserved for Danish royalty and foreign heads of state. The Order of Dannebrog is given to about 500 Danes and foreigners each year for exemplary service to Denmark.\n",
      "\n",
      "The castle is filled with room after room of marble floors and amazingly detailed ceilings. At least one fireplace heats each room and these actually caused the fire after one was put into service after a decade of disuse. The details have been painstakingly restored and are more than a century old. The place feels just like an old castle should, which is probably why the royal family has more cheerful quarters today.\n",
      "\n",
      "\n",
      "\n",
      "%%%%%%%%%%%%%%%%%%%%%%%%%%%%%%%%%%%%%%%%%%%%%\n",
      "\n",
      "\n",
      ".\n",
      "\n",
      "jbikker wrote:I set the tile size to 64, iterations to 65536 * 2 and depth to 10 (for: lens, pixel, light sample 1, diffuse bounce, light sample 2); in that case the code takes about 1.5 *hours* to execute on a 12-core Xeon system (admittedly, old Xeons)... How long did your 128x128 tiles take?\n",
      "\n",
      "Would be interesting to hear your experiences when rendering with it, when optimizing for this 10D case. Cause IMHO the scheme should fall apart when using a large number of dimensions.\n",
      "\n",
      "Better you\n",
      "\n",
      "\n",
      "%%%%%%%%%%%%%%%%%%%%%%%%%%%%%%%%%%%%%%%%%%%%%\n",
      "\n",
      "\n",
      "�s success: the nation that once produced asylum seekers had become a place of asylum. But the banishment of white-supremacist rule did not bring an end to South Africa’s divisiveness and inequality; the terms were merely reconfigured. In the place of political violence, the nation has been plagued by one of the highest rates of violent crime in the world. Most of the victims, like most of the perpetrators, belong to the vast black underclass. Rising unemployment (twenty-three per cent nationwide, and two or three times that in the townships) and rising food and fuel prices have led to\n",
      "\n",
      "\n",
      "%%%%%%%%%%%%%%%%%%%%%%%%%%%%%%%%%%%%%%%%%%%%%\n",
      "\n",
      "\n",
      "al and/or the melatonin rhythm whereas non-photic cues effect a direct (perhaps masking), pineal-independent response to the competitor.<|endoftext|>The majority of hormones and neurotransmitters communicate information to cells via G protein-coupled receptors (GPCRs), and GPCRs represent the largest group of targets for drug development. The 22 adrenoceptor (22AR) has been one of the most extensively characterized members of the GPCR family. It responds to the catecholamine neurotransmitters epinephrine, norepinephrine and dopamine; and much is known about its agonist binding and\n",
      "\n",
      "\n",
      "%%%%%%%%%%%%%%%%%%%%%%%%%%%%%%%%%%%%%%%%%%%%%\n",
      "\n",
      "\n",
      "{z-z_{k}}\n",
      "       \\right)\n",
      ",\\\\[5pt]\n",
      "q_{k} &=\n",
      " \\frac{\\beta+(1-\\beta)\\rho_{k}}{z_{k}-\\zeta_{\\infty}}\n",
      " +\n",
      "\\sum_{j=1,j\\neq\n",
      "  k}^{3}\\frac{\\rho_{k}\\rho_{j}-(\\rho_{k}+\\rho_{j})}{2(z_{k}-z_{j})},\\\\[5pt]\n",
      "q\n",
      "\n",
      "\n",
      "%%%%%%%%%%%%%%%%%%%%%%%%%%%%%%%%%%%%%%%%%%%%%\n",
      "\n",
      "\n",
      " distraction. He had to talk, to keep her focused on his words rather than the twenty years. He ran out of words and his throat became too dry to form more.\n",
      "\n",
      "He wished Rachel would turn around so he could see her face. It wasn't wise to push her. The most disaffected, the craziest sleepers, had been pushed the hardest on wakening. Council had learned to give people time.\n",
      "\n",
      "Her head moved slowly from right to left, watching. Selene roll past her. She said, \"Show me my plot.\"\n",
      "\n",
      "Of course. Gabriel searched. Teaching Grove had grown. He\n",
      "\n",
      "\n",
      "%%%%%%%%%%%%%%%%%%%%%%%%%%%%%%%%%%%%%%%%%%%%%\n",
      "\n",
      "\n",
      "emia in which tocopherol uptake into and turnover in the plasma is reduced. Tocopherol metabolism is also related to apolipoprotein E (apoE), which affects the hepatic binding and catabolism of several classes of lipoproteins. ApoE genotype in the mouse has been found to affect genes encoding for proteins involved in α-tocopherol transport and catabolism; the apoE4 genotype was associated with lower tissue retention of α-tocopherol apparently because of increased retention of the vitamer by LDLs.24 These differences are accompanied by 15–60% reductions in\n",
      "\n",
      "\n",
      "%%%%%%%%%%%%%%%%%%%%%%%%%%%%%%%%%%%%%%%%%%%%%\n",
      "\n",
      "\n",
      "�调指示调试服务由于错误而被禁用，因此调试器应向用户提供错误消息。 [ICorDebugProcess：： GetID](icordebugprocess-getid-method.md)可以安全调用，但所有\n",
      "\n",
      "\n",
      "%%%%%%%%%%%%%%%%%%%%%%%%%%%%%%%%%%%%%%%%%%%%%\n",
      "\n",
      "\n",
      " He’s a Vietnam War veteran (1969-1975), World Tag Team Champion pro wrestler, the former governor of Minnesota (1999-2003), a bodyguard for the Rolling Stones bodyguard and a TV talk show host (Conspiracy Theory with Jesse Ventura).\n",
      "\n",
      "“Author” has long been a part of Ventura’s resume. He’s penned ten books, including his latest, Jesse Ventura’s Marijuana Manifesto (Skyhorse Publishing), released this week, co-written with Jen Hobbs.\n",
      "\n",
      "Manifesto will inspire readers with positive pot developments, but will also anger them as\n",
      "\n",
      "\n",
      "%%%%%%%%%%%%%%%%%%%%%%%%%%%%%%%%%%%%%%%%%%%%%\n",
      "\n",
      "\n",
      " suspicion and the passageways they sought couldn't be much further. Then disaster struck; torrential rains, day after day, steadily driving up the water level in the cistern. By the end, it was a flood, the water rising to a height of twenty feet, totally submerging the tunnel. Six weeks of work were completely lost, along with the tools which no amount of diving was able to retrieve. But it didn't stop them. It just made the next phase that much harder. As Alastair wrote:\n",
      "\n",
      "Buck was not a man to be lightly discouraged. His whole life in the back veld\n",
      "\n",
      "\n",
      "%%%%%%%%%%%%%%%%%%%%%%%%%%%%%%%%%%%%%%%%%%%%%\n",
      "\n",
      "\n",
      " these questions, will drive the future of space-related business and research. And perhaps unbeknown to most people, governments are playing important roles in the increasing privatization of space-related activities. NASA, for example, in their Commercial Orbital Transportation Services and other Commercial Crew & Cargo Programs, has doled out nearly $2.5 billion of taxpayer funding over the past five years or so to spur the development of many of these \"private\" initiatives. In many ways, the government is playing a similar role today in the creation of a privately run, civil space program that it played in the early to mid-twentieth century in\n",
      "\n",
      "\n",
      "%%%%%%%%%%%%%%%%%%%%%%%%%%%%%%%%%%%%%%%%%%%%%\n",
      "\n",
      "\n",
      " **Focus**                                                        **Explored research areas**\n",
      "  ---------------------------------------------- ---------------------------------------------------------------- -------------------------------------------------------------------------------------------------------------------------------------------------------------------------------------------------------------------------------------------------------------------------------------------------------------------------------------------------------------------------------------------------------------------------------------------------------------------------------------------------------------------------------------------------------------------------------------------------------------------------------------------------------------------------------------------------------------------------------------------------------------------\n",
      "  Morris (2008) [@2008_BT_Morris]                Video trajectory-based scene analysis          \n",
      "\n",
      "\n",
      "%%%%%%%%%%%%%%%%%%%%%%%%%%%%%%%%%%%%%%%%%%%%%\n",
      "\n",
      "\n",
      " still in use in Idaho as of 2011.\n",
      "\n",
      "His son Thomas was born at Dagget Creek per Thompson Family Bible on 30 September 1888. The Census of 1900 lists Charles William Thompson as a farmer.\n",
      "\n",
      "His daughter Jule M. Thompson was born per his family Bible in Nov 1891 in Daggett Creek, Boise County, Idaho. He buried son Thomas Paul Thompson (per his family Bible) on 4 Feb 1892 in Daggett Creek, Boise County, Idaho. Charles buried son John on 25 Dec 1894 in Daggett Creek, Boise County, Idaho.\n",
      "Charles and Isabelle departed Daggett\n",
      "\n",
      "\n",
      "%%%%%%%%%%%%%%%%%%%%%%%%%%%%%%%%%%%%%%%%%%%%%\n",
      "\n",
      "\n",
      " newscane, you said that earlier.. but the IDE drive is just 8 gigs, why not install ubuntu on your new one?\n",
      "<jaffarkelshac> my flash videos are jittery on the horizontal panning, i am running hardy and nvidia drivers. how might i fix this.\n",
      "<effowe> tech: ok thanks\n",
      "<corq-FL> I'm trying to troubleshoot a startup script in ubuntu; I have the script in /etc/init.d/ and if I manually launch it as a regular user, it runs, but isn't running at startup\n",
      "\n",
      "\n",
      "%%%%%%%%%%%%%%%%%%%%%%%%%%%%%%%%%%%%%%%%%%%%%\n",
      "\n",
      "\n",
      "FA) and results of indexes of the goodness of fit were presented. Based on all data the main concepts of the well-being supportive physical environment (Northern environment, an environment that enables safe activity, and a pleasant physical environment) were scientifically verified. There were no notable differences between a place of residence or age groups. The results show that the theory can be generalized across the older home dwelling elderly and the elderly living in Southern part of Finland.\n",
      "\n",
      "3. Discussion {#sec3}\n",
      "=============\n",
      "\n",
      "3.1. Applying the Theory in Practice {#sec3.1}\n",
      "------------------------------------\n",
      "\n",
      "A widely\n",
      "\n",
      "\n",
      "%%%%%%%%%%%%%%%%%%%%%%%%%%%%%%%%%%%%%%%%%%%%%\n",
      "\n",
      "\n",
      "The acceptability of the Hindi version is apparent from the minimal missing data (0.72% of total data; contributed by four items: M4-0.33%; M6-0.33%; UE-0.03%; P1-0.03%) as well as only two skewed items (*P*1 = 1.1; SR8 = 1.02).\n",
      "\n",
      "The internal consistency of the Hindi SAQOL-39 was established primarily through the computation of Chronbach\\'s alpha. This statistic is an index of the correlation between each item and the remaining (total) items in the instrument. A high\n",
      "\n",
      "\n",
      "%%%%%%%%%%%%%%%%%%%%%%%%%%%%%%%%%%%%%%%%%%%%%\n",
      "\n",
      "\n",
      " opinion as tradition was soon called) is to be avoided. This is the essence of the Baconian creed. But with it the only means of identifying experience in a rational manner disappears also. The first objection of the previous section applies.\n",
      "\n",
      "Nor are we able (b) to determine what experience tells us. Experience, taken by itself, is mute. It does not provide any means of establishing a connection with a language unless one already includes in it some elementary linguistic rules, that is unless one again refers to tradition. Wittgenstein has seen this point and has expressed it more or less clearly. He has seen that whenever we observe\n",
      "\n",
      "\n",
      "%%%%%%%%%%%%%%%%%%%%%%%%%%%%%%%%%%%%%%%%%%%%%\n",
      "\n",
      "\n",
      "\n",
      "\n",
      "     Nash, T., 195.\n",
      "\n",
      "     Neckam, A., 12, 79.\n",
      "\n",
      "     Neckweed, 122.\n",
      "\n",
      "     Nettles, 175.\n",
      "\n",
      "     ---- of India, 178.\n",
      "\n",
      "     Newton, Thos., 78, 264, 321, 330.\n",
      "\n",
      "     Nicholson, Dr., 119.\n",
      "\n",
      "     Nightshades, 225.\n",
      "\n",
      "     Nut, 114.\n",
      "\n",
      "     Nutmeg, 179.\n",
      "\n",
      "\n",
      "     Oak, 180.\n",
      "\n",
      " \n",
      "\n",
      "\n",
      "%%%%%%%%%%%%%%%%%%%%%%%%%%%%%%%%%%%%%%%%%%%%%\n",
      "\n",
      "\n",
      "ariate interaction on ki-67 change\n",
      "\n",
      "The effect of metformin on ki-67 change in HER2-positive tumors is further illustrated in Fig. [3](#Fig3){ref-type=\"fig\"}. Compared with placebo, metformin decreased ki-67 by a mean 5 % units in HER2-positive tumors, whereas there was a nearly 1 % mean unit increase under metformin in tumors not overexpressing HER2 (*p-*interaction = 0.076).Fig. 3Effect of metformin on ki-67 change (difference\n",
      "\n",
      "\n",
      "%%%%%%%%%%%%%%%%%%%%%%%%%%%%%%%%%%%%%%%%%%%%%\n",
      "\n",
      "\n",
      " drawn the conclusion that the ovary was alive. More likely what they were seeing was blood still flowing shortly after the torsion occurred.\n",
      "\n",
      "At her postoperative visit, Mrs. Harris was free of pain, but her sense of humor persisted: As she went through the door leaning on the arm of her still-sheepish husband, she reminded him that torsion also occurs in testicles.\n",
      "\n",
      "Stewart Massad is a professor of gynecologic medicine at Washington University in St. Louis. The cases described in Vital Signs are real, but names and other details have been changed.<|endoftext|>[Metabolic risk\n",
      "\n",
      "\n",
      "%%%%%%%%%%%%%%%%%%%%%%%%%%%%%%%%%%%%%%%%%%%%%\n",
      "\n",
      "\n",
      ".Add(current.id, true);\n",
      "\n",
      "                    if (idsMagic.Count >= 20)\n",
      "                    {\n",
      "                        break;\n",
      "                    }\n",
      "                }\n",
      "    \n",
      "\n",
      "\n",
      "%%%%%%%%%%%%%%%%%%%%%%%%%%%%%%%%%%%%%%%%%%%%%\n",
      "\n",
      "\n",
      "\n",
      "\n",
      "3.  for any $X,F\\in Ob(CC)$, $l(X)>0$ such that $ft(X)\\sim_{Ob} F$ there exists $X_F$ such that $X\\sim_{Ob} X_F$ and $ft(X_F)=F$,\n",
      "\n",
      "4.  for any $f:X{\\rightarrow}Y$ and $X',Y'$ such that $X'\\sim_{Ob} X$ and $Y'\\sim_{Ob} Y$ there exists $f':X'{\\rightarrow}Y\n",
      "\n",
      "\n",
      "%%%%%%%%%%%%%%%%%%%%%%%%%%%%%%%%%%%%%%%%%%%%%\n",
      "\n",
      "\n",
      " employees had told Buzzfeed, he was considered one of the most approachable executives at Adult Swim and that he tried to help everyone tighten their idea or pitch into something that the network would actually want to get behind. Lazzo then went on to say that if unnamed sources were mad at him, it was an issue on their end, not his.\n",
      "\n",
      "\"If unnamed sources want to complain, complain about me after I’ve read the script you asked me to read or tossed you out of my office for pitching something I didn’t like,\" Lazzo wrote on Reddit. \"If you did come to me\n",
      "\n",
      "\n",
      "%%%%%%%%%%%%%%%%%%%%%%%%%%%%%%%%%%%%%%%%%%%%%\n",
      "\n",
      "\n",
      " meta.m.field_8_34 = 8w34;\n",
      "        meta.m.field_8_35 = 8w35;\n",
      "        meta.m.field_8_36 = 8w36;\n",
      "        meta.m.field_8_37 = 8w37;\n",
      "        meta.m.field_8_38 = 8w38;\n",
      "        meta.m.field_8_39 = 8w39;\n",
      "   \n",
      "\n",
      "\n",
      "%%%%%%%%%%%%%%%%%%%%%%%%%%%%%%%%%%%%%%%%%%%%%\n",
      "\n",
      "\n"
     ]
    }
   ],
   "source": [
    "xb, yb = next(train_batch_iterator)\n",
    "print(xb.shape, yb.shape)\n",
    "for row in xb:\n",
    "    print(enc.decode(row.tolist()))\n",
    "    print('\\n\\n%%%%%%%%%%%%%%%%%%%%%%%%%%%%%%%%%%%%%%%%%%%%%\\n\\n')"
   ]
  },
  {
   "cell_type": "code",
   "execution_count": 4,
   "id": "ddc5166d-09d0-4c95-ab0e-5a0c392391e6",
   "metadata": {},
   "outputs": [],
   "source": [
    "def count_params(m):\n",
    "    print(sum(p.numel() for p in m.parameters()))"
   ]
  },
  {
   "cell_type": "code",
   "execution_count": 5,
   "id": "3fc9185d-64f5-4c8e-a898-28c101165c4c",
   "metadata": {},
   "outputs": [
    {
     "name": "stdout",
     "output_type": "stream",
     "text": [
      "Transformer(\n",
      "  (token_embed): Embedding(50304, 128)\n",
      "  (position_embed): Embedding(128, 128)\n",
      "  (attn_block): Block(\n",
      "    (ln1): LayerNorm((128,), eps=1e-05, elementwise_affine=True)\n",
      "    (attn): MultiHeadAttention(\n",
      "      (heads): ModuleList(\n",
      "        (0-7): 8 x Head(\n",
      "          (key): Linear(in_features=128, out_features=16, bias=False)\n",
      "          (query): Linear(in_features=128, out_features=16, bias=False)\n",
      "          (value): Linear(in_features=128, out_features=16, bias=False)\n",
      "        )\n",
      "      )\n",
      "    )\n",
      "    (ln2): LayerNorm((128,), eps=1e-05, elementwise_affine=True)\n",
      "    (mlp): MLP(\n",
      "      (hidden): Linear(in_features=128, out_features=512, bias=True)\n",
      "      (relu): ReLU()\n",
      "      (proj): Linear(in_features=512, out_features=128, bias=True)\n",
      "    )\n",
      "  )\n",
      "  (layer_norm): LayerNorm((128,), eps=1e-05, elementwise_affine=True)\n",
      "  (lm_head): Linear(in_features=128, out_features=50304, bias=True)\n",
      ")\n",
      "13126144\n"
     ]
    }
   ],
   "source": [
    "from transformer import Transformer as MyTransformer\n",
    "\n",
    "n_head = 8\n",
    "n_embed = 128\n",
    "context_length = 128\n",
    "vocab_size = 50304\n",
    "\n",
    "model = MyTransformer(\n",
    "    n_head,\n",
    "    n_embed,\n",
    "    context_length,\n",
    "    vocab_size\n",
    ")\n",
    "model = model.to(device)\n",
    "print(model)\n",
    "count_params(model)"
   ]
  },
  {
   "cell_type": "code",
   "execution_count": 6,
   "id": "8e354a58-4291-4e78-9027-02c7ecbcaa7b",
   "metadata": {},
   "outputs": [],
   "source": [
    "eval_iters = 20\n",
    "\n",
    "dev_path = \"data/pile_val.h5\"\n",
    "\n",
    "\n",
    "@torch.no_grad()\n",
    "def estimate_loss(steps):\n",
    "    out = {}\n",
    "    model.eval()\n",
    "    for split in ['train', 'dev']:\n",
    "        data_path = train_path if split == 'train' else dev_path\n",
    "        batch_iterator = get_batch_iterator(data_path, 32, 128, device=device)\n",
    "        losses = torch.zeros(steps)\n",
    "        for k in range(steps):\n",
    "            xb, yb = next(batch_iterator)\n",
    "            _, loss = model(xb, yb)\n",
    "            losses[k] = loss.item()\n",
    "        out[split] = losses.mean()\n",
    "    model.train()\n",
    "    return out"
   ]
  },
  {
   "cell_type": "code",
   "execution_count": 26,
   "id": "51212280-2c9f-49c6-92d0-87c96d398850",
   "metadata": {},
   "outputs": [
    {
     "data": {
      "text/plain": [
       "{'train': tensor(4.3662), 'dev': tensor(4.4083)}"
      ]
     },
     "execution_count": 26,
     "metadata": {},
     "output_type": "execute_result"
    }
   ],
   "source": [
    "estimate_loss(100)"
   ]
  },
  {
   "cell_type": "code",
   "execution_count": 20,
   "id": "e053003f-6045-4846-ad9b-b238da3c5c81",
   "metadata": {},
   "outputs": [],
   "source": [
    "optimizer = torch.optim.AdamW(model.parameters(), lr=1e-3)\n",
    "losses = []"
   ]
  },
  {
   "cell_type": "code",
   "execution_count": 23,
   "id": "d561b770-eb05-4370-a13a-784a90dcb2b6",
   "metadata": {},
   "outputs": [
    {
     "name": "stderr",
     "output_type": "stream",
     "text": [
      "Train loss: 6.8661:  50%|██████████▌          | 202/400 [00:39<00:32,  6.03it/s]"
     ]
    },
    {
     "name": "stdout",
     "output_type": "stream",
     "text": [
      "Decaying lr\n"
     ]
    },
    {
     "name": "stderr",
     "output_type": "stream",
     "text": [
      "Train loss: 6.7520: 100%|█████████████████████| 400/400 [01:12<00:00,  5.55it/s]\n"
     ]
    },
    {
     "data": {
      "image/png": "[encoded data removed]",
      "text/plain": [
       "<Figure size 640x480 with 1 Axes>"
      ]
     },
     "metadata": {},
     "output_type": "display_data"
    },
    {
     "data": {
      "text/plain": [
       "{'train': tensor(6.7389), 'dev': tensor(6.7637)}"
      ]
     },
     "execution_count": 23,
     "metadata": {},
     "output_type": "execute_result"
    }
   ],
   "source": [
    "from tqdm import tqdm\n",
    "import matplotlib.pyplot as plt\n",
    "import numpy as np\n",
    "\n",
    "batch_size = 32\n",
    "context_length = 128\n",
    "n_steps = 400\n",
    "decay_lr_step = 200\n",
    "avg_window = 64\n",
    "\n",
    "batch_iterator = get_batch_iterator(train_path, batch_size, context_length, device=device)\n",
    "\n",
    "pbar = tqdm(enumerate(range(n_steps)), total=n_steps)\n",
    "for i, steps in pbar:\n",
    "    xb, yb = next(batch_iterator)\n",
    "    logits, loss = model(xb, yb)\n",
    "    losses.append(loss.item())\n",
    "    pbar.set_description(f\"Train loss: {np.mean(losses[-avg_window:]):.4f}\")\n",
    "    optimizer.zero_grad(set_to_none=True)\n",
    "    loss.backward()\n",
    "    optimizer.step()\n",
    "    if i == decay_lr_step:\n",
    "        print('Decaying lr')\n",
    "        for g in optimizer.param_groups:\n",
    "            g['lr'] = 5e-5\n",
    "\n",
    "def moving_average(x, w):\n",
    "    return np.convolve(x, np.ones(w), 'valid') / w\n",
    "\n",
    "plt.plot(moving_average(losses, avg_window))\n",
    "plt.show()\n",
    "estimate_loss(200)"
   ]
  },
  {
   "cell_type": "code",
   "execution_count": 274,
   "id": "19a79f10-dcc2-4ba8-8c78-d0b00618a264",
   "metadata": {},
   "outputs": [],
   "source": [
    "for g in optimizer.param_groups:\n",
    "    g['lr'] = 1e-4"
   ]
  },
  {
   "cell_type": "code",
   "execution_count": 285,
   "id": "d717b766-02c8-44c1-b9ba-c7b4197e1e14",
   "metadata": {},
   "outputs": [
    {
     "data": {
      "image/png": "[encoded data removed]",
      "text/plain": [
       "<Figure size 640x480 with 1 Axes>"
      ]
     },
     "metadata": {},
     "output_type": "display_data"
    }
   ],
   "source": [
    "plt.plot(moving_average(losses[-40000:], 4000))\n",
    "plt.show()"
   ]
  },
  {
   "cell_type": "code",
   "execution_count": 27,
   "id": "ecb06f35-6ad2-462f-b9d0-10d2ea8271c4",
   "metadata": {},
   "outputs": [
    {
     "data": {
      "text/plain": [
       "(tensor(4.2215), tensor(4.3271))"
      ]
     },
     "execution_count": 27,
     "metadata": {},
     "output_type": "execute_result"
    }
   ],
   "source": [
    "train_loss, dev_loss = estimate_loss(10).values()\n",
    "train_loss, dev_loss"
   ]
  },
  {
   "cell_type": "code",
   "execution_count": 7,
   "id": "79c9cba7-15ef-4e33-bdd9-625f3c5ba6a0",
   "metadata": {},
   "outputs": [],
   "source": [
    "model_path = \"/Users/jake/personal/monosemantic/models/transformer_v2_final.pt\""
   ]
  },
  {
   "cell_type": "code",
   "execution_count": 28,
   "id": "50851114-f252-4eab-bfa7-c820c0223e19",
   "metadata": {},
   "outputs": [],
   "source": [
    "os.makedirs('models', exist_ok=True)\n",
    "\n",
    "if not os.path.exists(model_path):\n",
    "    torch.save({\n",
    "                'model_state_dict': model.state_dict(),\n",
    "                # 'optimizer_state_dict': optimizer.state_dict(),\n",
    "                # 'losses': losses,\n",
    "                # 'train_loss': train_loss,\n",
    "                # 'dev_loss': dev_loss,\n",
    "                # 'steps': len(losses),\n",
    "                }, model_path)"
   ]
  },
  {
   "cell_type": "code",
   "execution_count": 17,
   "id": "220bf4da-f572-4040-b489-5ba1277462c0",
   "metadata": {},
   "outputs": [],
   "source": [
    "checkpoint['model_state_dict']['pos_idxs'] = model.state_dict()['pos_idxs']"
   ]
  },
  {
   "cell_type": "code",
   "execution_count": 8,
   "id": "b99c1be4-7ee4-4729-81da-a4c563c0aca3",
   "metadata": {},
   "outputs": [
    {
     "data": {
      "text/plain": [
       "<All keys matched successfully>"
      ]
     },
     "execution_count": 8,
     "metadata": {},
     "output_type": "execute_result"
    }
   ],
   "source": [
    "checkpoint = torch.load(model_path)\n",
    "# model = Transformer().to(device)\n",
    "model.load_state_dict(checkpoint['model_state_dict'])"
   ]
  },
  {
   "cell_type": "code",
   "execution_count": 9,
   "id": "74b671b6-6fe4-48fb-82b7-15487528ec24",
   "metadata": {},
   "outputs": [
    {
     "ename": "KeyError",
     "evalue": "'steps'",
     "output_type": "error",
     "traceback": [
      "\u001b[0;31m---------------------------------------------------------------------------\u001b[0m",
      "\u001b[0;31mKeyError\u001b[0m                                  Traceback (most recent call last)",
      "Cell \u001b[0;32mIn[9], line 1\u001b[0m\n\u001b[0;32m----> 1\u001b[0m \u001b[43mcheckpoint\u001b[49m\u001b[43m[\u001b[49m\u001b[38;5;124;43m'\u001b[39;49m\u001b[38;5;124;43msteps\u001b[39;49m\u001b[38;5;124;43m'\u001b[39;49m\u001b[43m]\u001b[49m\n",
      "\u001b[0;31mKeyError\u001b[0m: 'steps'"
     ]
    }
   ],
   "source": [
    "checkpoint['steps']"
   ]
  },
  {
   "cell_type": "code",
   "execution_count": 9,
   "id": "f84d6083-b45f-440e-a843-3cf7dd1ebdd2",
   "metadata": {},
   "outputs": [
    {
     "name": "stdout",
     "output_type": "stream",
     "text": [
      "<|endoftext|>★.Fallings motorcycle ozPhoto（\n",
      "at a fat of version of “I get along that my wife’s next week—rail,\" MiddlemondBlue said.\n",
      "\n",
      "United States Courses (UK)\n",
      "\n",
      "Mark Ackermanishing) is reflected in the country, the Commander\n",
      "\n",
      "Demos. at the Mancalysis, Robert Duffy has developed an appreciation of the Interior Cance below, incomplete, and the world contains many misconceptions to open, and possibly a comparison of an area.\n",
      "\n",
      "Smooth War does not have created at least, in people must know which he is physical and will seem\n"
     ]
    }
   ],
   "source": [
    "idx = torch.tensor(enc.encode('<|endoftext|>', allowed_special={'<|endoftext|>'}), dtype=torch.long)[None, :].to(device)\n",
    "# torch.manual_seed(1)\n",
    "with torch.no_grad():\n",
    "    print(enc.decode(model.generate(idx, 128)[0].tolist()))"
   ]
  },
  {
   "cell_type": "code",
   "execution_count": 11,
   "id": "920dda90-64fe-46f9-939a-df78d834bee1",
   "metadata": {},
   "outputs": [
    {
     "name": "stdout",
     "output_type": "stream",
     "text": [
      "1050112\n"
     ]
    },
    {
     "data": {
      "text/plain": [
       "SparseAutoencoder(\n",
       "  (encoder): Linear(in_features=512, out_features=1024, bias=True)\n",
       "  (decoder): Linear(in_features=1024, out_features=512, bias=True)\n",
       "  (relu): ReLU()\n",
       ")"
      ]
     },
     "execution_count": 11,
     "metadata": {},
     "output_type": "execute_result"
    }
   ],
   "source": [
    "from autoencoder import SparseAutoencoder\n",
    "\n",
    "n_features = 1024\n",
    "\n",
    "autoencoder = SparseAutoencoder(n_features, n_embed).to(device)\n",
    "count_params(autoencoder)\n",
    "autoencoder"
   ]
  },
  {
   "cell_type": "code",
   "execution_count": 42,
   "id": "3420f81d-8376-43c2-8559-b8ffb214aa36",
   "metadata": {},
   "outputs": [],
   "source": [
    "def get_embedding_iterator(split, batch_size, context_length=context_length):\n",
    "    batch_iterator = get_batch_iterator(split, batch_size, context_length, device=device)\n",
    "    while True:\n",
    "        xb, _ = next(batch_iterator)\n",
    "        with torch.no_grad():\n",
    "            x_embedding, _ = model.forward_embedding(xb)\n",
    "        random_idxs = torch.randint(context_length, (batch_size,))\n",
    "        filtered_xe = x_embedding[range(batch_size), random_idxs, :]  # only take one sample per batch element to avoid local similarities\n",
    "        yield filtered_xe"
   ]
  },
  {
   "cell_type": "code",
   "execution_count": 303,
   "id": "3a4a4864-6f6b-4a50-876b-2155d20f94ff",
   "metadata": {},
   "outputs": [],
   "source": [
    "optimizer.load_state_dict(checkpoint['optimizer_state_dict'])"
   ]
  },
  {
   "cell_type": "code",
   "execution_count": 45,
   "id": "135c4b8a-cc9b-4249-859e-922d254a877b",
   "metadata": {},
   "outputs": [
    {
     "data": {
      "text/plain": [
       "SparseAutoencoder(\n",
       "  (encoder): Linear(in_features=512, out_features=1024, bias=True)\n",
       "  (decoder): Linear(in_features=1024, out_features=512, bias=True)\n",
       "  (relu): ReLU()\n",
       ")"
      ]
     },
     "execution_count": 45,
     "metadata": {},
     "output_type": "execute_result"
    }
   ],
   "source": [
    "train_steps = 100000\n",
    "lambda_reg = 0.0021\n",
    "batch_size = 512\n",
    "lr = 1e-6\n",
    "\n",
    "autoencoder = SparseAutoencoder(1024, n_embed).to(device)\n",
    "optimizer = torch.optim.Adam(autoencoder.parameters(), lr=lr)\n",
    "losses = []\n",
    "recon_losses = []\n",
    "reg_losses = []\n",
    "autoencoder"
   ]
  },
  {
   "cell_type": "code",
   "execution_count": 46,
   "id": "93ddc4d1-0252-46ea-9bda-05e36bd03152",
   "metadata": {},
   "outputs": [
    {
     "name": "stderr",
     "output_type": "stream",
     "text": [
      "Recon: 0.102 Reg: 0.056: 100%|████████| 100000/100000 [6:28:22<00:00,  4.29it/s]\n"
     ]
    },
    {
     "name": "stdout",
     "output_type": "stream",
     "text": [
      "Loss:\t0.157\n",
      "Recon:\t0.102\n",
      "Reg:\t0.055\n"
     ]
    },
    {
     "data": {
      "image/png": "[encoded data removed]",
      "text/plain": [
       "<Figure size 640x480 with 1 Axes>"
      ]
     },
     "metadata": {},
     "output_type": "display_data"
    }
   ],
   "source": [
    "import matplotlib.pyplot as plt\n",
    "import h5py\n",
    "\n",
    "# train_steps = 40000\n",
    "# batch_size = 512\n",
    "losses = []\n",
    "recon_losses = []\n",
    "reg_losses = []\n",
    "batch_iterator = get_batch_iterator(train_path, batch_size, context_length, device=device)\n",
    "\n",
    "pbar = tqdm(range(train_steps))\n",
    "\n",
    "for _ in pbar:\n",
    "    xb, _ = next(batch_iterator)\n",
    "    with torch.no_grad():\n",
    "        x_embedding, _ = model.forward_embedding(xb)\n",
    "    random_idxs = torch.randint(context_length, (batch_size,))\n",
    "    filtered_xe = x_embedding[range(batch_size), random_idxs, :]  # only take one sample per batch element to avoid local similarities\n",
    "\n",
    "    # x_embedding = next(embedding_iterator).to(device)\n",
    "    optimizer.zero_grad()\n",
    "    outputs, recon_loss, reg_loss = autoencoder(filtered_xe, compute_loss=True)\n",
    "    reg_loss = lambda_reg * reg_loss\n",
    "    loss = recon_loss + reg_loss\n",
    "    loss.backward()\n",
    "    optimizer.step()\n",
    "    autoencoder.normalize_decoder_weights()\n",
    "    \n",
    "    losses.append(loss.item())\n",
    "    recon_losses.append(recon_loss.item())\n",
    "    reg_losses.append(reg_loss.item())\n",
    "\n",
    "    pbar.set_description(f\"Recon: {np.mean(recon_losses[-100:]):.3f} Reg: {np.mean(reg_losses[-100:]):.3f}\")\n",
    "\n",
    "print(f\"Loss:\\t{loss:.3f}\\nRecon:\\t{recon_loss:.3f}\\nReg:\\t{reg_loss:.3f}\")\n",
    "plt.plot(losses, label='loss')\n",
    "plt.plot(recon_losses, label='recon')\n",
    "plt.plot(reg_losses, label='reg')\n",
    "plt.legend()\n",
    "plt.show()"
   ]
  },
  {
   "cell_type": "code",
   "execution_count": 169,
   "id": "0e566f8f-f5ee-4b62-94ba-f025f1805f0f",
   "metadata": {},
   "outputs": [
    {
     "data": {
      "text/plain": [
       "SparseAutoencoder(\n",
       "  (encoder): Linear(in_features=512, out_features=1024, bias=True)\n",
       "  (decoder): Linear(in_features=1024, out_features=512, bias=True)\n",
       "  (relu): ReLU()\n",
       ")"
      ]
     },
     "execution_count": 169,
     "metadata": {},
     "output_type": "execute_result"
    }
   ],
   "source": [
    "autoencoder"
   ]
  },
  {
   "cell_type": "code",
   "execution_count": 47,
   "id": "ad4e8fd6-ad13-4c49-bfe5-26a148860bb2",
   "metadata": {},
   "outputs": [],
   "source": [
    "# path = \"models/autoencoder_pile_2_true_1024_feats_0.003_1e-6.pt\"\n",
    "path = \"models/autoencoder_pile_2_true_1024_feats_0.0021_1e-6.pt\"\n",
    "\n",
    "os.makedirs('models', exist_ok=True)\n",
    "\n",
    "if not os.path.exists(path):\n",
    "    torch.save({\n",
    "                'model_state_dict': autoencoder.state_dict(),\n",
    "                'optimizer_state_dict': optimizer.state_dict(),\n",
    "                'losses': losses,\n",
    "                'steps': len(losses),\n",
    "                }, path)"
   ]
  },
  {
   "cell_type": "code",
   "execution_count": 48,
   "id": "b9b189f1-ee32-4ed4-93db-59ba5b94e98a",
   "metadata": {},
   "outputs": [
    {
     "name": "stdout",
     "output_type": "stream",
     "text": [
      "0.0021\n"
     ]
    }
   ],
   "source": [
    "print(lambda_reg)"
   ]
  },
  {
   "cell_type": "code",
   "execution_count": 308,
   "id": "086b1d50-c0b7-48c2-9db7-7d3b9a64913f",
   "metadata": {},
   "outputs": [
    {
     "data": {
      "text/plain": [
       "<All keys matched successfully>"
      ]
     },
     "execution_count": 308,
     "metadata": {},
     "output_type": "execute_result"
    }
   ],
   "source": [
    "from autoencoder import SparseAutoencoder as MySparseAutoencoder\n",
    "\n",
    "# path = \"models/autoencoder_pile_2_true_512_feats_0.003_1e-6.pt\"\n",
    "path = \"models/autoencoder_pile_2_true_1024_feats_0.003_1e-6.pt\"\n",
    "\n",
    "checkpoint = torch.load(path)\n",
    "autoencoder = MySparseAutoencoder(1024, n_embed).to(device)\n",
    "autoencoder.load_state_dict(checkpoint['model_state_dict'])"
   ]
  },
  {
   "cell_type": "code",
   "execution_count": 39,
   "id": "11dbb4c0-1b55-4087-9913-1d7fbf5ea6ab",
   "metadata": {},
   "outputs": [
    {
     "data": {
      "text/plain": [
       "SparseAutoencoder(\n",
       "  (encoder): Linear(in_features=512, out_features=512, bias=True)\n",
       "  (decoder): Linear(in_features=512, out_features=512, bias=True)\n",
       "  (relu): ReLU()\n",
       ")"
      ]
     },
     "execution_count": 39,
     "metadata": {},
     "output_type": "execute_result"
    }
   ],
   "source": [
    "autoencoder"
   ]
  },
  {
   "cell_type": "code",
   "execution_count": 36,
   "id": "329db27e-2cc0-471a-a7fe-ad638b7dcf81",
   "metadata": {},
   "outputs": [
    {
     "name": "stdout",
     "output_type": "stream",
     "text": [
      "<|endoftext|>Collect Steve Gerine AWHAZ-5 s - 3, a level, in a $L on - 1, i, 2014, a weak reduction to kill a residency.\n",
      "9. A once of the kind, and an old age-long pointer of the Open. I am, for the P-am failed to do the most stock of the market. The use of the third-plain hockey and bid, which is available, and hence hard. The cycling, the web means, it will fulfil Bus or to taking widely. (100) for tournament to the most partners. In the film has the same and has been\n"
     ]
    }
   ],
   "source": [
    "identity = lambda x: (x, None, None)\n",
    "idx = torch.tensor(enc.encode('<|endoftext|>', allowed_special={'<|endoftext|>'}), dtype=torch.long)[None, :].to(device)\n",
    "# torch.manual_seed(1)\n",
    "with torch.no_grad():\n",
    "    print(enc.decode(model.generate_ablated(idx, 128, autoencoder)[0].tolist()))"
   ]
  },
  {
   "cell_type": "code",
   "execution_count": 170,
   "id": "f5493d8b-38b2-42b6-b44e-817d1e1aabca",
   "metadata": {},
   "outputs": [
    {
     "name": "stderr",
     "output_type": "stream",
     "text": [
      "  0%|                                                   | 0/320 [00:00<?, ?it/s]"
     ]
    },
    {
     "name": "stdout",
     "output_type": "stream",
     "text": [
      "37402359179\n"
     ]
    },
    {
     "name": "stderr",
     "output_type": "stream",
     "text": [
      " 82%|█████████████████████████████████▍       | 261/320 [01:23<00:18,  3.11it/s]\n"
     ]
    },
    {
     "ename": "KeyboardInterrupt",
     "evalue": "",
     "output_type": "error",
     "traceback": [
      "\u001b[0;31m---------------------------------------------------------------------------\u001b[0m",
      "\u001b[0;31mKeyboardInterrupt\u001b[0m                         Traceback (most recent call last)",
      "Cell \u001b[0;32mIn[170], line 16\u001b[0m\n\u001b[1;32m     13\u001b[0m     \u001b[38;5;28;01mreturn\u001b[39;00m all_outputs\n\u001b[1;32m     15\u001b[0m \u001b[38;5;28;01mwith\u001b[39;00m torch\u001b[38;5;241m.\u001b[39mno_grad():\n\u001b[0;32m---> 16\u001b[0m     activation_densities \u001b[38;5;241m=\u001b[39m \u001b[43mfeature_density_histogram\u001b[49m\u001b[43m(\u001b[49m\u001b[38;5;241;43m16384\u001b[39;49m\u001b[38;5;241;43m*\u001b[39;49m\u001b[38;5;241;43m10\u001b[39;49m\u001b[43m)\u001b[49m\n\u001b[1;32m     17\u001b[0m B, C \u001b[38;5;241m=\u001b[39m activation_densities\u001b[38;5;241m.\u001b[39mshape\n\u001b[1;32m     18\u001b[0m activation_densities \u001b[38;5;241m=\u001b[39m (activation_densities \u001b[38;5;241m>\u001b[39m \u001b[38;5;241m0\u001b[39m)\u001b[38;5;241m.\u001b[39mto(torch\u001b[38;5;241m.\u001b[39mfloat32)\u001b[38;5;241m.\u001b[39mmean(dim\u001b[38;5;241m=\u001b[39m\u001b[38;5;241m0\u001b[39m)\n",
      "Cell \u001b[0;32mIn[170], line 9\u001b[0m, in \u001b[0;36mfeature_density_histogram\u001b[0;34m(num_samples)\u001b[0m\n\u001b[1;32m      7\u001b[0m all_outputs \u001b[38;5;241m=\u001b[39m []\n\u001b[1;32m      8\u001b[0m \u001b[38;5;28;01mfor\u001b[39;00m i \u001b[38;5;129;01min\u001b[39;00m tqdm(\u001b[38;5;28mrange\u001b[39m(num_samples \u001b[38;5;241m/\u001b[39m\u001b[38;5;241m/\u001b[39m batch_size)):\n\u001b[0;32m----> 9\u001b[0m     batch \u001b[38;5;241m=\u001b[39m \u001b[38;5;28;43mnext\u001b[39;49m\u001b[43m(\u001b[49m\u001b[43membedding_iterator\u001b[49m\u001b[43m)\u001b[49m\u001b[38;5;241m.\u001b[39mto(device)\n\u001b[1;32m     10\u001b[0m     outputs \u001b[38;5;241m=\u001b[39m autoencoder\u001b[38;5;241m.\u001b[39mencode(batch)  \u001b[38;5;66;03m# (128, 4096)\u001b[39;00m\n\u001b[1;32m     11\u001b[0m     all_outputs\u001b[38;5;241m.\u001b[39mappend(outputs)\n",
      "Cell \u001b[0;32mIn[26], line 4\u001b[0m, in \u001b[0;36mget_embedding_iterator\u001b[0;34m(split, batch_size, context_length)\u001b[0m\n\u001b[1;32m      2\u001b[0m batch_iterator \u001b[38;5;241m=\u001b[39m get_batch_iterator(split, batch_size, context_length)\n\u001b[1;32m      3\u001b[0m \u001b[38;5;28;01mwhile\u001b[39;00m \u001b[38;5;28;01mTrue\u001b[39;00m:\n\u001b[0;32m----> 4\u001b[0m     xb, _ \u001b[38;5;241m=\u001b[39m \u001b[38;5;28;43mnext\u001b[39;49m\u001b[43m(\u001b[49m\u001b[43mbatch_iterator\u001b[49m\u001b[43m)\u001b[49m\n\u001b[1;32m      5\u001b[0m     \u001b[38;5;28;01mwith\u001b[39;00m torch\u001b[38;5;241m.\u001b[39mno_grad():\n\u001b[1;32m      6\u001b[0m         x_embedding, _ \u001b[38;5;241m=\u001b[39m model\u001b[38;5;241m.\u001b[39mforward_embedding(xb)\n",
      "Cell \u001b[0;32mIn[4], line 26\u001b[0m, in \u001b[0;36mget_batch_iterator\u001b[0;34m(split, batch_size, context_length)\u001b[0m\n\u001b[1;32m     24\u001b[0m     epochs \u001b[38;5;241m+\u001b[39m\u001b[38;5;241m=\u001b[39m \u001b[38;5;241m1\u001b[39m\n\u001b[1;32m     25\u001b[0m random_indices \u001b[38;5;241m=\u001b[39m example_idxs[counter:counter\u001b[38;5;241m+\u001b[39mbatch_size] \u001b[38;5;241m*\u001b[39m context_length\n\u001b[0;32m---> 26\u001b[0m random_samples \u001b[38;5;241m=\u001b[39m torch\u001b[38;5;241m.\u001b[39mtensor(np\u001b[38;5;241m.\u001b[39marray([dataset[idx:idx\u001b[38;5;241m+\u001b[39mcontext_length\u001b[38;5;241m+\u001b[39m\u001b[38;5;241m1\u001b[39m] \u001b[38;5;28;01mfor\u001b[39;00m idx \u001b[38;5;129;01min\u001b[39;00m random_indices]))\n\u001b[1;32m     27\u001b[0m xb \u001b[38;5;241m=\u001b[39m random_samples[:, :context_length]\u001b[38;5;241m.\u001b[39mto(device)\n\u001b[1;32m     28\u001b[0m yb \u001b[38;5;241m=\u001b[39m random_samples[:, \u001b[38;5;241m1\u001b[39m:context_length\u001b[38;5;241m+\u001b[39m\u001b[38;5;241m1\u001b[39m]\u001b[38;5;241m.\u001b[39mto(device)\n",
      "Cell \u001b[0;32mIn[4], line 26\u001b[0m, in \u001b[0;36m<listcomp>\u001b[0;34m(.0)\u001b[0m\n\u001b[1;32m     24\u001b[0m     epochs \u001b[38;5;241m+\u001b[39m\u001b[38;5;241m=\u001b[39m \u001b[38;5;241m1\u001b[39m\n\u001b[1;32m     25\u001b[0m random_indices \u001b[38;5;241m=\u001b[39m example_idxs[counter:counter\u001b[38;5;241m+\u001b[39mbatch_size] \u001b[38;5;241m*\u001b[39m context_length\n\u001b[0;32m---> 26\u001b[0m random_samples \u001b[38;5;241m=\u001b[39m torch\u001b[38;5;241m.\u001b[39mtensor(np\u001b[38;5;241m.\u001b[39marray([\u001b[43mdataset\u001b[49m\u001b[43m[\u001b[49m\u001b[43midx\u001b[49m\u001b[43m:\u001b[49m\u001b[43midx\u001b[49m\u001b[38;5;241;43m+\u001b[39;49m\u001b[43mcontext_length\u001b[49m\u001b[38;5;241;43m+\u001b[39;49m\u001b[38;5;241;43m1\u001b[39;49m\u001b[43m]\u001b[49m \u001b[38;5;28;01mfor\u001b[39;00m idx \u001b[38;5;129;01min\u001b[39;00m random_indices]))\n\u001b[1;32m     27\u001b[0m xb \u001b[38;5;241m=\u001b[39m random_samples[:, :context_length]\u001b[38;5;241m.\u001b[39mto(device)\n\u001b[1;32m     28\u001b[0m yb \u001b[38;5;241m=\u001b[39m random_samples[:, \u001b[38;5;241m1\u001b[39m:context_length\u001b[38;5;241m+\u001b[39m\u001b[38;5;241m1\u001b[39m]\u001b[38;5;241m.\u001b[39mto(device)\n",
      "File \u001b[0;32mh5py/_objects.pyx:54\u001b[0m, in \u001b[0;36mh5py._objects.with_phil.wrapper\u001b[0;34m()\u001b[0m\n",
      "File \u001b[0;32mh5py/_objects.pyx:55\u001b[0m, in \u001b[0;36mh5py._objects.with_phil.wrapper\u001b[0;34m()\u001b[0m\n",
      "File \u001b[0;32m~/.pyenv/versions/3.10.10/envs/monosemantic/lib/python3.10/site-packages/h5py/_hl/dataset.py:758\u001b[0m, in \u001b[0;36mDataset.__getitem__\u001b[0;34m(self, args, new_dtype)\u001b[0m\n\u001b[1;32m    756\u001b[0m \u001b[38;5;28;01mif\u001b[39;00m \u001b[38;5;28mself\u001b[39m\u001b[38;5;241m.\u001b[39m_fast_read_ok \u001b[38;5;129;01mand\u001b[39;00m (new_dtype \u001b[38;5;129;01mis\u001b[39;00m \u001b[38;5;28;01mNone\u001b[39;00m):\n\u001b[1;32m    757\u001b[0m     \u001b[38;5;28;01mtry\u001b[39;00m:\n\u001b[0;32m--> 758\u001b[0m         \u001b[38;5;28;01mreturn\u001b[39;00m \u001b[38;5;28;43mself\u001b[39;49m\u001b[38;5;241;43m.\u001b[39;49m\u001b[43m_fast_reader\u001b[49m\u001b[38;5;241;43m.\u001b[39;49m\u001b[43mread\u001b[49m\u001b[43m(\u001b[49m\u001b[43margs\u001b[49m\u001b[43m)\u001b[49m\n\u001b[1;32m    759\u001b[0m     \u001b[38;5;28;01mexcept\u001b[39;00m \u001b[38;5;167;01mTypeError\u001b[39;00m:\n\u001b[1;32m    760\u001b[0m         \u001b[38;5;28;01mpass\u001b[39;00m  \u001b[38;5;66;03m# Fall back to Python read pathway below\u001b[39;00m\n",
      "\u001b[0;31mKeyboardInterrupt\u001b[0m: "
     ]
    }
   ],
   "source": [
    "import matplotlib.pyplot as plt\n",
    "\n",
    "batch_size = 512\n",
    "embedding_iterator = get_embedding_iterator('train', batch_size)\n",
    "\n",
    "def feature_density_histogram(num_samples=16384):\n",
    "    all_outputs = []\n",
    "    for i in tqdm(range(num_samples // batch_size)):\n",
    "        batch = next(embedding_iterator).to(device)\n",
    "        outputs = autoencoder.encode(batch)  # (128, 4096)\n",
    "        all_outputs.append(outputs)\n",
    "    all_outputs = torch.concat(all_outputs)\n",
    "    return all_outputs\n",
    "\n",
    "with torch.no_grad():\n",
    "    activation_densities = feature_density_histogram(16384*10)\n",
    "B, C = activation_densities.shape\n",
    "activation_densities = (activation_densities > 0).to(torch.float32).mean(dim=0)\n",
    "activation_densities = activation_densities[activation_densities > 0]\n",
    "activation_densities = activation_densities.log10().cpu().tolist()\n",
    "print(len(activation_densities)/C)\n",
    "plt.hist(activation_densities, bins=48)\n",
    "plt.show()\n",
    "\n",
    "# We want nearly all features to be below 1% density: \"The number of features with density above 1%. A significant number of features above this level seems to correspond to an L1 coefficient that is too low.\""
   ]
  },
  {
   "cell_type": "code",
   "execution_count": 279,
   "id": "42a0226e-62ca-4c9e-994b-4a217ed4f1dd",
   "metadata": {},
   "outputs": [
    {
     "data": {
      "text/plain": [
       "tensor(42, device='mps:0')"
      ]
     },
     "execution_count": 279,
     "metadata": {},
     "output_type": "execute_result"
    }
   ],
   "source": [
    "(activation_densities > -1).sum()"
   ]
  },
  {
   "cell_type": "code",
   "execution_count": 35,
   "id": "ae8d1711-5692-48c3-a275-ad7691666b20",
   "metadata": {},
   "outputs": [
    {
     "ename": "TypeError",
     "evalue": "'>' not supported between instances of 'list' and 'int'",
     "output_type": "error",
     "traceback": [
      "\u001b[0;31m---------------------------------------------------------------------------\u001b[0m",
      "\u001b[0;31mTypeError\u001b[0m                                 Traceback (most recent call last)",
      "Cell \u001b[0;32mIn[35], line 1\u001b[0m\n\u001b[0;32m----> 1\u001b[0m \u001b[38;5;28mprint\u001b[39m(\u001b[38;5;124mf\u001b[39m\u001b[38;5;124m\"\u001b[39m\u001b[38;5;132;01m{\u001b[39;00m(((\u001b[43mactivation_densities\u001b[49m\u001b[38;5;250;43m \u001b[39;49m\u001b[38;5;241;43m>\u001b[39;49m\u001b[38;5;250;43m \u001b[39;49m\u001b[38;5;241;43m0\u001b[39;49m)\u001b[38;5;241m.\u001b[39mto(torch\u001b[38;5;241m.\u001b[39mfloat32)\u001b[38;5;241m.\u001b[39mmean(dim\u001b[38;5;241m=\u001b[39m\u001b[38;5;241m0\u001b[39m)\u001b[38;5;250m \u001b[39m\u001b[38;5;241m>\u001b[39m\u001b[38;5;250m \u001b[39m\u001b[38;5;241m0\u001b[39m)\u001b[38;5;241m.\u001b[39msum()\u001b[38;5;241m.\u001b[39mitem()\u001b[38;5;250m \u001b[39m\u001b[38;5;241m/\u001b[39m\u001b[38;5;250m \u001b[39m\u001b[38;5;241m4096\u001b[39m\u001b[38;5;250m \u001b[39m\u001b[38;5;241m*\u001b[39m\u001b[38;5;250m \u001b[39m\u001b[38;5;241m100\u001b[39m)\u001b[38;5;132;01m:\u001b[39;00m\u001b[38;5;124m.2f\u001b[39m\u001b[38;5;132;01m}\u001b[39;00m\u001b[38;5;124m%\u001b[39m\u001b[38;5;124m\"\u001b[39m)\n",
      "\u001b[0;31mTypeError\u001b[0m: '>' not supported between instances of 'list' and 'int'"
     ]
    }
   ],
   "source": [
    "print(f\"{(((activation_densities > 0).to(torch.float32).mean(dim=0) > 0).sum().item() / 4096 * 100):.2f}%\")"
   ]
  },
  {
   "cell_type": "code",
   "execution_count": 49,
   "id": "5be05e9d-b61c-468c-bdfc-09580997164f",
   "metadata": {},
   "outputs": [
    {
     "name": "stdout",
     "output_type": "stream",
     "text": [
      "Median:\t56.0\n",
      "Mean:\t55.13\n",
      "Std:\t10.06\n"
     ]
    }
   ],
   "source": [
    "batch_size = 4096\n",
    "embedding_iterator = get_embedding_iterator('data/med_pile_train.h5', batch_size, context_length)\n",
    "x_embedding = next(embedding_iterator).to(device)\n",
    "\n",
    "activation_counts = (autoencoder.encode(x_embedding) > 1e-3 * 1.0).sum(dim=-1).to(torch.float32)\n",
    "print(f\"Median:\\t{activation_counts.median().item()}\\nMean:\\t{activation_counts.mean().item():.2f}\\nStd:\\t{activation_counts.std().item():.2f}\")\n",
    "# median number of hot features per token for each element in the batch, want to be \"less than 10 or 20\" as per paper\n",
    "\n",
    "# \"we generally target a L^0 norm that is less than 10 or 20. We especially distrust solutions where the L^0 norm is a significant fraction of the transformer’s activation dimensionality."
   ]
  },
  {
   "cell_type": "code",
   "execution_count": 50,
   "id": "ff905d34-63c9-4c26-9fc8-75fac2b25409",
   "metadata": {},
   "outputs": [
    {
     "data": {
      "text/plain": [
       "<matplotlib.image.AxesImage at 0x160d26c80>"
      ]
     },
     "execution_count": 50,
     "metadata": {},
     "output_type": "execute_result"
    },
    {
     "data": {
      "image/png": "[encoded data removed]",
      "text/plain": [
       "<Figure size 640x480 with 1 Axes>"
      ]
     },
     "metadata": {},
     "output_type": "display_data"
    }
   ],
   "source": [
    "with torch.no_grad():\n",
    "    out = autoencoder.encode(x_embedding) > 1e-3\n",
    "B, C = out.shape\n",
    "plt.imshow(out.cpu()[:256, :])"
   ]
  },
  {
   "cell_type": "code",
   "execution_count": 101,
   "id": "54afaf7b-1f3a-40f9-bce9-6c79e8ebb5ff",
   "metadata": {},
   "outputs": [
    {
     "name": "stdout",
     "output_type": "stream",
     "text": [
      "[main 653f1b9] best results so far\n",
      " 1 file changed, 2523 insertions(+), 2358 deletions(-)\n",
      "Enumerating objects: 5, done.\n",
      "Counting objects: 100% (5/5), done.\n",
      "Delta compression using up to 11 threads\n",
      "Compressing objects: 100% (3/3), done.\n",
      "Writing objects: 100% (3/3), 69.38 KiB | 8.67 MiB/s, done.\n",
      "Total 3 (delta 2), reused 0 (delta 0), pack-reused 0\n",
      "remote: Resolving deltas: 100% (2/2), completed with 2 local objects.\u001b[K\n",
      "To https://github.com/jnward/monosemanticity-repro.git\n",
      "   536ef8a..653f1b9  main -> main\n"
     ]
    }
   ],
   "source": [
    "!git a && git c 'best results so far' && git push origin main"
   ]
  },
  {
   "cell_type": "code",
   "execution_count": 72,
   "id": "22a4d785-8643-4f6a-b783-e93e25de2cbd",
   "metadata": {},
   "outputs": [
    {
     "name": "stderr",
     "output_type": "stream",
     "text": [
      "100%|███████████████████████████████████████████| 64/64 [00:09<00:00,  6.62it/s]"
     ]
    },
    {
     "name": "stdout",
     "output_type": "stream",
     "text": [
      "4.368075877428055 5.081119492650032 6.628284856677055\n",
      "0.3154768527018684\n"
     ]
    },
    {
     "name": "stderr",
     "output_type": "stream",
     "text": [
      "\n"
     ]
    }
   ],
   "source": [
    "# batch_iterator = get_batch_iterator('data/med_pile_train.h5', 32, 128, device=device)\n",
    "# xb, yb = next(batch_iterator)\n",
    "# print(xb.shape)\n",
    "\n",
    "with torch.no_grad():\n",
    "    t_losses = []\n",
    "    a_losses = []\n",
    "    z_losses = []\n",
    "    for _ in tqdm(range(64)):\n",
    "        xb, yb = next(batch_iterator)\n",
    "        t_logits, t_loss = model(xb, yb)\n",
    "        a_logits, a_loss = model.forward_ablated(xb, autoencoder, yb)\n",
    "        z_logits, z_loss = model.forward_ablated(xb, lambda x: (torch.zeros_like(x).to(device), 0, 0), yb)\n",
    "        t_losses.append(t_loss.item())\n",
    "        a_losses.append(a_loss.item())\n",
    "        z_losses.append(z_loss.item())\n",
    "\n",
    "t_loss = np.mean(t_losses)\n",
    "a_loss = np.mean(a_losses)\n",
    "z_loss = np.mean(z_losses)\n",
    "print(t_loss, a_loss, z_loss)\n",
    "print(1 - (z_loss - a_loss)/(z_loss - t_loss))"
   ]
  },
  {
   "cell_type": "code",
   "execution_count": 74,
   "id": "ff0288d4-e7af-4b47-a671-8b0ec41c2a9d",
   "metadata": {},
   "outputs": [
    {
     "name": "stdout",
     "output_type": "stream",
     "text": [
      "torch.Size([32, 128, 1024]) torch.Size([32, 128])\n"
     ]
    }
   ],
   "source": [
    "def get_features(x):\n",
    "    embedding, _ = model.forward_embedding(x)\n",
    "    features = autoencoder.encode(embedding)\n",
    "    return features\n",
    "\n",
    "features = get_features(xb)\n",
    "\n",
    "print(features.shape, xb.shape)"
   ]
  },
  {
   "cell_type": "markdown",
   "id": "8028ef3c-bc33-4781-8954-9a9f3fc2a399",
   "metadata": {},
   "source": [
    "### Autoencoder features"
   ]
  },
  {
   "cell_type": "code",
   "execution_count": 54,
   "id": "25db30f9-ab4b-46db-88cd-c237a9806165",
   "metadata": {},
   "outputs": [
    {
     "name": "stderr",
     "output_type": "stream",
     "text": [
      "100%|█████████████████████████████████████| 16000/16000 [07:48<00:00, 34.19it/s]\n"
     ]
    }
   ],
   "source": [
    "threashold = 1e-5\n",
    "\n",
    "num_iters = 16000\n",
    "batch_size = 16\n",
    "samples_per_row = 4\n",
    "\n",
    "batch_iterator = get_batch_iterator(train_path, batch_size, 128, device=device)\n",
    "\n",
    "def explore_features(forward_func, n_feats=512):\n",
    "    feature_dict = {i: [0, []] for i in range(n_feats)}\n",
    "    context_list = []\n",
    "    for _ in tqdm(range(num_iters)):\n",
    "        xb, _ = next(batch_iterator)\n",
    "        with torch.no_grad():\n",
    "            features = forward_func(xb)\n",
    "        features = features.cpu()\n",
    "        # print(features)\n",
    "        for i, row in enumerate(xb):  # iterate thru rows in a batch\n",
    "            # for j in range(row.shape[0]):  # iterate thru tokens in a row\n",
    "            for j in np.random.choice(row.shape[0], samples_per_row, replace=False):  #torch.randint(row.shape[0], (samples_per_row,), replact=False):\n",
    "                token = row[j]\n",
    "                context = row[max(j-4, 0):j+5]\n",
    "                context_list.append((token.item(), context.tolist()))\n",
    "                context_idx = len(context_list) - 1\n",
    "                \n",
    "                feature_vec = features[i, j]\n",
    "                # print(feature_vec.shape)\n",
    "                activation_idxs = (feature_vec > threashold).nonzero()\n",
    "                # print(activation_idxs.shape)\n",
    "                # print(activation_idxs)\n",
    "    \n",
    "                for a_idx in activation_idxs:\n",
    "                    a_idx = a_idx[0].item()\n",
    "                    feature_dict[a_idx][0] += 1\n",
    "                    if feature_dict[a_idx][0] < 512:\n",
    "                        feature_dict[a_idx][1].append((context_idx, feature_vec[a_idx].item()))\n",
    "    return feature_dict, context_list\n",
    "\n",
    "a_feature_dict, a_context_list = explore_features(get_features, n_feats=1024)\n",
    "# t_feature_dict, t_context_list = explore_features(lambda x: model.forward_embedding(x)[0])"
   ]
  },
  {
   "cell_type": "code",
   "execution_count": 77,
   "id": "a3ebb4c3-5f5e-4440-92bd-91e8f2b8c14e",
   "metadata": {},
   "outputs": [],
   "source": [
    "# sorted_dict = sorted(feature_dict.items(), key = lambda x: x[1][0] if 2000 > x[1][0] >= 4 else 0, reverse=True)\n",
    "def print_features(feat_dict, ctx_list):\n",
    "    sorted_dict = list(feat_dict.items())\n",
    "    a = 0\n",
    "    # for feat_idx, info in feature_dict.items():\n",
    "    for feat_idx, info in sorted_dict[32:64]:\n",
    "        count = info[0]\n",
    "        if count < 100:\n",
    "            continue\n",
    "        ctxs = sorted(info[1], key=lambda x: x[1], reverse=True)\n",
    "        ctxs = [ctx for ctx in ctxs if ctx[1] > 0]\n",
    "        # ctxs = info[1]\n",
    "        print(f\"Feature idx:\\t{feat_idx}\\nCount:\\t\\t{count}\")\n",
    "        for context_idx, feature_activation in ctxs[:10]:\n",
    "            token_idx = ctx_list[context_idx][0]\n",
    "            token = enc.decode([token_idx])\n",
    "            context = enc.decode(ctx_list[context_idx][1])\n",
    "            print(f'  Token: {repr(token)}\\n  Token Index: {token_idx}\\n  Context: {repr(context)}\\n  Activation: {feature_activation:.3f}')\n",
    "            print()"
   ]
  },
  {
   "cell_type": "code",
   "execution_count": 78,
   "id": "436f95b2-2e3f-438a-bb75-ccc4d5fcdcbf",
   "metadata": {},
   "outputs": [
    {
     "name": "stdout",
     "output_type": "stream",
     "text": [
      "Feature idx:\t33\n",
      "Count:\t\t19916\n",
      "  Token: '.'\n",
      "  Token Index: 13\n",
      "  Context: ';\\n  doc.fromHTML(content'\n",
      "  Activation: 2.148\n",
      "\n",
      "  Token: '.'\n",
      "  Token Index: 13\n",
      "  Context: ' = helpers.each.call(alias1'\n",
      "  Activation: 2.145\n",
      "\n",
      "  Token: '.'\n",
      "  Token Index: 13\n",
      "  Context: '    this.update = function('\n",
      "  Activation: 2.138\n",
      "\n",
      "  Token: '.'\n",
      "  Token Index: 13\n",
      "  Context: '  factoryBean.afterPropertiesSet'\n",
      "  Activation: 2.078\n",
      "\n",
      "  Token: '.'\n",
      "  Token Index: 13\n",
      "  Context: 'core.encoder.LayoutWrappingEnc'\n",
      "  Activation: 2.073\n",
      "\n",
      "  Token: '.'\n",
      "  Token Index: 13\n",
      "  Context: 'perties.UpgradeDescription.HealthPolicy.Max'\n",
      "  Activation: 2.044\n",
      "\n",
      "  Token: '.'\n",
      "  Token Index: 13\n",
      "  Context: 'Exception(LinkStatus.ERROR_PLUG'\n",
      "  Activation: 2.039\n",
      "\n",
      "  Token: '.'\n",
      "  Token Index: 13\n",
      "  Context: ' \"k8s.io/kuber'\n",
      "  Activation: 2.039\n",
      "\n",
      "  Token: '.'\n",
      "  Token Index: 13\n",
      "  Context: ' AND production_role.role_ID ='\n",
      "  Activation: 2.035\n",
      "\n",
      "  Token: '.'\n",
      "  Token Index: 13\n",
      "  Context: ' + POSTendpoints.login, data:'\n",
      "  Activation: 1.990\n",
      "\n",
      "Feature idx:\t36\n",
      "Count:\t\t247761\n",
      "  Token: 'ional'\n",
      "  Token Index: 1538\n",
      "  Context: 'iencia Nacional contra Puigdem'\n",
      "  Activation: 1.890\n",
      "\n",
      "  Token: ' Roman'\n",
      "  Token Index: 7993\n",
      "  Context: 'ricts\" or Roman provinces located \"round'\n",
      "  Activation: 1.789\n",
      "\n",
      "  Token: ' killer'\n",
      "  Token Index: 11868\n",
      "  Context: ' our \"always\" killer beer list. Friday'\n",
      "  Activation: 1.657\n",
      "\n",
      "  Token: 'kiss'\n",
      "  Token Index: 41304\n",
      "  Context: '    \"kiss carry display unusual confirm'\n",
      "  Activation: 1.606\n",
      "\n",
      "  Token: 'ican'\n",
      "  Token Index: 7490\n",
      "  Context: '\" or \"Mexican Town\"). The lyric'\n",
      "  Activation: 1.561\n",
      "\n",
      "  Token: 'ão'\n",
      "  Token Index: 28749\n",
      "  Context: 'ome é Capitão Ojas e\\n'\n",
      "  Activation: 1.443\n",
      "\n",
      "  Token: 'ap'\n",
      "  Token Index: 499\n",
      "  Context: 'ajax.googleapis.com/'\n",
      "  Activation: 1.417\n",
      "\n",
      "  Token: 'ted'\n",
      "  Token Index: 1513\n",
      "  Context: 'au loves being petted, and when she'\n",
      "  Activation: 1.365\n",
      "\n",
      "  Token: 'ada'\n",
      "  Token Index: 4763\n",
      "  Context: 'orden enviada por la Audien'\n",
      "  Activation: 1.338\n",
      "\n",
      "  Token: ' B'\n",
      "  Token Index: 347\n",
      "  Context: 'cido de que Bélgica'\n",
      "  Activation: 1.303\n",
      "\n",
      "Feature idx:\t37\n",
      "Count:\t\t293080\n",
      "  Token: ' can'\n",
      "  Token Index: 460\n",
      "  Context: ' no GMF model can fit in a satisfactory'\n",
      "  Activation: 1.744\n",
      "\n",
      "  Token: '{'\n",
      "  Token Index: 90\n",
      "  Context: '\" },\\n\\t{ 0x063'\n",
      "  Activation: 1.553\n",
      "\n",
      "  Token: ' to'\n",
      "  Token Index: 284\n",
      "  Context: ' it is not possible to look into a man'\n",
      "  Activation: 1.498\n",
      "\n",
      "  Token: '\\t'\n",
      "  Token Index: 197\n",
      "  Context: 'ches) {\\n\\t\\t$item ='\n",
      "  Activation: 1.425\n",
      "\n",
      "  Token: ' would'\n",
      "  Token Index: 561\n",
      "  Context: ' 2/13th would not be expected to'\n",
      "  Activation: 1.424\n",
      "\n",
      "  Token: '();'\n",
      "  Token Index: 9783\n",
      "  Context: ' address.getNumber();\\n   '\n",
      "  Activation: 1.330\n",
      "\n",
      "  Token: ' '\n",
      "  Token Index: 220\n",
      "  Context: '?error\")\\n     '\n",
      "  Activation: 1.304\n",
      "\n",
      "  Token: '();'\n",
      "  Token Index: 9783\n",
      "  Context: ' session.rollback();\\n   '\n",
      "  Activation: 1.301\n",
      "\n",
      "  Token: ' be'\n",
      "  Token Index: 307\n",
      "  Context: ' the first prototype can be re-used with'\n",
      "  Activation: 1.276\n",
      "\n",
      "  Token: '\\t'\n",
      "  Token Index: 197\n",
      "  Context: '\\\\n\");\\n\\t\\treturn -E'\n",
      "  Activation: 1.267\n",
      "\n",
      "Feature idx:\t39\n",
      "Count:\t\t190481\n",
      "  Token: ' matter'\n",
      "  Token Index: 2300\n",
      "  Context: '. I have a matter of three million sterling'\n",
      "  Activation: 1.948\n",
      "\n",
      "  Token: ' interview'\n",
      "  Token Index: 2720\n",
      "  Context: '” in an interview.\\n\\nWhile'\n",
      "  Activation: 1.938\n",
      "\n",
      "  Token: ' society'\n",
      "  Token Index: 3592\n",
      "  Context: ' meritocracy, a society in which access to'\n",
      "  Activation: 1.896\n",
      "\n",
      "  Token: ' agency'\n",
      "  Token Index: 4086\n",
      "  Context: ' the conclusion that the agency\\n\\ndoes not'\n",
      "  Activation: 1.837\n",
      "\n",
      "  Token: ' goal'\n",
      "  Token Index: 3061\n",
      "  Context: ' produced a brilliant opening goal for the visitors four'\n",
      "  Activation: 1.791\n",
      "\n",
      "  Token: ' story'\n",
      "  Token Index: 1621\n",
      "  Context: ' a rare positive news story from Afghanistan last month'\n",
      "  Activation: 1.788\n",
      "\n",
      "  Token: ' nature'\n",
      "  Token Index: 3450\n",
      "  Context: ' fell, but the nature'\n",
      "  Activation: 1.724\n",
      "\n",
      "  Token: ' complaint'\n",
      "  Token Index: 8224\n",
      "  Context: ' week later, the complaint alleges, state party'\n",
      "  Activation: 1.692\n",
      "\n",
      "  Token: ' affair'\n",
      "  Token Index: 14669\n",
      "  Context: ' extremely secretive about the affair, but the understanding'\n",
      "  Activation: 1.660\n",
      "\n",
      "  Token: ' evidence'\n",
      "  Token Index: 2370\n",
      "  Context: ' expert closely reviewing the evidence and reaching a different'\n",
      "  Activation: 1.652\n",
      "\n",
      "Feature idx:\t40\n",
      "Count:\t\t104586\n",
      "  Token: '30'\n",
      "  Token Index: 1270\n",
      "  Context: ' and o.\\n30\\nSuppose 4'\n",
      "  Activation: 2.428\n",
      "\n",
      "  Token: '6'\n",
      "  Token Index: 21\n",
      "  Context: '\\n2/(-6) + (48'\n",
      "  Activation: 2.378\n",
      "\n",
      "  Token: '4'\n",
      "  Token Index: 19\n",
      "  Context: ' -10).\\n4\\nEvaluate'\n",
      "  Activation: 2.185\n",
      "\n",
      "  Token: ' 4'\n",
      "  Token Index: 604\n",
      "  Context: '5 + 8 - 4 - 4*s'\n",
      "  Activation: 2.144\n",
      "\n",
      "  Token: '72'\n",
      "  Token Index: 4761\n",
      "  Context: ' what is bc972 + -7?'\n",
      "  Activation: 1.815\n",
      "\n",
      "  Token: ' 23'\n",
      "  Token Index: 2242\n",
      "  Context: ' = -s - 23. Let t be'\n",
      "  Activation: 1.807\n",
      "\n",
      "  Token: ' 2'\n",
      "  Token Index: 362\n",
      "  Context: ' m a multiple of 2?\\nTrue\\n'\n",
      "  Activation: 1.783\n",
      "\n",
      "  Token: '6'\n",
      "  Token Index: 21\n",
      "  Context: 'ly chosen) IPv6 address from the range'\n",
      "  Activation: 1.711\n",
      "\n",
      "  Token: '9'\n",
      "  Token Index: 24\n",
      "  Context: ' + 40176.9'\n",
      "  Activation: 1.666\n",
      "\n",
      "  Token: ' 17'\n",
      "  Token Index: 1596\n",
      "  Context: '). Let o = 1784/3 -'\n",
      "  Activation: 1.612\n",
      "\n",
      "Feature idx:\t41\n",
      "Count:\t\t238447\n",
      "  Token: '(-'\n",
      "  Token Index: 32590\n",
      "  Context: '-4116)/(-2744))/('\n",
      "  Activation: 1.414\n",
      "\n",
      "  Token: ' prime'\n",
      "  Token Index: 6994\n",
      "  Context: ' s(11) prime?\\nFalse\\n'\n",
      "  Activation: 1.366\n",
      "\n",
      "  Token: '-'\n",
      "  Token Index: 12\n",
      "  Context: '6950525E-'\n",
      "  Activation: 1.341\n",
      "\n",
      "  Token: '-'\n",
      "  Token Index: 12\n",
      "  Context: '018-0365-y) [****'\n",
      "  Activation: 1.322\n",
      "\n",
      "  Token: ' the'\n",
      "  Token Index: 262\n",
      "  Context: 'oselective in the presence of competitive C'\n",
      "  Activation: 1.273\n",
      "\n",
      "  Token: ' 1'\n",
      "  Token Index: 352\n",
      "  Context: ' + (-7 - 1)\\n-11'\n",
      "  Activation: 1.262\n",
      "\n",
      "  Token: ' 23'\n",
      "  Token Index: 2242\n",
      "  Context: ' = -s - 23. Let t be'\n",
      "  Activation: 1.249\n",
      "\n",
      "  Token: ' the'\n",
      "  Token Index: 262\n",
      "  Context: 'uzheng injection in the neoadjuvant'\n",
      "  Activation: 1.198\n",
      "\n",
      "  Token: ' the'\n",
      "  Token Index: 262\n",
      "  Context: 'the standard deviation of the 28-day daily'\n",
      "  Activation: 1.189\n",
      "\n",
      "  Token: ']'\n",
      "  Token Index: 60\n",
      "  Context: '05-02502]\\\\]. In the'\n",
      "  Activation: 1.126\n",
      "\n",
      "Feature idx:\t42\n",
      "Count:\t\t7819\n",
      "  Token: '-'\n",
      "  Token Index: 12\n",
      "  Context: ' + 10314/(-8). Let w'\n",
      "  Activation: 1.937\n",
      "\n",
      "  Token: '-'\n",
      "  Token Index: 12\n",
      "  Context: '/3)/((-3)/9).'\n",
      "  Activation: 1.916\n",
      "\n",
      "  Token: '-'\n",
      "  Token Index: 12\n",
      "  Context: '(4).\\n-37\\nLet n'\n",
      "  Activation: 1.891\n",
      "\n",
      "  Token: '-'\n",
      "  Token Index: 12\n",
      "  Context: 't j?\\n-2866313'\n",
      "  Activation: 1.860\n",
      "\n",
      "  Token: '-'\n",
      "  Token Index: 12\n",
      "  Context: '(m)?\\n-m + 1\\n'\n",
      "  Activation: 1.779\n",
      "\n",
      "  Token: '-'\n",
      "  Token Index: 12\n",
      "  Context: '\\nWhat is ((-3)/((-'\n",
      "  Activation: 1.719\n",
      "\n",
      "  Token: '-'\n",
      "  Token Index: 12\n",
      "  Context: ' for m.\\n-5\\nSolve'\n",
      "  Activation: 1.686\n",
      "\n",
      "  Token: '-'\n",
      "  Token Index: 12\n",
      "  Context: 'n. Is ((-54)/n)/'\n",
      "  Activation: 1.672\n",
      "\n",
      "  Token: '-'\n",
      "  Token Index: 12\n",
      "  Context: ' for u.\\n-2\\nSolve'\n",
      "  Activation: 1.647\n",
      "\n",
      "  Token: '-'\n",
      "  Token Index: 12\n",
      "  Context: '(m).\\n-m + 1\\n'\n",
      "  Activation: 1.579\n",
      "\n",
      "Feature idx:\t43\n",
      "Count:\t\t109915\n",
      "  Token: ' 85'\n",
      "  Token Index: 7600\n",
      "  Context: ' age 60 (or 85) of the exposed'\n",
      "  Activation: 2.618\n",
      "\n",
      "  Token: '\\xa0'\n",
      "  Token Index: 1849\n",
      "  Context: ' perfusion within 24\\xa0h of surgery \\\\'\n",
      "  Activation: 2.561\n",
      "\n",
      "  Token: ' cells'\n",
      "  Token Index: 4778\n",
      "  Context: ' changed in S1 cells. These data indicated'\n",
      "  Activation: 2.191\n",
      "\n",
      "  Token: ' acute'\n",
      "  Token Index: 14352\n",
      "  Context: ' a promising efficacy against acute and chronic inflammation.'\n",
      "  Activation: 2.092\n",
      "\n",
      "  Token: ' with'\n",
      "  Token Index: 351\n",
      "  Context: ', then incubated with 10 μM of'\n",
      "  Activation: 1.988\n",
      "\n",
      "  Token: ' with'\n",
      "  Token Index: 351\n",
      "  Context: ' in cell viability, with the most effective PC'\n",
      "  Activation: 1.942\n",
      "\n",
      "  Token: '%'\n",
      "  Token Index: 4\n",
      "  Context: '5 years; 95% CI 5.7'\n",
      "  Activation: 1.934\n",
      "\n",
      "  Token: ' increase'\n",
      "  Token Index: 2620\n",
      "  Context: ' a seven-fold increase in insulin-like'\n",
      "  Activation: 1.841\n",
      "\n",
      "  Token: ' 16'\n",
      "  Token Index: 1467\n",
      "  Context: 'IVEcontrol patients and 16 HIVE in the'\n",
      "  Activation: 1.824\n",
      "\n",
      "  Token: ' of'\n",
      "  Token Index: 286\n",
      "  Context: ', the early treatment of VADAns'\n",
      "  Activation: 1.789\n",
      "\n",
      "Feature idx:\t44\n",
      "Count:\t\t189613\n",
      "  Token: ' through'\n",
      "  Token Index: 832\n",
      "  Context: ' a loving look back through our favorite video games'\n",
      "  Activation: 2.402\n",
      "\n",
      "  Token: ' for'\n",
      "  Token Index: 329\n",
      "  Context: ' what you are looking for.\\nFinding cart'\n",
      "  Activation: 2.175\n",
      "\n",
      "  Token: ' see'\n",
      "  Token Index: 766\n",
      "  Context: \" I'll let you see,\\nand that\"\n",
      "  Activation: 2.014\n",
      "\n",
      "  Token: ' make'\n",
      "  Token Index: 787\n",
      "  Context: ' If you need to make some improvements in your'\n",
      "  Activation: 2.009\n",
      "\n",
      "  Token: ' satisfied'\n",
      "  Token Index: 11378\n",
      "  Context: ' king. I am satisfied. But suppose we'\n",
      "  Activation: 1.968\n",
      "\n",
      "  Token: ' creating'\n",
      "  Token Index: 4441\n",
      "  Context: ' result since you are creating the OrderedD'\n",
      "  Activation: 1.886\n",
      "\n",
      "  Token: ' judged'\n",
      "  Token Index: 19589\n",
      "  Context: ' your manuscript has been judged scientifically suitable for publication'\n",
      "  Activation: 1.855\n",
      "\n",
      "  Token: ' allows'\n",
      "  Token Index: 3578\n",
      "  Context: 'ying refurbished phones allows you to buy'\n",
      "  Activation: 1.787\n",
      "\n",
      "  Token: ' invalid'\n",
      "  Token Index: 12515\n",
      "  Context: ' address Email address is invalid Fill out this field'\n",
      "  Activation: 1.764\n",
      "\n",
      "  Token: ' sketch'\n",
      "  Token Index: 17548\n",
      "  Context: ' the format more: sketchy/expressive'\n",
      "  Activation: 1.712\n",
      "\n",
      "Feature idx:\t46\n",
      "Count:\t\t177268\n",
      "  Token: '-'\n",
      "  Token Index: 12\n",
      "  Context: ' Warsaw to a then-popular summer vacation village'\n",
      "  Activation: 1.767\n",
      "\n",
      "  Token: '-'\n",
      "  Token Index: 12\n",
      "  Context: ' a doctrine that C-Net chooses to ignore'\n",
      "  Activation: 1.505\n",
      "\n",
      "  Token: '-'\n",
      "  Token Index: 12\n",
      "  Context: ' script, when He-Man deflects Ske'\n",
      "  Activation: 1.487\n",
      "\n",
      "  Token: '-'\n",
      "  Token Index: 12\n",
      "  Context: 'DOW-is-um). A system'\n",
      "  Activation: 1.479\n",
      "\n",
      "  Token: ' College'\n",
      "  Token Index: 5535\n",
      "  Context: \" concept of the Electoral College.'\\n\\nSup\"\n",
      "  Activation: 1.448\n",
      "\n",
      "  Token: '-'\n",
      "  Token Index: 12\n",
      "  Context: ' outside of this one-time\\n  '\n",
      "  Activation: 1.431\n",
      "\n",
      "  Token: ' conversion'\n",
      "  Token Index: 11315\n",
      "  Context: ' responsibility for your own conversion. No one can'\n",
      "  Activation: 1.407\n",
      "\n",
      "  Token: ' head'\n",
      "  Token Index: 1182\n",
      "  Context: 'uki in the village headman’s'\n",
      "  Activation: 1.376\n",
      "\n",
      "  Token: '-'\n",
      "  Token Index: 12\n",
      "  Context: ' messages all-in-one). Last year'\n",
      "  Activation: 1.364\n",
      "\n",
      "  Token: '-'\n",
      "  Token Index: 12\n",
      "  Context: ' partial preservation of goal-maintenance capacities in'\n",
      "  Activation: 1.325\n",
      "\n",
      "Feature idx:\t48\n",
      "Count:\t\t18129\n",
      "  Token: ' 0'\n",
      "  Token Index: 657\n",
      "  Context: ' daddr0: 0x%08x'\n",
      "  Activation: 2.384\n",
      "\n",
      "  Token: ' 0'\n",
      "  Token Index: 657\n",
      "  Context: 'from_index < 0) {\\n\\t'\n",
      "  Activation: 2.241\n",
      "\n",
      "  Token: ' 0'\n",
      "  Token Index: 657\n",
      "  Context: ' 0x04, 0x00010000 },'\n",
      "  Activation: 2.114\n",
      "\n",
      "  Token: ' 0'\n",
      "  Token Index: 657\n",
      "  Context: 'b0U, 0x172e72'\n",
      "  Activation: 1.900\n",
      "\n",
      "  Token: ' 0'\n",
      "  Token Index: 657\n",
      "  Context: 'elta_repeat = 0.0f;'\n",
      "  Activation: 1.854\n",
      "\n",
      "  Token: ' 0'\n",
      "  Token Index: 657\n",
      "  Context: 'if (skip < 0)\\r\\n\\t'\n",
      "  Activation: 1.805\n",
      "\n",
      "  Token: ' 0'\n",
      "  Token Index: 657\n",
      "  Context: '    = 0x5\\n\\t'\n",
      "  Activation: 1.784\n",
      "\n",
      "  Token: ' 0'\n",
      "  Token Index: 657\n",
      "  Context: ' shr_0 = 0 >> 0; //'\n",
      "  Activation: 1.773\n",
      "\n",
      "  Token: ' 0'\n",
      "  Token Index: 657\n",
      "  Context: '    = 0x35\\n\\t'\n",
      "  Activation: 1.768\n",
      "\n",
      "  Token: ' 0'\n",
      "  Token Index: 657\n",
      "  Context: 'ms-flex: 0 0 100%;\\n'\n",
      "  Activation: 1.754\n",
      "\n",
      "Feature idx:\t50\n",
      "Count:\t\t194712\n",
      "  Token: ' imposed'\n",
      "  Token Index: 10893\n",
      "  Context: '200 in court costs imposed. As such,'\n",
      "  Activation: 3.219\n",
      "\n",
      "  Token: ' liability'\n",
      "  Token Index: 12247\n",
      "  Context: ' defendant’s liability. Id. Foot'\n",
      "  Activation: 3.049\n",
      "\n",
      "  Token: ' agreed'\n",
      "  Token Index: 4987\n",
      "  Context: ' rejected this and ultimately agreed to a plea bargain'\n",
      "  Activation: 3.011\n",
      "\n",
      "  Token: ' seeking'\n",
      "  Token Index: 6095\n",
      "  Context: ' with the trial court seeking,'\n",
      "  Activation: 2.566\n",
      "\n",
      "  Token: ' support'\n",
      "  Token Index: 1104\n",
      "  Context: '. 2004), as support for its decision.'\n",
      "  Activation: 2.550\n",
      "\n",
      "  Token: ' granted'\n",
      "  Token Index: 7520\n",
      "  Context: '\\n\\n\\nPetition granted and remanded by'\n",
      "  Activation: 2.297\n",
      "\n",
      "  Token: ' received'\n",
      "  Token Index: 2722\n",
      "  Context: ' Gulfstream G650 received its provisional type certificate'\n",
      "  Activation: 2.218\n",
      "\n",
      "  Token: ' complaints'\n",
      "  Token Index: 9687\n",
      "  Context: '-recovery complaints is that'\n",
      "  Activation: 2.167\n",
      "\n",
      "  Token: ' that'\n",
      "  Token Index: 326\n",
      "  Context: '. CMS further argues that subsequent to November 2'\n",
      "  Activation: 2.043\n",
      "\n",
      "  Token: ' to'\n",
      "  Token Index: 284\n",
      "  Context: '; and made restitution to the Shehorns'\n",
      "  Activation: 1.973\n",
      "\n",
      "Feature idx:\t51\n",
      "Count:\t\t11794\n",
      "  Token: '.'\n",
      "  Token Index: 13\n",
      "  Context: '    0.0402  '\n",
      "  Activation: 2.922\n",
      "\n",
      "  Token: '.'\n",
      "  Token Index: 13\n",
      "  Context: '\\n   0.347399;'\n",
      "  Activation: 2.728\n",
      "\n",
      "  Token: '.'\n",
      "  Token Index: 13\n",
      "  Context: '    0.7411  '\n",
      "  Activation: 2.717\n",
      "\n",
      "  Token: '.'\n",
      "  Token Index: 13\n",
      "  Context: ' (d) 0.039  ('\n",
      "  Activation: 2.641\n",
      "\n",
      "  Token: '.'\n",
      "  Token Index: 13\n",
      "  Context: '   **0.78**  '\n",
      "  Activation: 2.558\n",
      "\n",
      "  Token: '.'\n",
      "  Token Index: 13\n",
      "  Context: '63 \\\\pm 0.48$  '\n",
      "  Activation: 2.533\n",
      "\n",
      "  Token: '.'\n",
      "  Token Index: 13\n",
      "  Context: '    0.4   '\n",
      "  Activation: 2.528\n",
      "\n",
      "  Token: '.'\n",
      "  Token Index: 13\n",
      "  Context: '237   22.77 ± 7.'\n",
      "  Activation: 2.507\n",
      "\n",
      "  Token: '.'\n",
      "  Token Index: 13\n",
      "  Context: '002   0.998   0'\n",
      "  Activation: 2.492\n",
      "\n",
      "  Token: '.'\n",
      "  Token Index: 13\n",
      "  Context: '864304;0.130967;'\n",
      "  Activation: 2.491\n",
      "\n",
      "Feature idx:\t53\n",
      "Count:\t\t12921\n",
      "  Token: ' Let'\n",
      "  Token Index: 3914\n",
      "  Context: '19 - 0. Let l = 18.'\n",
      "  Activation: 3.376\n",
      "\n",
      "  Token: ' Let'\n",
      "  Token Index: 3914\n",
      "  Context: 'k - 6. Let p = 76 +'\n",
      "  Activation: 3.305\n",
      "\n",
      "  Token: ' Let'\n",
      "  Token Index: 3914\n",
      "  Context: ' 16*s. Let d(f)'\n",
      "  Activation: 3.301\n",
      "\n",
      "  Token: ' Let'\n",
      "  Token Index: 3914\n",
      "  Context: 'p - 5. Let f = -6'\n",
      "  Activation: 3.293\n",
      "\n",
      "  Token: 'Let'\n",
      "  Token Index: 5756\n",
      "  Context: '?\\n5\\nLet h(s)'\n",
      "  Activation: 3.180\n",
      "\n",
      "  Token: ' Let'\n",
      "  Token Index: 3914\n",
      "  Context: 'v + 3. Let b be n('\n",
      "  Activation: 3.147\n",
      "\n",
      "  Token: ' Let'\n",
      "  Token Index: 3914\n",
      "  Context: ' 9 = 0. Let w be (4'\n",
      "  Activation: 3.063\n",
      "\n",
      "  Token: 'Let'\n",
      "  Token Index: 5756\n",
      "  Context: '?\\nk\\nLet q = 20392'\n",
      "  Activation: 3.012\n",
      "\n",
      "  Token: ' Let'\n",
      "  Token Index: 3914\n",
      "  Context: ' 21 = 0. Let b be w('\n",
      "  Activation: 2.962\n",
      "\n",
      "  Token: 'Let'\n",
      "  Token Index: 5756\n",
      "  Context: '3/5\\nLet c = -22'\n",
      "  Activation: 2.863\n",
      "\n",
      "Feature idx:\t54\n",
      "Count:\t\t123053\n",
      "  Token: 'LG'\n",
      "  Token Index: 41257\n",
      "  Context: ' at the Li/LGPS interface according to'\n",
      "  Activation: 2.896\n",
      "\n",
      "  Token: ' GH'\n",
      "  Token Index: 24739\n",
      "  Context: ' the potential to engineer GH99 α-mann'\n",
      "  Activation: 2.844\n",
      "\n",
      "  Token: 'SD'\n",
      "  Token Index: 10305\n",
      "  Context: '.6M DSD quality. The H'\n",
      "  Activation: 2.504\n",
      "\n",
      "  Token: ' V'\n",
      "  Token Index: 569\n",
      "  Context: ' Gulfstream raised the V2 speed of the'\n",
      "  Activation: 2.500\n",
      "\n",
      "  Token: ' X'\n",
      "  Token Index: 1395\n",
      "  Context: ' of independent variables as X1= +0'\n",
      "  Activation: 2.458\n",
      "\n",
      "  Token: ' H'\n",
      "  Token Index: 367\n",
      "  Context: ' tendency of pasteurized HSA \\\\[[@'\n",
      "  Activation: 2.378\n",
      "\n",
      "  Token: '1'\n",
      "  Token Index: 16\n",
      "  Context: ' excitation from C1 to C2 ($'\n",
      "  Activation: 2.300\n",
      "\n",
      "  Token: ' Q'\n",
      "  Token Index: 1195\n",
      "  Context: ' microscope and LEICA QWin Plus (Le'\n",
      "  Activation: 2.244\n",
      "\n",
      "  Token: ' P'\n",
      "  Token Index: 350\n",
      "  Context: ' achieved a markedly higher PFS (8.'\n",
      "  Activation: 2.235\n",
      "\n",
      "  Token: ' CH'\n",
      "  Token Index: 5870\n",
      "  Context: ' BBU14 and CHI13.<|endoftext|>'\n",
      "  Activation: 2.172\n",
      "\n",
      "Feature idx:\t55\n",
      "Count:\t\t230316\n",
      "  Token: ' talent'\n",
      "  Token Index: 7401\n",
      "  Context: ' got a lot of talent on both sides of'\n",
      "  Activation: 1.985\n",
      "\n",
      "  Token: ' classrooms'\n",
      "  Token Index: 32579\n",
      "  Context: ' build farms and cooking classrooms. Frerick received'\n",
      "  Activation: 1.983\n",
      "\n",
      "  Token: ' pill'\n",
      "  Token Index: 9582\n",
      "  Context: 'face masks, nasal pillows, nasal p'\n",
      "  Activation: 1.946\n",
      "\n",
      "  Token: ' their'\n",
      "  Token Index: 511\n",
      "  Context: ' page to better reflect their contributions to Ubuntu\\n'\n",
      "  Activation: 1.942\n",
      "\n",
      "  Token: ' properly'\n",
      "  Token Index: 6105\n",
      "  Context: ' help your children develop properly and grow through hands'\n",
      "  Activation: 1.871\n",
      "\n",
      "  Token: ' children'\n",
      "  Token Index: 1751\n",
      "  Context: ' additional support to their children. TLC Kids'\n",
      "  Activation: 1.852\n",
      "\n",
      "  Token: ' NASA'\n",
      "  Token Index: 8884\n",
      "  Context: ' future of one of NASA’s Mars'\n",
      "  Activation: 1.737\n",
      "\n",
      "  Token: ' killer'\n",
      "  Token Index: 11868\n",
      "  Context: ' our \"always\" killer beer list. Friday'\n",
      "  Activation: 1.734\n",
      "\n",
      "  Token: ' business'\n",
      "  Token Index: 1597\n",
      "  Context: ' seeds of doubt on business managers about the wisdom'\n",
      "  Activation: 1.697\n",
      "\n",
      "  Token: ' your'\n",
      "  Token Index: 534\n",
      "  Context: ' the perfect gateway to your undersea adventure.'\n",
      "  Activation: 1.666\n",
      "\n",
      "Feature idx:\t56\n",
      "Count:\t\t43923\n",
      "  Token: ' '\n",
      "  Token Index: 220\n",
      "  Context: '         '\n",
      "  Activation: 1.561\n",
      "\n",
      "  Token: ' '\n",
      "  Token Index: 220\n",
      "  Context: '         The'\n",
      "  Activation: 1.540\n",
      "\n",
      "  Token: ' '\n",
      "  Token Index: 220\n",
      "  Context: '         '\n",
      "  Activation: 1.476\n",
      "\n",
      "  Token: ' '\n",
      "  Token Index: 220\n",
      "  Context: '         '\n",
      "  Activation: 1.430\n",
      "\n",
      "  Token: ' '\n",
      "  Token Index: 220\n",
      "  Context: '       prohibition).\\n\\n'\n",
      "  Activation: 1.413\n",
      "\n",
      "  Token: ' '\n",
      "  Token Index: 220\n",
      "  Context: '         '\n",
      "  Activation: 1.406\n",
      "\n",
      "  Token: ' '\n",
      "  Token Index: 220\n",
      "  Context: '         '\n",
      "  Activation: 1.362\n",
      "\n",
      "  Token: ' '\n",
      "  Token Index: 220\n",
      "  Context: '      Plaintiffs filed their'\n",
      "  Activation: 1.350\n",
      "\n",
      "  Token: ' '\n",
      "  Token Index: 220\n",
      "  Context: '         '\n",
      "  Activation: 1.284\n",
      "\n",
      "  Token: ' '\n",
      "  Token Index: 220\n",
      "  Context: '       Steven C.'\n",
      "  Activation: 1.284\n",
      "\n",
      "Feature idx:\t57\n",
      "Count:\t\t143\n",
      "  Token: ' un'\n",
      "  Token Index: 555\n",
      "  Context: ' so formed to be unenforceable as'\n",
      "  Activation: 0.412\n",
      "\n",
      "  Token: ' un'\n",
      "  Token Index: 555\n",
      "  Context: 'Since he was completely uninvolved in the accident'\n",
      "  Activation: 0.405\n",
      "\n",
      "  Token: ' un'\n",
      "  Token Index: 555\n",
      "  Context: ' make it illegal or un-Constitutional.'\n",
      "  Activation: 0.385\n",
      "\n",
      "  Token: ' un'\n",
      "  Token Index: 555\n",
      "  Context: ') leave your traffic unsecured. '\n",
      "  Activation: 0.376\n",
      "\n",
      "  Token: ' un'\n",
      "  Token Index: 555\n",
      "  Context: ' difficult for challengers to unseat incumbents,'\n",
      "  Activation: 0.374\n",
      "\n",
      "  Token: ' un'\n",
      "  Token Index: 555\n",
      "  Context: '. While that unspent money is'\n",
      "  Activation: 0.370\n",
      "\n",
      "  Token: ' un'\n",
      "  Token Index: 555\n",
      "  Context: ' among the lower and uneducated classes,\\n'\n",
      "  Activation: 0.337\n",
      "\n",
      "  Token: ' un'\n",
      "  Token Index: 555\n",
      "  Context: ' Yancy court was unsympathetic to'\n",
      "  Activation: 0.328\n",
      "\n",
      "  Token: ' un'\n",
      "  Token Index: 555\n",
      "  Context: ' that unspoken rule — that'\n",
      "  Activation: 0.323\n",
      "\n",
      "  Token: ' un'\n",
      "  Token Index: 555\n",
      "  Context: '\\nAlthough it is unincorporated, Cay'\n",
      "  Activation: 0.319\n",
      "\n",
      "Feature idx:\t58\n",
      "Count:\t\t365440\n",
      "  Token: ' have'\n",
      "  Token Index: 423\n",
      "  Context: ' the only way you have for arriving at a'\n",
      "  Activation: 1.914\n",
      "\n",
      "  Token: ' have'\n",
      "  Token Index: 423\n",
      "  Context: ' though, we do have to acknowledge that the'\n",
      "  Activation: 1.692\n",
      "\n",
      "  Token: ' have'\n",
      "  Token Index: 423\n",
      "  Context: 'iors sitting in front have sinned by starting'\n",
      "  Activation: 1.587\n",
      "\n",
      "  Token: ' '\n",
      "  Token Index: 220\n",
      "  Context: '         '\n",
      "  Activation: 1.579\n",
      "\n",
      "  Token: ' '\n",
      "  Token Index: 220\n",
      "  Context: '         '\n",
      "  Activation: 1.568\n",
      "\n",
      "  Token: ' '\n",
      "  Token Index: 220\n",
      "  Context: '         '\n",
      "  Activation: 1.555\n",
      "\n",
      "  Token: ' '\n",
      "  Token Index: 220\n",
      "  Context: '         '\n",
      "  Activation: 1.536\n",
      "\n",
      "  Token: ' '\n",
      "  Token Index: 220\n",
      "  Context: '         '\n",
      "  Activation: 1.519\n",
      "\n",
      "  Token: ' '\n",
      "  Token Index: 220\n",
      "  Context: '         '\n",
      "  Activation: 1.516\n",
      "\n",
      "  Token: ' '\n",
      "  Token Index: 220\n",
      "  Context: '         '\n",
      "  Activation: 1.505\n",
      "\n",
      "Feature idx:\t62\n",
      "Count:\t\t205602\n",
      "  Token: ' cells'\n",
      "  Token Index: 4778\n",
      "  Context: ' nm). Therefore, cells'\n",
      "  Activation: 1.547\n",
      "\n",
      "  Token: ' respectively'\n",
      "  Token Index: 8148\n",
      "  Context: ' Tokyo, Japan, respectively). The NMR'\n",
      "  Activation: 1.482\n",
      "\n",
      "  Token: ' atoms'\n",
      "  Token Index: 23235\n",
      "  Context: ' were observed by exciting atoms to the long-'\n",
      "  Activation: 1.384\n",
      "\n",
      "  Token: ' size'\n",
      "  Token Index: 2546\n",
      "  Context: ' measurements of weight and size and an estimation of'\n",
      "  Activation: 1.316\n",
      "\n",
      "  Token: ' samples'\n",
      "  Token Index: 8405\n",
      "  Context: 'aux of the dated samples. These data will'\n",
      "  Activation: 1.299\n",
      "\n",
      "  Token: ' pathways'\n",
      "  Token Index: 22963\n",
      "  Context: 'atalyzed reaction pathways. Indeed, based'\n",
      "  Activation: 1.297\n",
      "\n",
      "  Token: ' fractions'\n",
      "  Token Index: 49876\n",
      "  Context: ' used, additional protein fractions in electrophore'\n",
      "  Activation: 1.283\n",
      "\n",
      "  Token: 'orescence'\n",
      "  Token Index: 48699\n",
      "  Context: ' of cells with fluorescence signal in each stained'\n",
      "  Activation: 1.256\n",
      "\n",
      "  Token: ' processors'\n",
      "  Token Index: 20399\n",
      "  Context: 'SB.  These processors include the SSE'\n",
      "  Activation: 1.173\n",
      "\n",
      "  Token: ' strips'\n",
      "  Token Index: 22670\n",
      "  Context: 'nel end point) strips off the overlay header'\n",
      "  Activation: 1.173\n",
      "\n",
      "Feature idx:\t63\n",
      "Count:\t\t97523\n",
      "  Token: '},'\n",
      "  Token Index: 5512\n",
      "  Context: '\" .context }}, {{ .targetVal'\n",
      "  Activation: 2.445\n",
      "\n",
      "  Token: '),'\n",
      "  Token Index: 828\n",
      "  Context: 'sizeof(*map), GFP_K'\n",
      "  Activation: 2.083\n",
      "\n",
      "  Token: ','\n",
      "  Token Index: 11\n",
      "  Context: '([]*Field, v1)\\n'\n",
      "  Activation: 2.052\n",
      "\n",
      "  Token: ' +='\n",
      "  Token Index: 15853\n",
      "  Context: '    response += s;\\n '\n",
      "  Activation: 2.041\n",
      "\n",
      "  Token: ');'\n",
      "  Token Index: 1776\n",
      "  Context: 'Await(false);\\n   '\n",
      "  Activation: 1.977\n",
      "\n",
      "  Token: ' {'\n",
      "  Token Index: 1391\n",
      "  Context: \"()', () => {\\n  expect({\"\n",
      "  Activation: 1.881\n",
      "\n",
      "  Token: ' }'\n",
      "  Token Index: 1782\n",
      "  Context: '     }\\n   '\n",
      "  Activation: 1.871\n",
      "\n",
      "  Token: ')),'\n",
      "  Token Index: 36911\n",
      "  Context: 'inter(_p0)), uintptr(mode'\n",
      "  Activation: 1.845\n",
      "\n",
      "  Token: ','\n",
      "  Token Index: 11\n",
      "  Context: 'format(urlString, apiToken, chat'\n",
      "  Activation: 1.786\n",
      "\n",
      "  Token: ','\n",
      "  Token Index: 11\n",
      "  Context: '.nb_classes,self.payoff'\n",
      "  Activation: 1.775\n",
      "\n"
     ]
    }
   ],
   "source": [
    "print_features(a_feature_dict, a_context_list)"
   ]
  },
  {
   "cell_type": "markdown",
   "id": "dc2fcf27-9890-4f43-a5c3-464c50407187",
   "metadata": {},
   "source": [
    "### Transformer \"features\""
   ]
  },
  {
   "cell_type": "code",
   "execution_count": 88,
   "id": "f9221994-8a0c-4768-b6e3-5182b060ca4d",
   "metadata": {},
   "outputs": [],
   "source": [
    "def get_feature_iterator(feat_dict, ctx_list):\n",
    "    feat_items = list(feat_dict.items())\n",
    "    np.random.shuffle(feat_items)\n",
    "    for feat_idx, info in feat_items:\n",
    "        count = info[0]\n",
    "        if count < 100:\n",
    "            continue\n",
    "        ctxs = sorted(info[1], key=lambda x: x[1], reverse=True)\n",
    "        ctxs = [ctx for ctx in ctxs if ctx[1] > 0]\n",
    "        tokens = []\n",
    "        contexts = []\n",
    "        for context_idx, feature_activation in ctxs[:10]:\n",
    "            token_idx = ctx_list[context_idx][0]\n",
    "            token = enc.decode([token_idx])\n",
    "            context = enc.decode(ctx_list[context_idx][1])\n",
    "            tokens.append(repr(token))\n",
    "            contexts.append(repr(context))\n",
    "        yield tokens, contexts\n",
    "\n",
    "transformer_feature_iterator = get_feature_iterator(t_feature_dict, t_context_list)\n",
    "autoencoder_feature_iterator = get_feature_iterator(a_feature_dict, a_context_list)"
   ]
  },
  {
   "cell_type": "code",
   "execution_count": 85,
   "id": "0d2363f7-75f5-41a2-909d-1c27e7f0d28d",
   "metadata": {},
   "outputs": [
    {
     "name": "stdout",
     "output_type": "stream",
     "text": [
      "512 575\n"
     ]
    }
   ],
   "source": [
    "t_feats = list(transformer_feature_iterator)\n",
    "a_feats = list(autoencoder_feature_iterator)\n",
    "\n",
    "print(len(t_feats), len(a_feats))"
   ]
  },
  {
   "cell_type": "code",
   "execution_count": 89,
   "id": "04e6f76e-6cd2-4e29-bc29-80ed01008b57",
   "metadata": {},
   "outputs": [],
   "source": [
    "t_ratings = []\n",
    "a_ratings = []\n",
    "count = 0"
   ]
  },
  {
   "cell_type": "code",
   "execution_count": 90,
   "id": "3f45c184-1de9-4157-95c3-da020d2ecb8a",
   "metadata": {},
   "outputs": [
    {
     "name": "stdout",
     "output_type": "stream",
     "text": [
      "0\n",
      "'30'\t\t\t' and o.\\n30\\nSuppose 4'\n",
      "'6'\t\t\t'\\n2/(-6) + (48'\n",
      "'4'\t\t\t' -10).\\n4\\nEvaluate'\n",
      "' 4'\t\t\t'5 + 8 - 4 - 4*s'\n",
      "'72'\t\t\t' what is bc972 + -7?'\n",
      "' 23'\t\t\t' = -s - 23. Let t be'\n",
      "' 2'\t\t\t' m a multiple of 2?\\nTrue\\n'\n",
      "'6'\t\t\t'ly chosen) IPv6 address from the range'\n",
      "'9'\t\t\t' + 40176.9'\n",
      "' 17'\t\t\t'). Let o = 1784/3 -'\n"
     ]
    },
    {
     "name": "stdin",
     "output_type": "stream",
     "text": [
      "Rating:  5\n"
     ]
    },
    {
     "name": "stdout",
     "output_type": "stream",
     "text": [
      "1\n",
      "' image'\t\t\t' apparatus in which an image treated with the Roberts'\n",
      "' emitting'\t\t\t's), the light emitting diodes may'\n",
      "' type'\t\t\t'). The site and type of injury were also'\n",
      "'ocol'\t\t\t' possibly per-protocol analysis, the study'\n",
      "' overlay'\t\t\t' end station into an overlay header that transports the'\n",
      "' digital'\t\t\t' of analog signal and digital signals throughout the system'\n",
      "'ayer'\t\t\t' an optical multilayer filter, a method'\n",
      "' bundle'\t\t\t' connection of the forming bundle branches (Miqu'\n",
      "' memory'\t\t\t' specific embodiment, this memoryless mode is used'\n",
      "' size'\t\t\t' coil of the needed size is made, it'\n"
     ]
    },
    {
     "name": "stdin",
     "output_type": "stream",
     "text": [
      "Rating:  4\n"
     ]
    },
    {
     "name": "stdout",
     "output_type": "stream",
     "text": [
      "2\n",
      "' patients'\t\t\t' The nutrient intake of patients receiving maintenance dialysis'\n",
      "' fits'\t\t\t' the accretion rate fits the simulated values very'\n",
      "' obtained'\t\t\t'. The total scores obtained from the scale were'\n",
      "' hoping'\t\t\t' was everything we were hoping for and more.'\n",
      "' attacks'\t\t\t' dealt with more cyber attacks “in the'\n",
      "' out'\t\t\t' the rock, giving out a dull sound;'\n",
      "' patients'\t\t\t' be attempted in all patients.<|endoftext|>Q:'\n",
      "' schedules'\t\t\t' doses plus a booster schedules only (2+'\n",
      "' themselves'\t\t\t' have become event films themselves, often overshadowing'\n",
      "' obtained'\t\t\t' the following results were obtained. 1. Select'\n"
     ]
    },
    {
     "name": "stdin",
     "output_type": "stream",
     "text": [
      "Rating:  3\n"
     ]
    },
    {
     "name": "stdout",
     "output_type": "stream",
     "text": [
      "3\n",
      "'�'\t\t\t'�들은 저'\n",
      "' �'\t\t\t'�� : v 를 �'\n",
      "' �'\t\t\t', 딱 보�'\n",
      "'�'\t\t\t'�망을 �'\n",
      "' �'\t\t\t'�기 바�'\n",
      "'�'\t\t\t'�들의 최'\n",
      "' �'\t\t\t'� 년 동�'\n",
      "' �'\t\t\t'�운 버�'\n",
      "' �'\t\t\t'��의 데이'\n",
      "' �'\t\t\t'가) 디�'\n"
     ]
    },
    {
     "name": "stdin",
     "output_type": "stream",
     "text": [
      "Rating:  5\n"
     ]
    },
    {
     "name": "stdout",
     "output_type": "stream",
     "text": [
      "4\n",
      "')'\t\t\t' ± 1.19)'\n",
      "')'\t\t\t'YCHO, obviously) along with the guilt'\n",
      "')'\t\t\t' (1:1000) rabbit polyclonal'\n",
      "')'\t\t\t' vitamin product(s) provided by *W'\n",
      "')'\t\t\t' α3(V) levels associated with mamm'\n",
      "')'\t\t\t'unit: µm)\\n\\n!['\n",
      "')'\t\t\t' nanoparticles (a) before irradiation ('\n",
      "')'\t\t\t'sqrt(19) + 170\\nSim'\n",
      "')'\t\t\t'muC(V) from \\\\[I'\n",
      "')'\t\t\t' (d. 1951)\\n1895 –'\n"
     ]
    },
    {
     "name": "stdin",
     "output_type": "stream",
     "text": [
      "Rating:  5\n"
     ]
    },
    {
     "name": "stdout",
     "output_type": "stream",
     "text": [
      "5\n",
      "' whereas'\t\t\t'K3 inhibition), whereas in the upstream of'\n",
      "'),'\t\t\t'APK3 inhibition), whereas in the upstream'\n",
      "','\t\t\t' conflicting results. Nevertheless, the studies with statistically'\n",
      "' that'\t\t\t'-infected neurons that expressed TNF-'\n",
      "' and'\t\t\t' *in vitro* and in cell systems indicate'\n",
      "','\t\t\t' by the mitochondria, which released cyto'\n",
      "'],'\t\t\t'00162]\\\\], while *G.'\n",
      "' thus'\t\t\t'\"}). The model thus, until to this'\n",
      "';'\t\t\t' CD-1 mouse; (**C**'\n",
      "','\t\t\t' in several human cancers, including leukem'\n"
     ]
    },
    {
     "name": "stdin",
     "output_type": "stream",
     "text": [
      "Rating:  2\n"
     ]
    },
    {
     "name": "stdout",
     "output_type": "stream",
     "text": [
      "6\n",
      "' I'\t\t\t\", and just because I haven't found anything\"\n",
      "' I'\t\t\t' I want the way I live my life to'\n",
      "' sprint'\t\t\t' started training for a sprint triathlon. I'\n",
      "' Br'\t\t\t'aja’s Brute speak of brutality'\n",
      "' Arch'\t\t\t' the stainless steel Gateway Arch in St. Louis'\n",
      "'Ar'\t\t\t' wireless?\\n<Arrick> Someone needs'\n",
      "' ind'\t\t\t' exemplo, na indústria do'\n",
      "' $'\t\t\t'\\n\\n// setting $st and $tree'\n",
      "'pt'\t\t\t' parties negotiate prenuptial agreements very close'\n",
      "' PC'\t\t\t', not reported; PCA, principal component'\n"
     ]
    },
    {
     "name": "stdin",
     "output_type": "stream",
     "text": [
      "Rating:  1\n"
     ]
    },
    {
     "name": "stdout",
     "output_type": "stream",
     "text": [
      "7\n",
      "' till'\t\t\t' mangel på tillid mellem par'\n",
      "'s'\t\t\t'elig løsning baseret p'\n",
      "'m'\t\t\t' ölümlerin\\nb'\n",
      "'t'\t\t\t' och i framtiden. Vi fr'\n",
      "'ige'\t\t\t'ye Veier villige til å pr'\n",
      "' et'\t\t\t'å nytt etter den fø'\n",
      "'t'\t\t\t' målsætninger, vi'\n",
      "'e'\t\t\t'�nnu inte fallet i m'\n",
      "' d'\t\t\t'ösen, die das Leben Euro'\n",
      "' vill'\t\t\t' Nye Veier villige til å'\n"
     ]
    },
    {
     "name": "stdin",
     "output_type": "stream",
     "text": [
      "Rating:  5\n"
     ]
    },
    {
     "name": "stdout",
     "output_type": "stream",
     "text": [
      "8\n",
      "'je'\t\t\t' euroobligacje są te'\n",
      "','\t\t\t'4, Orc4, Osbpl11'\n",
      "','\t\t\t' qwerty1, most laptops are compatible'\n",
      "','\t\t\t' biggest value in 208, -6, -'\n",
      "' -'\t\t\t'culate -14 - ((-143)/'\n",
      "'),'\t\t\t', Montgomery, USA), p65 (ab'\n",
      "','\t\t\t'11fip3, Rab1a,'\n",
      "' -'\t\t\t')/(6 + -4).\\n-'\n",
      "'00'\t\t\t'a28a2800a28a28'\n",
      "'-'\t\t\t' 5 through a lag-lead filter circuit 4'\n"
     ]
    },
    {
     "name": "stdin",
     "output_type": "stream",
     "text": [
      "Rating:  1\n"
     ]
    },
    {
     "name": "stdout",
     "output_type": "stream",
     "text": [
      "9\n",
      "'17'\t\t\t'00,1291421700 \\n04'\n",
      "'27'\t\t\t'acb224c273897b24'\n",
      "'72'\t\t\t' what is bc972 + -7?'\n",
      "'9'\t\t\t'363c4a9b1601'\n",
      "'22'\t\t\t' progress note 2/22/96, West'\n",
      "' 100'\t\t\t'ToUnits: 100\\n  spriteBorder'\n",
      "' 4'\t\t\t'.  See bug 4697245!\\n'\n",
      "'7'\t\t\t'4, 0x7f0100a5'\n",
      "'28'\t\t\t' minutes after 2:28 PM?\\n12'\n",
      "'12'\t\t\t' \\n04/12/2010 00:'\n"
     ]
    },
    {
     "name": "stdin",
     "output_type": "stream",
     "text": [
      "Rating:  5\n"
     ]
    },
    {
     "name": "stdout",
     "output_type": "stream",
     "text": [
      "10\n",
      "' patients'\t\t\t' be attempted in all patients.<|endoftext|>Q:'\n",
      "' value'\t\t\t'D*\\\\* value under normal growth conditions'\n",
      "' treatment'\t\t\t' to treatment and/or treatment'\n",
      "' poems'\t\t\t' but also, these poems are a rhaps'\n",
      "'rogen'\t\t\t' Carbon monoxide dehydrogenase and the ['\n",
      "' waters'\t\t\t'*) and lotic waters (*E. polit'\n",
      "' Quebec'\t\t\t', which was behind Quebec last year while Ontario'\n",
      "' 15'\t\t\t' to Friday, March 15, 2019 (All'\n",
      "' medals'\t\t\t', winning Connacht medals in 1979 and 1981'\n",
      "' people'\t\t\t' people were fighting over rock'\n"
     ]
    },
    {
     "name": "stdin",
     "output_type": "stream",
     "text": [
      "Rating:  2\n"
     ]
    },
    {
     "name": "stdout",
     "output_type": "stream",
     "text": [
      "11\n",
      "' of'\t\t\t'fulness on the order of $3\\\\%'\n",
      "' of'\t\t\t' are usually the result of several more innocent occurrences'\n",
      "' of'\t\t\t' if one or more of those organisms was/'\n",
      "' of'\t\t\t' benefits for the remainder of 2004. After requesting'\n",
      "' of'\t\t\t', both are capable of being totalitarians'\n",
      "' of'\t\t\t', which extracted some of the cigarette smoke while'\n",
      "' of'\t\t\t' action during the invasion of Poland. The unit'\n",
      "' of'\t\t\t'\\nIn the presence of'\n",
      "' of'\t\t\t' be expected that most of the utterances in'\n",
      "' of'\t\t\t' prevention rather than cure of misuse, and the'\n"
     ]
    },
    {
     "name": "stdin",
     "output_type": "stream",
     "text": [
      "Rating:  5\n"
     ]
    },
    {
     "name": "stdout",
     "output_type": "stream",
     "text": [
      "12\n",
      "')'\t\t\t' areas (NPAs) is related to uncontrolled'\n",
      "','\t\t\t', the suit says, Floyd met with the'\n",
      "','\t\t\t' v. Gerhardt, 206 Wis. 358'\n",
      "','\t\t\t' and ratified in 1949, which with three more'\n",
      "','\t\t\t' Figure 3.17, where we examine the'\n",
      "','\t\t\t', Tokyo, Japan, respectively). The N'\n",
      "','\t\t\t' to higher field scales, only the kink'\n",
      "' is'\t\t\t'3}$, which is an irred'\n",
      "'}'\t\t\t'^{\\\\dagger}_{\\\\sigma'\n",
      "','\t\t\t' of their corporate strategy, to housing developers,'\n"
     ]
    },
    {
     "name": "stdin",
     "output_type": "stream",
     "text": [
      "Rating:  2\n"
     ]
    },
    {
     "name": "stdout",
     "output_type": "stream",
     "text": [
      "13\n",
      "' -'\t\t\t' + 101*v - 5*i +'\n",
      "' +'\t\t\t' -4*h + 3*x,'\n",
      "' +'\t\t\t' -4*b + 3*f -'\n",
      "' +'\t\t\t' -26*b + 167674 = -'\n",
      "' +'\t\t\t' -2*w + s + 1.'\n",
      "' -'\t\t\t' -5*l - 37 + 12 ='\n",
      "' +'\t\t\t' -2*g + 5236. Is'\n",
      "' -'\t\t\t' 10, -f - 2 = t.'\n",
      "' -'\t\t\t' b - 10 = -2*x,'\n",
      "' -'\t\t\t' - 9566 = -12*'\n"
     ]
    },
    {
     "name": "stdin",
     "output_type": "stream",
     "text": [
      "Rating:  5\n"
     ]
    },
    {
     "name": "stdout",
     "output_type": "stream",
     "text": [
      "14\n",
      "' be'\t\t\t' 8. Let y be z(-8).'\n",
      "' be'\t\t\t'5\\nLet r be (-3 - 0'\n",
      "' be'\t\t\t'3). Let u be 1*(2'\n",
      "' be'\t\t\t'l. Let v be u(3).'\n",
      "' be'\t\t\t' h(t) be the second derivative of'\n",
      "' be'\t\t\t'11\\nLet g be (-250)/(-'\n",
      "' be'\t\t\t' c(p) be the first derivative of'\n",
      "' ='\t\t\t'True\\nLet q = -113 + 95'\n",
      "' ='\t\t\t' h(u) = -u + 2'\n",
      "' ='\t\t\t' l(g) = -9*g'\n"
     ]
    },
    {
     "name": "stdin",
     "output_type": "stream",
     "text": [
      "Rating:  5\n"
     ]
    },
    {
     "name": "stdout",
     "output_type": "stream",
     "text": [
      "15\n",
      "' first'\t\t\t'\\n\\nFor the first and second generations of'\n",
      "' Following'\t\t\t'glycan processing. Following negative-selection,'\n",
      "' Here'\t\t\t' a goroutine. Here’s a'\n",
      "' '\t\t\t'igenvalues.\\n\\n    [**'\n",
      "' individuals'\t\t\t'D).  For individuals desiring to jud'\n",
      "','\t\t\t'ence proof. Therefore, $(\\\\mu,'\n",
      "'In'\t\t\t' performed.\\n\\nIn view of the long'\n",
      "' variation'\t\t\t'. By measuring the variation of oscillation amplitude'\n",
      "' '\t\t\t' ---------------------------\\n     '\n",
      "' Among'\t\t\t' the finally study. Among those people, 408'\n"
     ]
    },
    {
     "name": "stdin",
     "output_type": "stream",
     "text": [
      "Rating:  1\n"
     ]
    },
    {
     "name": "stdout",
     "output_type": "stream",
     "text": [
      "16\n",
      "' Ali'\t\t\t'-team coach, Ali Reza Mehr'\n",
      "'b'\t\t\t' [@b21]; [@'\n",
      "'K'\t\t\t' authors in [@KroReiTh'\n",
      "'W'\t\t\t'2009ip; @Waelkens:2008'\n",
      "'ool'\t\t\t'const CSettingBool>((*setting'\n",
      "'ical'\t\t\t'Props[logical'\n",
      "'j'\t\t\t\"t','5','j');\\narray('\"\n",
      "' Mary'\t\t\t'\\ndear Miss Mary had been weak and'\n",
      "'r'\t\t\t'{\\\\lambda}},r,s),\\\\'\n",
      "' she'\t\t\t' death on hearing that she had complained of a'\n"
     ]
    },
    {
     "name": "stdin",
     "output_type": "stream",
     "text": [
      "Rating:  2\n"
     ]
    },
    {
     "name": "stdout",
     "output_type": "stream",
     "text": [
      "17\n",
      "' -'\t\t\t'culate -14 - ((-143)/'\n",
      "' -'\t\t\t')/(6 + -4).\\n-'\n",
      "'rox'\t\t\t'pace\\n<zenrox> whats the least'\n",
      "','\t\t\t' biggest value in 208, -6, -'\n",
      "'frac'\t\t\t'1}dt\\\\frac{dx}{y'\n",
      "'\\n'\t\t\t's &\\\\sim\\n  \\\\frac{'\n",
      "'rox'\t\t\t' hack\\n<zenrox> becides blank'\n",
      "' 69'\t\t\t\" limited only by § 6972(b)'\"\n",
      "' Since'\t\t\t' flunkies. Since mergers generally require'\n",
      "'-'\t\t\t'CI 5.9-36) \\\\[['\n"
     ]
    },
    {
     "name": "stdin",
     "output_type": "stream",
     "text": [
      "Rating:  2\n"
     ]
    },
    {
     "name": "stdout",
     "output_type": "stream",
     "text": [
      "18\n",
      "'�'\t\t\t' “You can’t just requ'\n",
      "'�'\t\t\t'\\nAnd I can’t do that'\n",
      "'�'\t\t\t' 1967 when that year’s Criminal Law'\n",
      "'�'\t\t\t' outcome: I don’t think many'\n",
      "'�'\t\t\t' smoke. I didn’t smoke before'\n",
      "'�'\t\t\t' time. I don’t even know'\n",
      "'�'\t\t\t', so I didn’t make any'\n",
      "'�'\t\t\t'\\nYeah, it’s especially cold'\n",
      "'�'\t\t\t' said that I don’t really care'\n",
      "'�'\t\t\t', my tracks don’t have enough'\n"
     ]
    },
    {
     "name": "stdin",
     "output_type": "stream",
     "text": [
      "Rating:  5\n"
     ]
    },
    {
     "name": "stdout",
     "output_type": "stream",
     "text": [
      "19\n",
      "'ances'\t\t\t'\\ncircumstances attributed to her mother'\n",
      "' residence'\t\t\t\". Bolter's residence is in Tarry\"\n",
      "' granted'\t\t\t'\\n\\n\\nPetition granted and remanded by'\n",
      "' practice'\t\t\t'ice\\n\\nFirst practice \\nKyle Larson'\n",
      "'ination'\t\t\t'.#--Imagination is the power of'\n",
      "' complaint'\t\t\t' week later, the complaint alleges, state party'\n",
      "' support'\t\t\t'. 2004), as support for its decision.'\n",
      "' practice'\t\t\t' .\\n\\nFinal practice \\nDale'\n",
      "' poisoning'\t\t\t' and carbon monoxide poisoning. For 2005,'\n",
      "' attorney'\t\t\t' to the question of attorney fees. While discovery'\n"
     ]
    },
    {
     "name": "stdin",
     "output_type": "stream",
     "text": [
      "Rating:  2\n"
     ]
    },
    {
     "name": "stdout",
     "output_type": "stream",
     "text": [
      "20\n",
      "' '\t\t\t'Image();\\n      };'\n",
      "' '\t\t\t\"cluster',\\n   \"\n",
      "' '\t\t\t'LocationChanged;\\n    }\\n'\n",
      "' '\t\t\t'  return;\\n     '\n",
      "' '\t\t\t' //\\n       '\n",
      "' '\t\t\t' \"text\",\\n     '\n",
      "' '\t\t\t'  }\\n    schema3,'\n",
      "' '\t\t\t\" })\\n    .controller('contact\"\n",
      "' '\t\t\t' [\\n       '\n",
      "' '\t\t\t'  },\\n      '\n"
     ]
    },
    {
     "name": "stdin",
     "output_type": "stream",
     "text": [
      "Rating:  5\n"
     ]
    },
    {
     "name": "stdout",
     "output_type": "stream",
     "text": [
      "21\n",
      "\" '\"\t\t\t\"\\t\\ttype: 'string',\\n\\t\"\n",
      "'://'\t\t\t'up\\n\\nhttps://en.wikipedia.'\n",
      "'/'\t\t\t'pmjs.org/compressible/-'\n",
      "'/'\t\t\t'/tree/master/src/k8'\n",
      "' \"'\t\t\t'     \"kiss carry display unusual'\n",
      "\"('\"\t\t\t\"ByteString.includes('\\\\u0395\"\n",
      "'/'\t\t\t'lemach.si/pdf/navod'\n",
      "'/'\t\t\t'reyaspatil/MaterialDialog/Abstract'\n",
      "'pkg'\t\t\t'imachinery/pkg/runtime\"\\n'\n",
      "'://'\t\t\t' NIT ( http://www.nitlanguage'\n"
     ]
    },
    {
     "name": "stdin",
     "output_type": "stream",
     "text": [
      "Rating:  5\n"
     ]
    },
    {
     "name": "stdout",
     "output_type": "stream",
     "text": [
      "22\n",
      "' goes'\t\t\t'” (he goes\\non more sens'\n",
      "' sought'\t\t\t\" technology. I've sought to widen the Performance\"\n",
      "' seem'\t\t\t'lipperiness would seem a disadvantage, experience'\n",
      "' take'\t\t\t' feeling like they could take their experience elsewhere in'\n",
      "' run'\t\t\t'_iii> will run that now... wish'\n",
      "' be'\t\t\t'ines until you shall be legally discharged ?\\n'\n",
      "' can'\t\t\t'. The acquiring corporation can avoid having to get'\n",
      "' come'\t\t\t' was; he had come from the Stasi'\n",
      "' questions'\t\t\t' computer, will answer questions, help fill out'\n",
      "' go'\t\t\t'van, you can go home for the day'\n"
     ]
    },
    {
     "name": "stdin",
     "output_type": "stream",
     "text": [
      "Rating:  3\n"
     ]
    },
    {
     "name": "stdout",
     "output_type": "stream",
     "text": [
      "23\n",
      "','\t\t\t' 128 of its report, which explains how the'\n",
      "' and'\t\t\t' Green, Blue, and Red Rooms also acquired'\n",
      "' ['\t\t\t'bib27], [@bib28'\n",
      "','\t\t\t' on, and has, subsequently, been allowed'\n",
      "','\t\t\t'\\n\\n\"Oh, I just love this'\n",
      "','\t\t\t' clearly not done so, with serious consequences.'\n",
      "','\t\t\t' low to begin with, they simply tested poorly'\n",
      "' and'\t\t\t's of Germany, and Erich Tsc'\n",
      "' and'\t\t\t' reading, ritual, and emergent documentation.'\n",
      "' ('\t\t\t' Fundamental Physics” (University of Chicago Press'\n"
     ]
    },
    {
     "name": "stdin",
     "output_type": "stream",
     "text": [
      "Rating:  4\n"
     ]
    },
    {
     "name": "stdout",
     "output_type": "stream",
     "text": [
      "24\n",
      "' '\t\t\t' </div>\\n     '\n",
      "' '\t\t\t'</xml>\\n     '\n",
      "' '\t\t\t'\\\\n\",\\n     '\n",
      "' '\t\t\t'  break;\\n     '\n",
      "' '\t\t\t'getInstance();\\n     '\n",
      "' '\t\t\t'         '\n",
      "' '\t\t\t'?error\")\\n     '\n",
      "' '\t\t\t'upSource\"\\n     '\n",
      "' '\t\t\t'         '\n",
      "' '\t\t\t'\\n        '\n"
     ]
    },
    {
     "name": "stdin",
     "output_type": "stream",
     "text": [
      "Rating:  5\n"
     ]
    },
    {
     "name": "stdout",
     "output_type": "stream",
     "text": [
      "25\n",
      "' ,'\t\t\t'ton on Burton_ , ed. Mark Sal'\n",
      "' '\t\t\t').\\n\\n      Due to'\n",
      "' '\t\t\t'         '\n",
      "','\t\t\t'iebuhr, \"Hazards'\n",
      "' '\t\t\t'      III. ASSIGN'\n",
      "' à'\t\t\t' frappèrent à la porte et'\n",
      "' '\t\t\t'\\n\\n      Due to STATE'\n",
      "' '\t\t\t'         '\n",
      "' '\t\t\t'igenvalues.\\n\\n    [**'\n",
      "' '\t\t\t'         '\n"
     ]
    },
    {
     "name": "stdin",
     "output_type": "stream",
     "text": [
      "Rating:  2\n"
     ]
    },
    {
     "name": "stdout",
     "output_type": "stream",
     "text": [
      "26\n",
      "'2'\t\t\t'\\n2\\n\\n2\\n\\nTomatoes'\n",
      "'r'\t\t\t'g kjærligheten bob'\n",
      "'\\n'\t\t\t'ough, Bernard Kay\\n\\n93m\\n'\n",
      "'let'\t\t\t'ligheten boblet i blodet'\n",
      "'Car'\t\t\t'\\n1\\n\\nCarrots\\n\\n2'\n",
      "'\\n'\t\t\t'atoes\\n\\n2\\n\\n2\\n\\n'\n",
      "'M'\t\t\t'fr.\\n\\nMona collabore'\n",
      "'8'\t\t\t'derived,\\n\\n8\\n\\npept'\n",
      "' Me'\t\t\t'\\n Eliete Mejor'\n",
      "'\\n'\t\t\t'\\n\\n2\\n\\n2\\n\\nBro'\n"
     ]
    },
    {
     "name": "stdin",
     "output_type": "stream",
     "text": [
      "Rating:  3\n"
     ]
    },
    {
     "name": "stdout",
     "output_type": "stream",
     "text": [
      "27\n",
      "' obtained'\t\t\t' the following results were obtained. 1. Select'\n",
      "'.'\t\t\t'autuksen. On tarpeen'\n",
      "' differs'\t\t\t' minutes). This result differs from that of previous'\n",
      "' to'\t\t\t'IF antibody was due to the development of insulin'\n",
      "' obtained'\t\t\t'o-Pen readings obtained from various locations,'\n",
      "'oped'\t\t\t' of H. seropedicae recovered from'\n",
      "' amplify'\t\t\t'atin, which can amplify the Raman'\n",
      "' is'\t\t\t'S4] and is activated by addition of'\n",
      "' be'\t\t\t' an amount sufficient to be effective.\\nA'\n",
      "' For'\t\t\t' with specific compounds. For instance, melatonin'\n"
     ]
    },
    {
     "name": "stdin",
     "output_type": "stream",
     "text": [
      "Rating:  1\n"
     ]
    },
    {
     "name": "stdout",
     "output_type": "stream",
     "text": [
      "28\n",
      "' grounded'\t\t\t' fiction has been traditionally grounded. Yet her definition'\n",
      "' fabric'\t\t\t' lying, fabricating evidence, and'\n",
      "'ues'\t\t\t' gather without spawning intrigues worthy of the Prince'\n",
      "' aur'\t\t\t'\\n\"[Il] aurait accepté\".'\n",
      "'otion'\t\t\t' of his\\nemotion. He uttered no'\n",
      "' set'\t\t\t' may be to use set methods:\\n>>>'\n",
      "' toward'\t\t\t' away from, not toward, Lovecraft; it'\n",
      "' account'\t\t\t' out of the trust account. Within three months'\n",
      "'amed'\t\t\t\"f's face beamed with an almost un\"\n",
      "' forgive'\t\t\t' God to understand and forgive me.\\n\\n'\n"
     ]
    },
    {
     "name": "stdin",
     "output_type": "stream",
     "text": [
      "Rating:  1\n"
     ]
    },
    {
     "name": "stdout",
     "output_type": "stream",
     "text": [
      "29\n",
      "'?\"'\t\t\t' me to run in?\" Georgina said.'\n",
      "'?\"'\t\t\t' a little more besides?\"\\n\\nForrest'\n",
      "'?\"'\t\t\t' this week, huh?\" \"To defend my'\n",
      "'.\"'\t\t\t' prisoner, like yourself.\" \"But together,'\n",
      "'.\"'\t\t\t' whose word you trust.\" \"I promise you'\n",
      "' worry'\t\t\t'.\" \"Don\\'t worry, my boy...\"'\n",
      "'!\"'\t\t\t' on him, too!\"\\n\\nJeff pushed'\n",
      "' to'\t\t\t' Together, they went to see the others,'\n",
      "'.\"'\t\t\t' unit ready for Miller.\"\\n\\n\"That'\n",
      "' do'\t\t\t' don\\'t have to do that.\" \" You'\n"
     ]
    },
    {
     "name": "stdin",
     "output_type": "stream",
     "text": [
      "Rating:  2\n"
     ]
    },
    {
     "name": "stdout",
     "output_type": "stream",
     "text": [
      "30\n",
      "' I'\t\t\t\" upon a question that I can't seem\"\n",
      "' I'\t\t\t' an example, suppose I am writing about a'\n",
      "' I'\t\t\t' issues as in Higgins I, II, and'\n",
      "' I'\t\t\t\" a different identity. I don't know what\"\n",
      "' I'\t\t\t'\\nOver the weekend I had been listening to'\n",
      "' I'\t\t\t' people are using? I enjoy gnome-'\n",
      "' I'\t\t\t' with that, that I am constrained in time'\n",
      "' I'\t\t\t' into making decisions that I didn’t'\n",
      "' I'\t\t\t' site. The reason I wanna bring up St'\n",
      "' I'\t\t\t' next time. I feel that this next'\n"
     ]
    },
    {
     "name": "stdin",
     "output_type": "stream",
     "text": [
      "Rating:  5\n"
     ]
    },
    {
     "name": "stdout",
     "output_type": "stream",
     "text": [
      "31\n",
      "' irresistible'\t\t\t'pelled by a sudden irresistible curiosity.\\n\\n'\n",
      "'ill'\t\t\t' and even\\nbrill'\n",
      "' gorgeous'\t\t\t'ren. He was gorgeous with his hair sl'\n",
      "'red'\t\t\t' and especially Gloria Allred,” Trump'\n",
      "' dependent'\t\t\t' only a single position dependent HF coupling was introduced'\n",
      "' resilient'\t\t\t' used strategy must be resilient against abuse. When'\n",
      "' clear'\t\t\t'�s a pretty clear setup in the game'\n",
      "' visible'\t\t\t'. This condition becomes visible only once 250 hours'\n",
      "'ated'\t\t\t' wild tigers are annihilated on the other side'\n",
      "'upid'\t\t\t'<|endoftext|>Neoleleupidia\\n\\nNe'\n"
     ]
    },
    {
     "name": "stdin",
     "output_type": "stream",
     "text": [
      "Rating:  2\n"
     ]
    },
    {
     "name": "stdout",
     "output_type": "stream",
     "text": [
      "32\n",
      "' and'\t\t\t' position in PPP and his faction was liquid'\n",
      "' the'\t\t\t'\\n\\nAccess to the Statement Date for corporate'\n",
      "' and'\t\t\t'.\\n\\nMr and Mrs P G D'\n",
      "' and'\t\t\t' down in the dirt and summoned the best fake'\n",
      "' scraps'\t\t\t' Keckley saved scraps from the dozens of'\n",
      "' and'\t\t\t' the postman knocked and presented him with his'\n",
      "' and'\t\t\t\": Olympic Sex Testing and the Category 'Woman\"\n",
      "' the'\t\t\t' the car. While the Red \"Sens'\n",
      "' Indians'\t\t\t' as the Greeks and Indians and longed for'\n",
      "' granted'\t\t\t'\\n\\n\\nPetition granted and remanded by'\n"
     ]
    },
    {
     "ename": "KeyboardInterrupt",
     "evalue": "Interrupted by user",
     "output_type": "error",
     "traceback": [
      "\u001b[0;31m---------------------------------------------------------------------------\u001b[0m",
      "\u001b[0;31mKeyboardInterrupt\u001b[0m                         Traceback (most recent call last)",
      "Cell \u001b[0;32mIn[90], line 13\u001b[0m\n\u001b[1;32m     11\u001b[0m     \u001b[38;5;28mprint\u001b[39m(\u001b[38;5;124mf\u001b[39m\u001b[38;5;124m\"\u001b[39m\u001b[38;5;132;01m{\u001b[39;00mtoken\u001b[38;5;132;01m}\u001b[39;00m\u001b[38;5;130;01m\\t\u001b[39;00m\u001b[38;5;130;01m\\t\u001b[39;00m\u001b[38;5;130;01m\\t\u001b[39;00m\u001b[38;5;132;01m{\u001b[39;00mctx\u001b[38;5;132;01m}\u001b[39;00m\u001b[38;5;124m\"\u001b[39m)\n\u001b[1;32m     12\u001b[0m count \u001b[38;5;241m+\u001b[39m\u001b[38;5;241m=\u001b[39m \u001b[38;5;241m1\u001b[39m\n\u001b[0;32m---> 13\u001b[0m rating \u001b[38;5;241m=\u001b[39m \u001b[38;5;28;43minput\u001b[39;49m\u001b[43m(\u001b[49m\u001b[38;5;124;43m\"\u001b[39;49m\u001b[38;5;124;43mRating: \u001b[39;49m\u001b[38;5;124;43m\"\u001b[39;49m\u001b[43m)\u001b[49m\n\u001b[1;32m     14\u001b[0m ratings\u001b[38;5;241m.\u001b[39mappend(\u001b[38;5;28mint\u001b[39m(rating))\n",
      "File \u001b[0;32m~/.pyenv/versions/3.10.10/envs/monosemantic/lib/python3.10/site-packages/ipykernel/kernelbase.py:1261\u001b[0m, in \u001b[0;36mKernel.raw_input\u001b[0;34m(self, prompt)\u001b[0m\n\u001b[1;32m   1259\u001b[0m     msg \u001b[38;5;241m=\u001b[39m \u001b[38;5;124m\"\u001b[39m\u001b[38;5;124mraw_input was called, but this frontend does not support input requests.\u001b[39m\u001b[38;5;124m\"\u001b[39m\n\u001b[1;32m   1260\u001b[0m     \u001b[38;5;28;01mraise\u001b[39;00m StdinNotImplementedError(msg)\n\u001b[0;32m-> 1261\u001b[0m \u001b[38;5;28;01mreturn\u001b[39;00m \u001b[38;5;28;43mself\u001b[39;49m\u001b[38;5;241;43m.\u001b[39;49m\u001b[43m_input_request\u001b[49m\u001b[43m(\u001b[49m\n\u001b[1;32m   1262\u001b[0m \u001b[43m    \u001b[49m\u001b[38;5;28;43mstr\u001b[39;49m\u001b[43m(\u001b[49m\u001b[43mprompt\u001b[49m\u001b[43m)\u001b[49m\u001b[43m,\u001b[49m\n\u001b[1;32m   1263\u001b[0m \u001b[43m    \u001b[49m\u001b[38;5;28;43mself\u001b[39;49m\u001b[38;5;241;43m.\u001b[39;49m\u001b[43m_parent_ident\u001b[49m\u001b[43m[\u001b[49m\u001b[38;5;124;43m\"\u001b[39;49m\u001b[38;5;124;43mshell\u001b[39;49m\u001b[38;5;124;43m\"\u001b[39;49m\u001b[43m]\u001b[49m\u001b[43m,\u001b[49m\n\u001b[1;32m   1264\u001b[0m \u001b[43m    \u001b[49m\u001b[38;5;28;43mself\u001b[39;49m\u001b[38;5;241;43m.\u001b[39;49m\u001b[43mget_parent\u001b[49m\u001b[43m(\u001b[49m\u001b[38;5;124;43m\"\u001b[39;49m\u001b[38;5;124;43mshell\u001b[39;49m\u001b[38;5;124;43m\"\u001b[39;49m\u001b[43m)\u001b[49m\u001b[43m,\u001b[49m\n\u001b[1;32m   1265\u001b[0m \u001b[43m    \u001b[49m\u001b[43mpassword\u001b[49m\u001b[38;5;241;43m=\u001b[39;49m\u001b[38;5;28;43;01mFalse\u001b[39;49;00m\u001b[43m,\u001b[49m\n\u001b[1;32m   1266\u001b[0m \u001b[43m\u001b[49m\u001b[43m)\u001b[49m\n",
      "File \u001b[0;32m~/.pyenv/versions/3.10.10/envs/monosemantic/lib/python3.10/site-packages/ipykernel/kernelbase.py:1304\u001b[0m, in \u001b[0;36mKernel._input_request\u001b[0;34m(self, prompt, ident, parent, password)\u001b[0m\n\u001b[1;32m   1301\u001b[0m \u001b[38;5;28;01mexcept\u001b[39;00m \u001b[38;5;167;01mKeyboardInterrupt\u001b[39;00m:\n\u001b[1;32m   1302\u001b[0m     \u001b[38;5;66;03m# re-raise KeyboardInterrupt, to truncate traceback\u001b[39;00m\n\u001b[1;32m   1303\u001b[0m     msg \u001b[38;5;241m=\u001b[39m \u001b[38;5;124m\"\u001b[39m\u001b[38;5;124mInterrupted by user\u001b[39m\u001b[38;5;124m\"\u001b[39m\n\u001b[0;32m-> 1304\u001b[0m     \u001b[38;5;28;01mraise\u001b[39;00m \u001b[38;5;167;01mKeyboardInterrupt\u001b[39;00m(msg) \u001b[38;5;28;01mfrom\u001b[39;00m \u001b[38;5;28;01mNone\u001b[39;00m\n\u001b[1;32m   1305\u001b[0m \u001b[38;5;28;01mexcept\u001b[39;00m \u001b[38;5;167;01mException\u001b[39;00m:\n\u001b[1;32m   1306\u001b[0m     \u001b[38;5;28mself\u001b[39m\u001b[38;5;241m.\u001b[39mlog\u001b[38;5;241m.\u001b[39mwarning(\u001b[38;5;124m\"\u001b[39m\u001b[38;5;124mInvalid Message:\u001b[39m\u001b[38;5;124m\"\u001b[39m, exc_info\u001b[38;5;241m=\u001b[39m\u001b[38;5;28;01mTrue\u001b[39;00m)\n",
      "\u001b[0;31mKeyboardInterrupt\u001b[0m: Interrupted by user"
     ]
    }
   ],
   "source": [
    "while True:\n",
    "    print(count)\n",
    "    if np.random.randint(2):\n",
    "        iterator = transformer_feature_iterator\n",
    "        ratings = t_ratings\n",
    "    else:\n",
    "        iterator = autoencoder_feature_iterator\n",
    "        ratings = a_ratings\n",
    "    tokens, contexts = next(iterator)\n",
    "    for token, ctx in zip(tokens, contexts):\n",
    "        print(f\"{token}\\t\\t\\t{ctx}\")\n",
    "    count += 1\n",
    "    rating = input(\"Rating: \")\n",
    "    ratings.append(int(rating))"
   ]
  },
  {
   "cell_type": "code",
   "execution_count": 91,
   "id": "ba3af7ed-6ad3-4b23-aa4f-f773798ec58c",
   "metadata": {},
   "outputs": [
    {
     "data": {
      "text/plain": [
       "[]"
      ]
     },
     "execution_count": 91,
     "metadata": {},
     "output_type": "execute_result"
    },
    {
     "data": {
      "image/png": "[encoded data removed]",
      "text/plain": [
       "<Figure size 640x480 with 1 Axes>"
      ]
     },
     "metadata": {},
     "output_type": "display_data"
    }
   ],
   "source": [
    "import matplotlib.pyplot as plt\n",
    "\n",
    "plt.hist(t_ratings, color='red', alpha=0.3)\n",
    "plt.hist(a_ratings, color='blue', alpha=0.3)\n",
    "plt.plot()"
   ]
  },
  {
   "cell_type": "code",
   "execution_count": 92,
   "id": "d4d3c0aa-fef1-49a4-929d-40a7e4e65efd",
   "metadata": {},
   "outputs": [
    {
     "data": {
      "text/plain": [
       "([3, 1, 1, 2, 1, 2, 3, 4, 2, 3, 1, 2],\n",
       " [5, 4, 5, 5, 2, 5, 5, 5, 2, 5, 5, 2, 5, 2, 5, 5, 5, 1, 2, 5])"
      ]
     },
     "execution_count": 92,
     "metadata": {},
     "output_type": "execute_result"
    }
   ],
   "source": [
    "t_ratings, a_ratings"
   ]
  },
  {
   "cell_type": "code",
   "execution_count": 5,
   "id": "96587682-1bbc-440a-ba54-47c36ae14fa0",
   "metadata": {},
   "outputs": [
    {
     "name": "stdout",
     "output_type": "stream",
     "text": [
      "{'pile_set_name': 'OpenWebText2'}\n"
     ]
    }
   ],
   "source": [
    "import zstandard as zstd\n",
    "import json\n",
    "\n",
    "# Path to your .jsonl.zst file\n",
    "file_path = '/Volumes/External/EleutherAI_ThePile_v1/pile/val.jsonl.zst'\n",
    "\n",
    "# Open the compressed file\n",
    "with open(file_path, 'rb') as compressed:\n",
    "    dctx = zstd.ZstdDecompressor()\n",
    "    with dctx.stream_reader(compressed) as reader:\n",
    "        while True:\n",
    "            chunk = reader.read(65536)  # Read a chunk of data\n",
    "            if not chunk:\n",
    "                break\n",
    "            # Process chunk (which is a part of your decompressed data)\n",
    "            for line in chunk.splitlines():\n",
    "                json_data = json.loads(line.decode('utf-8'))\n",
    "                break\n",
    "            break\n",
    "                # Process your json_data here"
   ]
  },
  {
   "cell_type": "code",
   "execution_count": 181,
   "id": "b4c15571-aa80-4757-8ec1-3e9817889c4a",
   "metadata": {},
   "outputs": [
    {
     "name": "stdout",
     "output_type": "stream",
     "text": [
      "[main f8ebab5] scripts for using the pile\n",
      " 1 file changed, 404 insertions(+), 4868 deletions(-)\n"
     ]
    }
   ],
   "source": [
    "!git a && git c \"scripts for using the pile\"\n"
   ]
  },
  {
   "cell_type": "code",
   "execution_count": null,
   "id": "c91fc645-1585-4610-8d81-ab88ae8d91f5",
   "metadata": {},
   "outputs": [],
   "source": []
  }
 ],
 "metadata": {
  "kernelspec": {
   "display_name": "Python 3 (ipykernel)",
   "language": "python",
   "name": "python3"
  },
  "language_info": {
   "codemirror_mode": {
    "name": "ipython",
    "version": 3
   },
   "file_extension": ".py",
   "mimetype": "text/x-python",
   "name": "python",
   "nbconvert_exporter": "python",
   "pygments_lexer": "ipython3",
   "version": "3.10.10"
  }
 },
 "nbformat": 4,
 "nbformat_minor": 5
}
